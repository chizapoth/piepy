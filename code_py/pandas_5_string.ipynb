{
 "cells": [
  {
   "metadata": {},
   "cell_type": "markdown",
   "source": "# String operations",
   "id": "44ac6412dc5b7832"
  },
  {
   "metadata": {
    "ExecuteTime": {
     "end_time": "2025-02-12T18:54:43.913203Z",
     "start_time": "2025-02-12T18:54:43.909889Z"
    }
   },
   "cell_type": "code",
   "source": [
    "data = ['peter', 'Paul', 'MARY', 'gUIDO']\n",
    "# with list comprehension. However it breaks when there are missing values\n",
    "[s.capitalize() for s in data]"
   ],
   "id": "48fe80cec767c876",
   "outputs": [
    {
     "data": {
      "text/plain": [
       "['Peter', 'Paul', 'Mary', 'Guido']"
      ]
     },
     "execution_count": 1,
     "metadata": {},
     "output_type": "execute_result"
    }
   ],
   "execution_count": 1
  },
  {
   "metadata": {
    "ExecuteTime": {
     "end_time": "2025-02-12T18:55:47.222007Z",
     "start_time": "2025-02-12T18:55:47.208877Z"
    }
   },
   "cell_type": "code",
   "source": [
    "import pandas as pd\n",
    "names = pd.Series(data)\n",
    "names"
   ],
   "id": "7ae5a1bf5d8d26e1",
   "outputs": [
    {
     "data": {
      "text/plain": [
       "0    peter\n",
       "1     Paul\n",
       "2     MARY\n",
       "3    gUIDO\n",
       "dtype: object"
      ]
     },
     "execution_count": 2,
     "metadata": {},
     "output_type": "execute_result"
    }
   ],
   "execution_count": 2
  },
  {
   "metadata": {
    "ExecuteTime": {
     "end_time": "2025-02-12T18:55:58.850897Z",
     "start_time": "2025-02-12T18:55:58.842165Z"
    }
   },
   "cell_type": "code",
   "source": [
    "# with pandas str attribute\n",
    "names.str.capitalize()"
   ],
   "id": "fac6bb3de46fc27e",
   "outputs": [
    {
     "data": {
      "text/plain": [
       "0    Peter\n",
       "1     Paul\n",
       "2     Mary\n",
       "3    Guido\n",
       "dtype: object"
      ]
     },
     "execution_count": 3,
     "metadata": {},
     "output_type": "execute_result"
    }
   ],
   "execution_count": 3
  },
  {
   "metadata": {
    "ExecuteTime": {
     "end_time": "2025-02-12T18:57:27.414474Z",
     "start_time": "2025-02-12T18:57:27.405093Z"
    }
   },
   "cell_type": "code",
   "source": [
    "# if it's two characters\n",
    "monte = pd.Series(['Graham Chapman', 'John Cleese', 'Terry Gilliam',\n",
    "                   'Eric Idle', 'Terry Jones', 'Michael Palin'])\n",
    "monte"
   ],
   "id": "bca9a9ceccff88e4",
   "outputs": [
    {
     "data": {
      "text/plain": [
       "0    Graham Chapman\n",
       "1       John Cleese\n",
       "2     Terry Gilliam\n",
       "3         Eric Idle\n",
       "4       Terry Jones\n",
       "5     Michael Palin\n",
       "dtype: object"
      ]
     },
     "execution_count": 5,
     "metadata": {},
     "output_type": "execute_result"
    }
   ],
   "execution_count": 5
  },
  {
   "metadata": {
    "ExecuteTime": {
     "end_time": "2025-02-12T18:57:37.781497Z",
     "start_time": "2025-02-12T18:57:37.774271Z"
    }
   },
   "cell_type": "code",
   "source": "monte.str.lower()",
   "id": "a17ca70c3a58e528",
   "outputs": [
    {
     "data": {
      "text/plain": [
       "0    graham chapman\n",
       "1       john cleese\n",
       "2     terry gilliam\n",
       "3         eric idle\n",
       "4       terry jones\n",
       "5     michael palin\n",
       "dtype: object"
      ]
     },
     "execution_count": 6,
     "metadata": {},
     "output_type": "execute_result"
    }
   ],
   "execution_count": 6
  },
  {
   "metadata": {
    "ExecuteTime": {
     "end_time": "2025-02-12T18:57:52.754502Z",
     "start_time": "2025-02-12T18:57:52.749291Z"
    }
   },
   "cell_type": "code",
   "source": "monte.str.len() # this includes the space",
   "id": "c0b9236443e968e",
   "outputs": [
    {
     "data": {
      "text/plain": [
       "0    14\n",
       "1    11\n",
       "2    13\n",
       "3     9\n",
       "4    11\n",
       "5    13\n",
       "dtype: int64"
      ]
     },
     "execution_count": 7,
     "metadata": {},
     "output_type": "execute_result"
    }
   ],
   "execution_count": 7
  },
  {
   "metadata": {
    "ExecuteTime": {
     "end_time": "2025-02-12T18:58:21.816074Z",
     "start_time": "2025-02-12T18:58:21.806974Z"
    }
   },
   "cell_type": "code",
   "source": "monte.str.startswith('T')",
   "id": "a8f5186eaa9dfe79",
   "outputs": [
    {
     "data": {
      "text/plain": [
       "0    False\n",
       "1    False\n",
       "2     True\n",
       "3    False\n",
       "4     True\n",
       "5    False\n",
       "dtype: bool"
      ]
     },
     "execution_count": 8,
     "metadata": {},
     "output_type": "execute_result"
    }
   ],
   "execution_count": 8
  },
  {
   "metadata": {
    "ExecuteTime": {
     "end_time": "2025-02-12T18:58:40.790689Z",
     "start_time": "2025-02-12T18:58:40.784168Z"
    }
   },
   "cell_type": "code",
   "source": "monte[monte.str.startswith('T')] # use masking",
   "id": "c110ec72167d8f38",
   "outputs": [
    {
     "data": {
      "text/plain": [
       "2    Terry Gilliam\n",
       "4      Terry Jones\n",
       "dtype: object"
      ]
     },
     "execution_count": 9,
     "metadata": {},
     "output_type": "execute_result"
    }
   ],
   "execution_count": 9
  },
  {
   "metadata": {
    "ExecuteTime": {
     "end_time": "2025-02-12T18:59:01.342841Z",
     "start_time": "2025-02-12T18:59:01.331340Z"
    }
   },
   "cell_type": "code",
   "source": [
    "# split\n",
    "monte.str.split()"
   ],
   "id": "2e67f24eb677e430",
   "outputs": [
    {
     "data": {
      "text/plain": [
       "0    [Graham, Chapman]\n",
       "1       [John, Cleese]\n",
       "2     [Terry, Gilliam]\n",
       "3         [Eric, Idle]\n",
       "4       [Terry, Jones]\n",
       "5     [Michael, Palin]\n",
       "dtype: object"
      ]
     },
     "execution_count": 10,
     "metadata": {},
     "output_type": "execute_result"
    }
   ],
   "execution_count": 10
  },
  {
   "metadata": {},
   "cell_type": "markdown",
   "source": "## Regular expressions",
   "id": "ab470973b288ae76"
  },
  {
   "metadata": {
    "ExecuteTime": {
     "end_time": "2025-02-12T19:00:07.560602Z",
     "start_time": "2025-02-12T19:00:07.543900Z"
    }
   },
   "cell_type": "code",
   "source": [
    "# extract substring\n",
    "# []: character class\n",
    "# A-Za-z: any upper class A-Z or lower a-z letter\n",
    "# +: one or more of the preceding characters\n",
    "# expand is false: returns a  series instead of a df\n",
    "# this stops at the space\n",
    "\n",
    "monte.str.extract('([A-Za-z]+)', expand=False)"
   ],
   "id": "b7a1eb2939b7ae55",
   "outputs": [
    {
     "data": {
      "text/plain": [
       "0     Graham\n",
       "1       John\n",
       "2      Terry\n",
       "3       Eric\n",
       "4      Terry\n",
       "5    Michael\n",
       "dtype: object"
      ]
     },
     "execution_count": 11,
     "metadata": {},
     "output_type": "execute_result"
    }
   ],
   "execution_count": 11
  },
  {
   "metadata": {
    "ExecuteTime": {
     "end_time": "2025-02-12T19:07:24.617525Z",
     "start_time": "2025-02-12T19:07:24.598878Z"
    }
   },
   "cell_type": "code",
   "source": [
    "df = pd.DataFrame({'text': ['A B', 'C D', 'E   F']})\n",
    "df['extracted'] = df['text'].str.extract('([A-Za-z]+)', expand=False)\n",
    "df"
   ],
   "id": "d2501a88174ac3eb",
   "outputs": [
    {
     "data": {
      "text/plain": [
       "    text extracted\n",
       "0    A B         A\n",
       "1    C D         C\n",
       "2  E   F         E"
      ],
      "text/html": [
       "<div>\n",
       "<style scoped>\n",
       "    .dataframe tbody tr th:only-of-type {\n",
       "        vertical-align: middle;\n",
       "    }\n",
       "\n",
       "    .dataframe tbody tr th {\n",
       "        vertical-align: top;\n",
       "    }\n",
       "\n",
       "    .dataframe thead th {\n",
       "        text-align: right;\n",
       "    }\n",
       "</style>\n",
       "<table border=\"1\" class=\"dataframe\">\n",
       "  <thead>\n",
       "    <tr style=\"text-align: right;\">\n",
       "      <th></th>\n",
       "      <th>text</th>\n",
       "      <th>extracted</th>\n",
       "    </tr>\n",
       "  </thead>\n",
       "  <tbody>\n",
       "    <tr>\n",
       "      <th>0</th>\n",
       "      <td>A B</td>\n",
       "      <td>A</td>\n",
       "    </tr>\n",
       "    <tr>\n",
       "      <th>1</th>\n",
       "      <td>C D</td>\n",
       "      <td>C</td>\n",
       "    </tr>\n",
       "    <tr>\n",
       "      <th>2</th>\n",
       "      <td>E   F</td>\n",
       "      <td>E</td>\n",
       "    </tr>\n",
       "  </tbody>\n",
       "</table>\n",
       "</div>"
      ]
     },
     "execution_count": 12,
     "metadata": {},
     "output_type": "execute_result"
    }
   ],
   "execution_count": 12
  },
  {
   "metadata": {
    "ExecuteTime": {
     "end_time": "2025-02-12T19:07:43.173810Z",
     "start_time": "2025-02-12T19:07:43.168804Z"
    }
   },
   "cell_type": "code",
   "source": [
    "# adding one space after z can solve the problem of space\n",
    "df['extracted'] = df['text'].str.extract('([A-Za-z ]+)', expand=False)\n",
    "df"
   ],
   "id": "58edcfeff649cd26",
   "outputs": [
    {
     "data": {
      "text/plain": [
       "    text extracted\n",
       "0    A B       A B\n",
       "1    C D       C D\n",
       "2  E   F     E   F"
      ],
      "text/html": [
       "<div>\n",
       "<style scoped>\n",
       "    .dataframe tbody tr th:only-of-type {\n",
       "        vertical-align: middle;\n",
       "    }\n",
       "\n",
       "    .dataframe tbody tr th {\n",
       "        vertical-align: top;\n",
       "    }\n",
       "\n",
       "    .dataframe thead th {\n",
       "        text-align: right;\n",
       "    }\n",
       "</style>\n",
       "<table border=\"1\" class=\"dataframe\">\n",
       "  <thead>\n",
       "    <tr style=\"text-align: right;\">\n",
       "      <th></th>\n",
       "      <th>text</th>\n",
       "      <th>extracted</th>\n",
       "    </tr>\n",
       "  </thead>\n",
       "  <tbody>\n",
       "    <tr>\n",
       "      <th>0</th>\n",
       "      <td>A B</td>\n",
       "      <td>A B</td>\n",
       "    </tr>\n",
       "    <tr>\n",
       "      <th>1</th>\n",
       "      <td>C D</td>\n",
       "      <td>C D</td>\n",
       "    </tr>\n",
       "    <tr>\n",
       "      <th>2</th>\n",
       "      <td>E   F</td>\n",
       "      <td>E   F</td>\n",
       "    </tr>\n",
       "  </tbody>\n",
       "</table>\n",
       "</div>"
      ]
     },
     "execution_count": 13,
     "metadata": {},
     "output_type": "execute_result"
    }
   ],
   "execution_count": 13
  },
  {
   "metadata": {
    "ExecuteTime": {
     "end_time": "2025-02-12T19:09:35.426838Z",
     "start_time": "2025-02-12T19:09:35.416381Z"
    }
   },
   "cell_type": "code",
   "source": "monte.str.cat()",
   "id": "4c753625e8b878b2",
   "outputs": [
    {
     "data": {
      "text/plain": [
       "'Graham ChapmanJohn CleeseTerry GilliamEric IdleTerry JonesMichael Palin'"
      ]
     },
     "execution_count": 14,
     "metadata": {},
     "output_type": "execute_result"
    }
   ],
   "execution_count": 14
  },
  {
   "metadata": {
    "ExecuteTime": {
     "end_time": "2025-02-12T19:09:54.733055Z",
     "start_time": "2025-02-12T19:09:54.727551Z"
    }
   },
   "cell_type": "code",
   "source": "monte.str.slice()",
   "id": "b25dc0b88dba06e8",
   "outputs": [
    {
     "data": {
      "text/plain": [
       "0    Graham Chapman\n",
       "1       John Cleese\n",
       "2     Terry Gilliam\n",
       "3         Eric Idle\n",
       "4       Terry Jones\n",
       "5     Michael Palin\n",
       "dtype: object"
      ]
     },
     "execution_count": 15,
     "metadata": {},
     "output_type": "execute_result"
    }
   ],
   "execution_count": 15
  },
  {
   "metadata": {},
   "cell_type": "code",
   "outputs": [],
   "execution_count": null,
   "source": "",
   "id": "bc40082fba8e3093"
  }
 ],
 "metadata": {
  "kernelspec": {
   "display_name": "Python 3",
   "language": "python",
   "name": "python3"
  },
  "language_info": {
   "codemirror_mode": {
    "name": "ipython",
    "version": 2
   },
   "file_extension": ".py",
   "mimetype": "text/x-python",
   "name": "python",
   "nbconvert_exporter": "python",
   "pygments_lexer": "ipython2",
   "version": "2.7.6"
  }
 },
 "nbformat": 4,
 "nbformat_minor": 5
}
