{
 "cells": [
  {
   "metadata": {},
   "cell_type": "markdown",
   "source": [
    "# Numpy: part 1\n",
    "\n",
    "This is the note for Numpy.\n",
    "\n"
   ],
   "id": "fd9931a7c9d45f88"
  },
  {
   "metadata": {},
   "cell_type": "markdown",
   "source": "",
   "id": "bde615ba42c2dea3"
  },
  {
   "metadata": {
    "ExecuteTime": {
     "end_time": "2025-01-22T12:52:52.257073Z",
     "start_time": "2025-01-22T12:52:52.254006Z"
    }
   },
   "cell_type": "code",
   "source": [
    "import numpy as np\n",
    "L = list(range(10))\n",
    "L"
   ],
   "id": "d39eec63155869a7",
   "outputs": [
    {
     "data": {
      "text/plain": [
       "[0, 1, 2, 3, 4, 5, 6, 7, 8, 9]"
      ]
     },
     "execution_count": 1,
     "metadata": {},
     "output_type": "execute_result"
    }
   ],
   "execution_count": 1
  },
  {
   "metadata": {
    "ExecuteTime": {
     "end_time": "2025-01-22T12:52:59.993373Z",
     "start_time": "2025-01-22T12:52:59.989041Z"
    }
   },
   "cell_type": "code",
   "source": [
    "# this is a list\n",
    "type(L)"
   ],
   "id": "3d28287fd919a088",
   "outputs": [
    {
     "data": {
      "text/plain": [
       "list"
      ]
     },
     "execution_count": 2,
     "metadata": {},
     "output_type": "execute_result"
    }
   ],
   "execution_count": 2
  },
  {
   "metadata": {
    "ExecuteTime": {
     "end_time": "2025-01-22T12:53:07.292708Z",
     "start_time": "2025-01-22T12:53:07.289087Z"
    }
   },
   "cell_type": "code",
   "source": [
    "# first element is integer\n",
    "type(L[0])"
   ],
   "id": "105a800f949a00c5",
   "outputs": [
    {
     "data": {
      "text/plain": [
       "int"
      ]
     },
     "execution_count": 3,
     "metadata": {},
     "output_type": "execute_result"
    }
   ],
   "execution_count": 3
  },
  {
   "metadata": {
    "ExecuteTime": {
     "end_time": "2025-01-22T12:54:16.775414Z",
     "start_time": "2025-01-22T12:54:16.762429Z"
    }
   },
   "cell_type": "code",
   "source": [
    "# heterogenoeous list\n",
    "L2 = [True, '2', 3.0, 4]\n",
    "[type(item) for item in L2] # list comprehension"
   ],
   "id": "1821209a91e7a62d",
   "outputs": [
    {
     "data": {
      "text/plain": [
       "[bool, str, float, int]"
      ]
     },
     "execution_count": 4,
     "metadata": {},
     "output_type": "execute_result"
    }
   ],
   "execution_count": 4
  },
  {
   "metadata": {
    "ExecuteTime": {
     "end_time": "2025-01-22T12:59:55.144415Z",
     "start_time": "2025-01-22T12:59:55.138310Z"
    }
   },
   "cell_type": "code",
   "source": [
    "# if not using list comprehesion, it is a bit cumbersome\n",
    "types = []\n",
    "for i in L2:\n",
    "    types.append(type(i))\n",
    "print(types)"
   ],
   "id": "a15c41a90085f2ad",
   "outputs": [
    {
     "name": "stdout",
     "output_type": "stream",
     "text": [
      "[<class 'bool'>, <class 'str'>, <class 'float'>, <class 'int'>]\n"
     ]
    }
   ],
   "execution_count": 11
  },
  {
   "metadata": {},
   "cell_type": "markdown",
   "source": [
    "## Arrays\n",
    "If I do not need mixed type data in the same list, it is easier to use `array` module."
   ],
   "id": "c28cea07988d1e3c"
  },
  {
   "metadata": {
    "ExecuteTime": {
     "end_time": "2025-01-22T13:04:42.284513Z",
     "start_time": "2025-01-22T13:04:42.280902Z"
    }
   },
   "cell_type": "code",
   "source": [
    "# integer array. Array has to contain data of the same type\n",
    "import numpy as np\n",
    "np.array([1, 4, 2, 5, 3])"
   ],
   "id": "c61790f92c74d2d7",
   "outputs": [
    {
     "data": {
      "text/plain": [
       "array([1, 4, 2, 5, 3])"
      ]
     },
     "execution_count": 14,
     "metadata": {},
     "output_type": "execute_result"
    }
   ],
   "execution_count": 14
  },
  {
   "metadata": {
    "ExecuteTime": {
     "end_time": "2025-01-22T13:04:43.238371Z",
     "start_time": "2025-01-22T13:04:43.232400Z"
    }
   },
   "cell_type": "code",
   "source": [
    "# force data type: dtype\n",
    "np.array([1,2,3,4,5], dtype = 'float32')"
   ],
   "id": "1b1b9dc636fe8df0",
   "outputs": [
    {
     "data": {
      "text/plain": [
       "array([1., 2., 3., 4., 5.], dtype=float32)"
      ]
     },
     "execution_count": 15,
     "metadata": {},
     "output_type": "execute_result"
    }
   ],
   "execution_count": 15
  },
  {
   "metadata": {
    "ExecuteTime": {
     "end_time": "2025-01-22T13:05:57.878208Z",
     "start_time": "2025-01-22T13:05:57.872113Z"
    }
   },
   "cell_type": "code",
   "source": [
    "# nested arrays\n",
    "np.array([range(i, i+3) for i in [2,4,6]])"
   ],
   "id": "42957f8889b33c57",
   "outputs": [
    {
     "data": {
      "text/plain": [
       "array([[2, 3, 4],\n",
       "       [4, 5, 6],\n",
       "       [6, 7, 8]])"
      ]
     },
     "execution_count": 16,
     "metadata": {},
     "output_type": "execute_result"
    }
   ],
   "execution_count": 16
  },
  {
   "metadata": {
    "ExecuteTime": {
     "end_time": "2025-01-22T13:07:39.619237Z",
     "start_time": "2025-01-22T13:07:39.609898Z"
    }
   },
   "cell_type": "code",
   "source": [
    "# length 10 integer array with zeros\n",
    "np.zeros(10, dtype=int)"
   ],
   "id": "837bd4b23d32e81",
   "outputs": [
    {
     "data": {
      "text/plain": [
       "array([0, 0, 0, 0, 0, 0, 0, 0, 0, 0])"
      ]
     },
     "execution_count": 17,
     "metadata": {},
     "output_type": "execute_result"
    }
   ],
   "execution_count": 17
  },
  {
   "metadata": {
    "ExecuteTime": {
     "end_time": "2025-01-22T13:10:35.576009Z",
     "start_time": "2025-01-22T13:10:35.564753Z"
    }
   },
   "cell_type": "code",
   "source": [
    "# array with linear sequence\n",
    "np.arange(0, 20, 2) # start, end, step"
   ],
   "id": "4022a5cb7a4044f8",
   "outputs": [
    {
     "data": {
      "text/plain": [
       "array([ 0,  2,  4,  6,  8, 10, 12, 14, 16, 18])"
      ]
     },
     "execution_count": 18,
     "metadata": {},
     "output_type": "execute_result"
    }
   ],
   "execution_count": 18
  },
  {
   "metadata": {
    "ExecuteTime": {
     "end_time": "2025-01-22T13:12:18.269450Z",
     "start_time": "2025-01-22T13:12:18.265858Z"
    }
   },
   "cell_type": "code",
   "source": [
    "# range(3) # this does not print out the list\n",
    "[i for i in range(3)] # use list comprehension"
   ],
   "id": "e02437973db47e41",
   "outputs": [
    {
     "data": {
      "text/plain": [
       "[0, 2, 4, 6, 8, 10, 12, 14, 16, 18]"
      ]
     },
     "execution_count": 22,
     "metadata": {},
     "output_type": "execute_result"
    }
   ],
   "execution_count": 22
  },
  {
   "metadata": {
    "ExecuteTime": {
     "end_time": "2025-01-22T13:11:36.498816Z",
     "start_time": "2025-01-22T13:11:36.495034Z"
    }
   },
   "cell_type": "code",
   "source": "[i for i in range(0, 20, 2)] # this is not an array, it is a list",
   "id": "ccf9af169b7582a2",
   "outputs": [
    {
     "data": {
      "text/plain": [
       "[0, 1, 2]"
      ]
     },
     "execution_count": 21,
     "metadata": {},
     "output_type": "execute_result"
    }
   ],
   "execution_count": 21
  },
  {
   "metadata": {},
   "cell_type": "code",
   "outputs": [],
   "execution_count": null,
   "source": "list(range(0, 20, 2)) # a second way to print out the list",
   "id": "6007485fde25f6b"
  },
  {
   "metadata": {
    "ExecuteTime": {
     "end_time": "2025-01-22T13:14:09.325212Z",
     "start_time": "2025-01-22T13:14:09.315314Z"
    }
   },
   "cell_type": "code",
   "source": "np.linspace(0, 1, 5) # from, end, number of elements",
   "id": "eb24b14dae1c8ddf",
   "outputs": [
    {
     "data": {
      "text/plain": [
       "array([0.  , 0.25, 0.5 , 0.75, 1.  ])"
      ]
     },
     "execution_count": 23,
     "metadata": {},
     "output_type": "execute_result"
    }
   ],
   "execution_count": 23
  },
  {
   "metadata": {},
   "cell_type": "markdown",
   "source": [
    "## Generate random numbers\n",
    "\n"
   ],
   "id": "e1c1d1db7de7ee33"
  },
  {
   "metadata": {
    "ExecuteTime": {
     "end_time": "2025-01-22T13:55:27.732190Z",
     "start_time": "2025-01-22T13:55:27.723626Z"
    }
   },
   "cell_type": "code",
   "source": [
    "# uniformly distributed rv between 0, 1\n",
    "np.random.random((3, 3))"
   ],
   "id": "7208871a6947a793",
   "outputs": [
    {
     "data": {
      "text/plain": [
       "array([[0.92337536, 0.78182167, 0.35270943],\n",
       "       [0.07314655, 0.52112199, 0.72371597],\n",
       "       [0.40264526, 0.1598753 , 0.07403676]])"
      ]
     },
     "execution_count": 36,
     "metadata": {},
     "output_type": "execute_result"
    }
   ],
   "execution_count": 36
  },
  {
   "metadata": {
    "ExecuteTime": {
     "end_time": "2025-01-22T13:43:09.786026Z",
     "start_time": "2025-01-22T13:43:09.778550Z"
    }
   },
   "cell_type": "code",
   "source": [
    "# normally distributed rv with mean 0 sd 1\n",
    "np.random.normal(0, 1, (3, 3))"
   ],
   "id": "237e349274e34283",
   "outputs": [
    {
     "data": {
      "text/plain": [
       "array([[-0.58112598, -0.66739173, -0.03223013],\n",
       "       [-2.92262658, -0.61697541,  5.412998  ],\n",
       "       [ 2.10372867, -0.73515018, -0.87912893]])"
      ]
     },
     "execution_count": 35,
     "metadata": {},
     "output_type": "execute_result"
    }
   ],
   "execution_count": 35
  },
  {
   "metadata": {
    "ExecuteTime": {
     "end_time": "2025-01-22T13:16:53.094954Z",
     "start_time": "2025-01-22T13:16:53.078289Z"
    }
   },
   "cell_type": "code",
   "source": [
    "# random integers in the interval between 0 and 10\n",
    "np.random.randint(0, 10, (3 ,3))"
   ],
   "id": "fd983170fd149ce9",
   "outputs": [
    {
     "data": {
      "text/plain": [
       "array([[2, 9, 2],\n",
       "       [1, 0, 0],\n",
       "       [2, 2, 1]])"
      ]
     },
     "execution_count": 26,
     "metadata": {},
     "output_type": "execute_result"
    }
   ],
   "execution_count": 26
  },
  {
   "metadata": {},
   "cell_type": "markdown",
   "source": [
    "# Manipulation with numpy\n",
    "\n",
    "- size, shape, data types\n",
    "- indexing\n",
    "- slicing\n",
    "- reshaping\n",
    "- joining and spliting"
   ],
   "id": "de73ca5620f13958"
  },
  {
   "metadata": {
    "ExecuteTime": {
     "end_time": "2025-01-22T14:17:43.886348Z",
     "start_time": "2025-01-22T14:17:43.882015Z"
    }
   },
   "cell_type": "code",
   "source": [
    "# create a few arrays\n",
    "np.random.seed(0)\n",
    "\n",
    "x1 = np.random.randint(10, size = 6)\n",
    "x2 = np.random.randint(10, size = (3,4))\n",
    "x3 = np.random.randint(10, size = (3, 4, 5))"
   ],
   "id": "ea43771499b0400c",
   "outputs": [],
   "execution_count": 39
  },
  {
   "metadata": {
    "ExecuteTime": {
     "end_time": "2025-01-22T14:20:29.996632Z",
     "start_time": "2025-01-22T14:20:29.985438Z"
    }
   },
   "cell_type": "code",
   "source": [
    "# dimension, shape, size\n",
    "print(\"x3 ndim \", x3.ndim) # dimension here is not nrow ncol\n",
    "print(\"x3 shape \", x3.shape)\n",
    "print(\"x3 size \", x3.size) # 3 times 4 times 5\n",
    "print(\"x3 data type \", x3.dtype)"
   ],
   "id": "30f3350b7e8a4ab6",
   "outputs": [
    {
     "name": "stdout",
     "output_type": "stream",
     "text": [
      "x3 ndim  3\n",
      "x3 shape  (3, 4, 5)\n",
      "x3 size  60\n",
      "x3 data type  int64\n"
     ]
    }
   ],
   "execution_count": 42
  },
  {
   "metadata": {},
   "cell_type": "markdown",
   "source": [
    "## Array indexing\n",
    "Counting starts from zero, and access the index with square brackets"
   ],
   "id": "e135e6fa93a5f787"
  },
  {
   "metadata": {
    "ExecuteTime": {
     "end_time": "2025-01-22T14:21:29.934401Z",
     "start_time": "2025-01-22T14:21:29.929730Z"
    }
   },
   "cell_type": "code",
   "source": "x1",
   "id": "44c8ed3fd4cd9b8d",
   "outputs": [
    {
     "data": {
      "text/plain": [
       "array([5, 0, 3, 3, 7, 9])"
      ]
     },
     "execution_count": 43,
     "metadata": {},
     "output_type": "execute_result"
    }
   ],
   "execution_count": 43
  },
  {
   "metadata": {
    "ExecuteTime": {
     "end_time": "2025-01-22T14:21:40.056407Z",
     "start_time": "2025-01-22T14:21:40.051907Z"
    }
   },
   "cell_type": "code",
   "source": "x1[0] # for multiple, use [index1, index2]",
   "id": "9fada7b80ad6f7fc",
   "outputs": [
    {
     "data": {
      "text/plain": [
       "np.int64(5)"
      ]
     },
     "execution_count": 44,
     "metadata": {},
     "output_type": "execute_result"
    }
   ],
   "execution_count": 44
  },
  {
   "metadata": {
    "ExecuteTime": {
     "end_time": "2025-01-22T14:22:02.086281Z",
     "start_time": "2025-01-22T14:22:02.083374Z"
    }
   },
   "cell_type": "code",
   "source": [
    "# negative indexing\n",
    "x1[-1]"
   ],
   "id": "2035c8b2c3c23e6c",
   "outputs": [
    {
     "data": {
      "text/plain": [
       "np.int64(9)"
      ]
     },
     "execution_count": 45,
     "metadata": {},
     "output_type": "execute_result"
    }
   ],
   "execution_count": 45
  },
  {
   "metadata": {
    "ExecuteTime": {
     "end_time": "2025-01-22T14:23:08.864974Z",
     "start_time": "2025-01-22T14:23:08.861403Z"
    }
   },
   "cell_type": "code",
   "source": [
    "# multi-dimensional array\n",
    "x2"
   ],
   "id": "69900de3ab8b8a34",
   "outputs": [
    {
     "data": {
      "text/plain": [
       "array([[3, 5, 2, 4],\n",
       "       [7, 6, 8, 8],\n",
       "       [1, 6, 7, 7]])"
      ]
     },
     "execution_count": 47,
     "metadata": {},
     "output_type": "execute_result"
    }
   ],
   "execution_count": 47
  },
  {
   "metadata": {
    "ExecuteTime": {
     "end_time": "2025-01-22T14:23:17.992730Z",
     "start_time": "2025-01-22T14:23:17.973445Z"
    }
   },
   "cell_type": "code",
   "source": "x2[0, 0] # row id, col id",
   "id": "269e1b8c79d823e2",
   "outputs": [
    {
     "data": {
      "text/plain": [
       "np.int64(3)"
      ]
     },
     "execution_count": 48,
     "metadata": {},
     "output_type": "execute_result"
    }
   ],
   "execution_count": 48
  },
  {
   "metadata": {
    "ExecuteTime": {
     "end_time": "2025-01-22T14:24:07.548929Z",
     "start_time": "2025-01-22T14:24:07.543986Z"
    }
   },
   "cell_type": "code",
   "source": [
    "# entire row (array slicing)\n",
    "x2[0, :]"
   ],
   "id": "953842d861b593b",
   "outputs": [
    {
     "data": {
      "text/plain": [
       "array([3, 5, 2, 4])"
      ]
     },
     "execution_count": 50,
     "metadata": {},
     "output_type": "execute_result"
    }
   ],
   "execution_count": 50
  },
  {
   "metadata": {
    "ExecuteTime": {
     "end_time": "2025-01-22T14:24:22.052939Z",
     "start_time": "2025-01-22T14:24:22.049206Z"
    }
   },
   "cell_type": "code",
   "source": [
    "# update value in place\n",
    "x2[0, 0] = 100\n",
    "x2"
   ],
   "id": "d2af52008d6e6efe",
   "outputs": [
    {
     "data": {
      "text/plain": [
       "array([[100,   5,   2,   4],\n",
       "       [  7,   6,   8,   8],\n",
       "       [  1,   6,   7,   7]])"
      ]
     },
     "execution_count": 51,
     "metadata": {},
     "output_type": "execute_result"
    }
   ],
   "execution_count": 51
  },
  {
   "metadata": {},
   "cell_type": "markdown",
   "source": "### Array slicing",
   "id": "c4bbb7bfc61d5f7f"
  },
  {
   "metadata": {
    "ExecuteTime": {
     "end_time": "2025-01-22T14:26:07.981213Z",
     "start_time": "2025-01-22T14:26:07.965963Z"
    }
   },
   "cell_type": "code",
   "source": [
    "x = np.arange(10)\n",
    "x"
   ],
   "id": "c5c84074420a1e59",
   "outputs": [
    {
     "data": {
      "text/plain": [
       "array([0, 1, 2, 3, 4, 5, 6, 7, 8, 9])"
      ]
     },
     "execution_count": 52,
     "metadata": {},
     "output_type": "execute_result"
    }
   ],
   "execution_count": 52
  },
  {
   "metadata": {
    "ExecuteTime": {
     "end_time": "2025-01-22T14:26:13.091803Z",
     "start_time": "2025-01-22T14:26:13.087921Z"
    }
   },
   "cell_type": "code",
   "source": "x[:5] # up to 5 (not including)",
   "id": "39a9cb8280959fc2",
   "outputs": [
    {
     "data": {
      "text/plain": [
       "array([0, 1, 2, 3, 4])"
      ]
     },
     "execution_count": 53,
     "metadata": {},
     "output_type": "execute_result"
    }
   ],
   "execution_count": 53
  },
  {
   "metadata": {
    "ExecuteTime": {
     "end_time": "2025-01-22T14:26:49.646309Z",
     "start_time": "2025-01-22T14:26:49.642332Z"
    }
   },
   "cell_type": "code",
   "source": [
    "# x[5:] # from 5\n",
    "x[4:7]"
   ],
   "id": "94aebf7365109a0f",
   "outputs": [
    {
     "data": {
      "text/plain": [
       "array([4, 5, 6])"
      ]
     },
     "execution_count": 54,
     "metadata": {},
     "output_type": "execute_result"
    }
   ],
   "execution_count": 54
  },
  {
   "metadata": {
    "ExecuteTime": {
     "end_time": "2025-01-22T14:27:30.949443Z",
     "start_time": "2025-01-22T14:27:30.944835Z"
    }
   },
   "cell_type": "code",
   "source": [
    "# every other element (using steps, default is 1)\n",
    "x[::2]"
   ],
   "id": "64625d4426f37af7",
   "outputs": [
    {
     "data": {
      "text/plain": [
       "array([0, 2, 4, 6, 8])"
      ]
     },
     "execution_count": 55,
     "metadata": {},
     "output_type": "execute_result"
    }
   ],
   "execution_count": 55
  },
  {
   "metadata": {
    "ExecuteTime": {
     "end_time": "2025-01-22T14:27:41.356351Z",
     "start_time": "2025-01-22T14:27:41.353043Z"
    }
   },
   "cell_type": "code",
   "source": "x[1::2] # start from index 1",
   "id": "83d106223acb1c33",
   "outputs": [
    {
     "data": {
      "text/plain": [
       "array([1, 3, 5, 7, 9])"
      ]
     },
     "execution_count": 56,
     "metadata": {},
     "output_type": "execute_result"
    }
   ],
   "execution_count": 56
  },
  {
   "metadata": {
    "ExecuteTime": {
     "end_time": "2025-01-22T14:28:04.442113Z",
     "start_time": "2025-01-22T14:28:04.403680Z"
    }
   },
   "cell_type": "code",
   "source": [
    "# reverse the array\n",
    "x[::-1]"
   ],
   "id": "8bf1f446c0219bd6",
   "outputs": [
    {
     "data": {
      "text/plain": [
       "array([9, 8, 7, 6, 5, 4, 3, 2, 1, 0])"
      ]
     },
     "execution_count": 58,
     "metadata": {},
     "output_type": "execute_result"
    }
   ],
   "execution_count": 58
  },
  {
   "metadata": {
    "ExecuteTime": {
     "end_time": "2025-01-22T14:29:07.208412Z",
     "start_time": "2025-01-22T14:29:07.199242Z"
    }
   },
   "cell_type": "code",
   "source": "x2",
   "id": "4a383388acc467e6",
   "outputs": [
    {
     "data": {
      "text/plain": [
       "array([[100,   5,   2,   4],\n",
       "       [  7,   6,   8,   8],\n",
       "       [  1,   6,   7,   7]])"
      ]
     },
     "execution_count": 59,
     "metadata": {},
     "output_type": "execute_result"
    }
   ],
   "execution_count": 59
  },
  {
   "metadata": {
    "ExecuteTime": {
     "end_time": "2025-01-22T14:29:13.556906Z",
     "start_time": "2025-01-22T14:29:13.552150Z"
    }
   },
   "cell_type": "code",
   "source": "x2[:2, :3] # equiv. 0:2, 0:3",
   "id": "b2fcce6922046ac5",
   "outputs": [
    {
     "data": {
      "text/plain": [
       "array([[100,   5,   2],\n",
       "       [  7,   6,   8]])"
      ]
     },
     "execution_count": 60,
     "metadata": {},
     "output_type": "execute_result"
    }
   ],
   "execution_count": 60
  },
  {
   "metadata": {
    "ExecuteTime": {
     "end_time": "2025-01-22T14:30:23.502438Z",
     "start_time": "2025-01-22T14:30:23.488350Z"
    }
   },
   "cell_type": "code",
   "source": "x2[0]# first row, equiv. x2[0, :]",
   "id": "5097418eac7c0a47",
   "outputs": [
    {
     "data": {
      "text/plain": [
       "array([100,   5,   2,   4])"
      ]
     },
     "execution_count": 62,
     "metadata": {},
     "output_type": "execute_result"
    }
   ],
   "execution_count": 62
  },
  {
   "metadata": {},
   "cell_type": "markdown",
   "source": [
    "# Subarrays, copy and no-copy\n",
    "\n",
    "Observe whether the original array changes!!"
   ],
   "id": "e23381a9dea82cc4"
  },
  {
   "metadata": {
    "ExecuteTime": {
     "end_time": "2025-01-22T14:32:27.455328Z",
     "start_time": "2025-01-22T14:32:27.452167Z"
    }
   },
   "cell_type": "code",
   "source": "print(x2)",
   "id": "52d837b69e98be86",
   "outputs": [
    {
     "name": "stdout",
     "output_type": "stream",
     "text": [
      "[[100   5   2   4]\n",
      " [  7   6   8   8]\n",
      " [  1   6   7   7]]\n"
     ]
    }
   ],
   "execution_count": 64
  },
  {
   "metadata": {
    "ExecuteTime": {
     "end_time": "2025-01-22T14:33:02.505854Z",
     "start_time": "2025-01-22T14:33:02.503099Z"
    }
   },
   "cell_type": "code",
   "source": [
    "# extract 2 by 2 subarray\n",
    "x2_sub = x2[0:2, 0:2]\n",
    "print(x2_sub)"
   ],
   "id": "d8a9a0f5750989b8",
   "outputs": [
    {
     "name": "stdout",
     "output_type": "stream",
     "text": [
      "[[100   5]\n",
      " [  7   6]]\n"
     ]
    }
   ],
   "execution_count": 66
  },
  {
   "metadata": {
    "ExecuteTime": {
     "end_time": "2025-01-22T14:33:58.204079Z",
     "start_time": "2025-01-22T14:33:58.199337Z"
    }
   },
   "cell_type": "code",
   "source": [
    "# modify first row into zeros\n",
    "x2_sub[0, :] = [0, 0]\n",
    "print(x2_sub) # modified"
   ],
   "id": "1051117369423f7f",
   "outputs": [
    {
     "name": "stdout",
     "output_type": "stream",
     "text": [
      "[[0 0]\n",
      " [7 6]]\n"
     ]
    }
   ],
   "execution_count": 69
  },
  {
   "metadata": {
    "ExecuteTime": {
     "end_time": "2025-01-22T14:34:19.055130Z",
     "start_time": "2025-01-22T14:34:19.048138Z"
    }
   },
   "cell_type": "code",
   "source": [
    "# check original data, first 2 also modified!\n",
    "print(x2)"
   ],
   "id": "3f5c0021309030c8",
   "outputs": [
    {
     "name": "stdout",
     "output_type": "stream",
     "text": [
      "[[0 0 2 4]\n",
      " [7 6 8 8]\n",
      " [1 6 7 7]]\n"
     ]
    }
   ],
   "execution_count": 70
  },
  {
   "metadata": {
    "ExecuteTime": {
     "end_time": "2025-01-22T14:36:03.378350Z",
     "start_time": "2025-01-22T14:36:03.372430Z"
    }
   },
   "cell_type": "code",
   "source": [
    "# create a copy instead\n",
    "x2_sub_copy = x2[0:2, 0:2].copy()\n",
    "# modify to a different value\n",
    "x2_sub_copy[0, :] = [100, 100]\n",
    "print(x2_sub_copy) # this version has changed\n",
    "print(x2) # check original again"
   ],
   "id": "745dde34b07b2476",
   "outputs": [
    {
     "name": "stdout",
     "output_type": "stream",
     "text": [
      "[[100 100]\n",
      " [  7   6]]\n",
      "[[0 0 2 4]\n",
      " [7 6 8 8]\n",
      " [1 6 7 7]]\n"
     ]
    }
   ],
   "execution_count": 71
  },
  {
   "metadata": {},
   "cell_type": "markdown",
   "source": [
    "# reshaping\n",
    "\n",
    "Put an array into a matrix or higher dimensional array"
   ],
   "id": "efb239915fef498"
  },
  {
   "metadata": {
    "ExecuteTime": {
     "end_time": "2025-01-22T14:39:33.428796Z",
     "start_time": "2025-01-22T14:39:33.424545Z"
    }
   },
   "cell_type": "code",
   "source": [
    "grid = np.arange(1, 10).reshape(3, 3)\n",
    "grid"
   ],
   "id": "fd32b6396e3a8770",
   "outputs": [
    {
     "data": {
      "text/plain": [
       "array([[1, 2, 3],\n",
       "       [4, 5, 6],\n",
       "       [7, 8, 9]])"
      ]
     },
     "execution_count": 74,
     "metadata": {},
     "output_type": "execute_result"
    }
   ],
   "execution_count": 74
  },
  {
   "metadata": {
    "ExecuteTime": {
     "end_time": "2025-01-22T14:43:58.323758Z",
     "start_time": "2025-01-22T14:43:58.320598Z"
    }
   },
   "cell_type": "code",
   "source": [
    "x = np.array([1, 2, 3])\n",
    "# row vector via reshape\n",
    "x.reshape((1, 3)) # one row, 3 column"
   ],
   "id": "4734ba1b3120b007",
   "outputs": [
    {
     "name": "stdout",
     "output_type": "stream",
     "text": [
      "[1 2 3]\n"
     ]
    }
   ],
   "execution_count": 81
  },
  {
   "metadata": {
    "ExecuteTime": {
     "end_time": "2025-01-22T14:44:39.583081Z",
     "start_time": "2025-01-22T14:44:39.580306Z"
    }
   },
   "cell_type": "code",
   "source": [
    "# col reshape\n",
    "xr = x.reshape((3, 1))\n",
    "print(xr)"
   ],
   "id": "d16e563ce6811d4c",
   "outputs": [
    {
     "name": "stdout",
     "output_type": "stream",
     "text": [
      "[[1]\n",
      " [2]\n",
      " [3]]\n"
     ]
    }
   ],
   "execution_count": 87
  },
  {
   "metadata": {},
   "cell_type": "markdown",
   "source": "### Concatenate and splitting arrays",
   "id": "1b0fa457fa7b3efa"
  },
  {
   "metadata": {
    "ExecuteTime": {
     "end_time": "2025-01-23T10:05:28.384991Z",
     "start_time": "2025-01-23T10:05:28.362360Z"
    }
   },
   "cell_type": "code",
   "source": [
    "# array concantenation and splitting\n",
    "x = np.array([1,2,3])\n",
    "y = np.array([4,5,6])\n",
    "np.concatenate([x, y]) # the square brackets remains"
   ],
   "id": "66a406bfad32a4c4",
   "outputs": [
    {
     "data": {
      "text/plain": [
       "array([1, 2, 3, 4, 5, 6])"
      ]
     },
     "execution_count": 88,
     "metadata": {},
     "output_type": "execute_result"
    }
   ],
   "execution_count": 88
  },
  {
   "metadata": {
    "ExecuteTime": {
     "end_time": "2025-01-23T10:07:12.271235Z",
     "start_time": "2025-01-23T10:07:12.268139Z"
    }
   },
   "cell_type": "code",
   "source": [
    "# two dimensional arrays (pay attention to the number of brackets)\n",
    "grid = np.array([[1,2,3],\n",
    "                [4,5,6]])"
   ],
   "id": "5cf7c840c458201e",
   "outputs": [],
   "execution_count": 91
  },
  {
   "metadata": {
    "ExecuteTime": {
     "end_time": "2025-01-23T10:07:47.430430Z",
     "start_time": "2025-01-23T10:07:47.426848Z"
    }
   },
   "cell_type": "code",
   "source": "print(np.concatenate([grid, grid]))",
   "id": "3705a9831d040aab",
   "outputs": [
    {
     "name": "stdout",
     "output_type": "stream",
     "text": [
      "[[1 2 3]\n",
      " [4 5 6]\n",
      " [1 2 3]\n",
      " [4 5 6]]\n"
     ]
    }
   ],
   "execution_count": 93
  },
  {
   "metadata": {
    "ExecuteTime": {
     "end_time": "2025-01-23T10:08:39.916236Z",
     "start_time": "2025-01-23T10:08:39.912782Z"
    }
   },
   "cell_type": "code",
   "source": [
    "# concat along different axis (by row or column)\n",
    "print(np.concatenate([grid, grid], axis = 0))  # by column"
   ],
   "id": "af124e7b925563fe",
   "outputs": [
    {
     "name": "stdout",
     "output_type": "stream",
     "text": [
      "[[1 2 3]\n",
      " [4 5 6]\n",
      " [1 2 3]\n",
      " [4 5 6]]\n"
     ]
    }
   ],
   "execution_count": 94
  },
  {
   "metadata": {
    "ExecuteTime": {
     "end_time": "2025-01-23T10:09:01.671707Z",
     "start_time": "2025-01-23T10:09:01.668038Z"
    }
   },
   "cell_type": "code",
   "source": "print(np.concatenate([grid, grid], axis = 1))  # by row",
   "id": "2f9ddd823e7451ee",
   "outputs": [
    {
     "name": "stdout",
     "output_type": "stream",
     "text": [
      "[[1 2 3 1 2 3]\n",
      " [4 5 6 4 5 6]]\n"
     ]
    }
   ],
   "execution_count": 95
  },
  {
   "metadata": {
    "ExecuteTime": {
     "end_time": "2025-01-23T10:12:27.874729Z",
     "start_time": "2025-01-23T10:12:27.870971Z"
    }
   },
   "cell_type": "code",
   "source": [
    "# alternatively, use np.vstack or np.hstack\n",
    "x2 = x\n",
    "grid2 = np.array([11, 12, 13])\n",
    "print(np.vstack([x2, grid2]) )"
   ],
   "id": "60e0cd84c4c70ffa",
   "outputs": [
    {
     "name": "stdout",
     "output_type": "stream",
     "text": [
      "[[ 1  2  3]\n",
      " [11 12 13]]\n"
     ]
    }
   ],
   "execution_count": 97
  },
  {
   "metadata": {
    "ExecuteTime": {
     "end_time": "2025-01-23T10:14:36.944199Z",
     "start_time": "2025-01-23T10:14:36.938542Z"
    }
   },
   "cell_type": "code",
   "source": [
    "# splitting\n",
    "x = np.arange(10)\n",
    "x1, x2, x3 = np.split(x, [2, 4])\n",
    "print(x1, x2, x3)"
   ],
   "id": "e5c9bd17ec010b18",
   "outputs": [
    {
     "name": "stdout",
     "output_type": "stream",
     "text": [
      "[0 1] [2 3] [4 5 6 7 8 9]\n"
     ]
    }
   ],
   "execution_count": 102
  },
  {
   "metadata": {},
   "cell_type": "markdown",
   "source": "# Indexing\n",
   "id": "f5006a5d07d3ca33"
  },
  {
   "metadata": {
    "ExecuteTime": {
     "end_time": "2025-01-26T14:56:37.987020Z",
     "start_time": "2025-01-26T14:56:37.978861Z"
    }
   },
   "cell_type": "code",
   "source": [
    "rand = np.random.RandomState(42)\n",
    "x = rand.randint(100, size = 10)\n",
    "print(x)"
   ],
   "id": "a48398f547fffc4f",
   "outputs": [
    {
     "name": "stdout",
     "output_type": "stream",
     "text": [
      "[51 92 14 71 60 20 82 86 74 74]\n"
     ]
    }
   ],
   "execution_count": 118
  },
  {
   "metadata": {
    "ExecuteTime": {
     "end_time": "2025-01-26T14:56:58.846064Z",
     "start_time": "2025-01-26T14:56:58.842003Z"
    }
   },
   "cell_type": "code",
   "source": [
    "# access three elements\n",
    "[x[3], x[7], x[2]]"
   ],
   "id": "7a27aab697dd39e6",
   "outputs": [
    {
     "data": {
      "text/plain": [
       "[np.int64(71), np.int64(86), np.int64(14)]"
      ]
     },
     "execution_count": 119,
     "metadata": {},
     "output_type": "execute_result"
    }
   ],
   "execution_count": 119
  },
  {
   "metadata": {
    "ExecuteTime": {
     "end_time": "2025-01-26T14:57:18.506863Z",
     "start_time": "2025-01-26T14:57:18.503361Z"
    }
   },
   "cell_type": "code",
   "source": [
    "# use index\n",
    "ind = [3, 7, 2]\n",
    "x[ind]"
   ],
   "id": "c36b63b259b5e3b8",
   "outputs": [
    {
     "data": {
      "text/plain": [
       "array([71, 86, 14])"
      ]
     },
     "execution_count": 121,
     "metadata": {},
     "output_type": "execute_result"
    }
   ],
   "execution_count": 121
  },
  {
   "metadata": {
    "ExecuteTime": {
     "end_time": "2025-01-26T14:58:22.817861Z",
     "start_time": "2025-01-26T14:58:22.814745Z"
    }
   },
   "cell_type": "code",
   "source": [
    "# higher dimension indexing\n",
    "ind = np.array([[3, 7],[4, 5]])\n",
    "print(x[ind])"
   ],
   "id": "a61f57ec7ebdf951",
   "outputs": [
    {
     "name": "stdout",
     "output_type": "stream",
     "text": [
      "[[71 86]\n",
      " [60 20]]\n"
     ]
    }
   ],
   "execution_count": 124
  },
  {
   "metadata": {},
   "cell_type": "markdown",
   "source": "# Sorting\n",
   "id": "305f936dadf671c2"
  },
  {
   "metadata": {
    "ExecuteTime": {
     "end_time": "2025-01-26T15:03:30.501078Z",
     "start_time": "2025-01-26T15:03:30.497662Z"
    }
   },
   "cell_type": "code",
   "source": [
    "# np.sort, np.argsort\n",
    "x = np.array([2, 1, 4,3,5])\n",
    "np.sort(x)"
   ],
   "id": "b79e1f12df6cf5e",
   "outputs": [
    {
     "data": {
      "text/plain": [
       "array([1, 2, 3, 4, 5])"
      ]
     },
     "execution_count": 130,
     "metadata": {},
     "output_type": "execute_result"
    }
   ],
   "execution_count": 130
  },
  {
   "metadata": {
    "ExecuteTime": {
     "end_time": "2025-01-26T15:02:14.904711Z",
     "start_time": "2025-01-26T15:02:14.901067Z"
    }
   },
   "cell_type": "code",
   "source": [
    "# sort in-place, the sorted values will be saved\n",
    "x.sort()\n",
    "print(x)"
   ],
   "id": "20365b37889f5d11",
   "outputs": [
    {
     "name": "stdout",
     "output_type": "stream",
     "text": [
      "[1 2 3 4 5]\n"
     ]
    }
   ],
   "execution_count": 128
  },
  {
   "metadata": {
    "ExecuteTime": {
     "end_time": "2025-01-26T15:03:32.803824Z",
     "start_time": "2025-01-26T15:03:32.800737Z"
    }
   },
   "cell_type": "code",
   "source": [
    "# if want to keep the index instead of values\n",
    "# note that the values returned are the indices in ascending order\n",
    "x = np.array([2, 1, 4, 3, 5])\n",
    "i = np.argsort(x)\n",
    "print(i)\n",
    "# combine with indexing\n",
    "print(x[i])"
   ],
   "id": "b00ce7d2a0fa371c",
   "outputs": [
    {
     "name": "stdout",
     "output_type": "stream",
     "text": [
      "[1 0 3 2 4]\n"
     ]
    }
   ],
   "execution_count": 131
  },
  {
   "metadata": {
    "ExecuteTime": {
     "end_time": "2025-01-26T15:05:30.987035Z",
     "start_time": "2025-01-26T15:05:30.978751Z"
    }
   },
   "cell_type": "code",
   "source": [
    "# sorting along rows and columns\n",
    "X = rand.randint(low = 0, high = 20, size = 15).reshape(3, 5)"
   ],
   "id": "d3e6b9b90fd1aba5",
   "outputs": [],
   "execution_count": 133
  },
  {
   "metadata": {
    "ExecuteTime": {
     "end_time": "2025-01-26T15:05:35.852569Z",
     "start_time": "2025-01-26T15:05:35.848411Z"
    }
   },
   "cell_type": "code",
   "source": "print(X)",
   "id": "c1640f88c760f10e",
   "outputs": [
    {
     "name": "stdout",
     "output_type": "stream",
     "text": [
      "[[ 3  7  2  1 11]\n",
      " [ 5  1  0 11 11]\n",
      " [16  9 15 14 14]]\n"
     ]
    }
   ],
   "execution_count": 135
  },
  {
   "metadata": {
    "ExecuteTime": {
     "end_time": "2025-01-26T15:06:04.045716Z",
     "start_time": "2025-01-26T15:06:04.042593Z"
    }
   },
   "cell_type": "code",
   "source": [
    "# sort each column\n",
    "print(np.sort(X, axis = 0))"
   ],
   "id": "8581f32755678b0d",
   "outputs": [
    {
     "name": "stdout",
     "output_type": "stream",
     "text": [
      "[[ 3  1  0  1 11]\n",
      " [ 5  7  2 11 11]\n",
      " [16  9 15 14 14]]\n"
     ]
    }
   ],
   "execution_count": 137
  },
  {
   "metadata": {
    "ExecuteTime": {
     "end_time": "2025-01-26T15:07:54.150611Z",
     "start_time": "2025-01-26T15:07:54.141762Z"
    }
   },
   "cell_type": "code",
   "source": "print(np.sort(X, axis = 1)) # by row",
   "id": "969e58599c574561",
   "outputs": [
    {
     "name": "stdout",
     "output_type": "stream",
     "text": [
      "[[ 1  2  3  7 11]\n",
      " [ 0  1  5 11 11]\n",
      " [ 9 14 14 15 16]]\n"
     ]
    }
   ],
   "execution_count": 138
  },
  {
   "metadata": {},
   "cell_type": "code",
   "outputs": [],
   "execution_count": null,
   "source": "",
   "id": "8090e9203e7667c7"
  }
 ],
 "metadata": {
  "kernelspec": {
   "display_name": "Python 3",
   "language": "python",
   "name": "python3"
  },
  "language_info": {
   "codemirror_mode": {
    "name": "ipython",
    "version": 2
   },
   "file_extension": ".py",
   "mimetype": "text/x-python",
   "name": "python",
   "nbconvert_exporter": "python",
   "pygments_lexer": "ipython2",
   "version": "2.7.6"
  }
 },
 "nbformat": 4,
 "nbformat_minor": 5
}
