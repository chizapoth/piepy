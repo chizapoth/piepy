{
 "cells": [
  {
   "cell_type": "code",
   "id": "initial_id",
   "metadata": {
    "collapsed": true,
    "ExecuteTime": {
     "end_time": "2025-01-26T15:11:34.514448Z",
     "start_time": "2025-01-26T15:11:34.512384Z"
    }
   },
   "source": [
    "# knn\n",
    "import numpy as np\n",
    "import matplotlib.pyplot as plt\n",
    "import seaborn; seaborn.set() # plot styling"
   ],
   "outputs": [],
   "execution_count": 1
  },
  {
   "metadata": {
    "ExecuteTime": {
     "end_time": "2025-01-26T15:18:20.971274Z",
     "start_time": "2025-01-26T15:18:20.965212Z"
    }
   },
   "cell_type": "code",
   "source": [
    "rand = np.random.RandomState(42)\n",
    "X = rand.randn(10, 2) # 10 by 2\n",
    "print(X[1:6])\n"
   ],
   "id": "558b6b3537dc9106",
   "outputs": [
    {
     "name": "stdout",
     "output_type": "stream",
     "text": [
      "[[ 0.64768854  1.52302986]\n",
      " [-0.23415337 -0.23413696]\n",
      " [ 1.57921282  0.76743473]\n",
      " [-0.46947439  0.54256004]\n",
      " [-0.46341769 -0.46572975]]\n"
     ]
    }
   ],
   "execution_count": 9
  },
  {
   "metadata": {
    "ExecuteTime": {
     "end_time": "2025-01-26T15:18:23.323098Z",
     "start_time": "2025-01-26T15:18:23.229025Z"
    }
   },
   "cell_type": "code",
   "source": "plt.scatter(X[:, 0], X[:, 1], s = 100); # equiv. x, y # the semicolon is necessary",
   "id": "a04d051cef6a6016",
   "outputs": [
    {
     "data": {
      "text/plain": [
       "<Figure size 640x480 with 1 Axes>"
      ],
      "image/png": "[encoded data removed]"
     },
     "metadata": {},
     "output_type": "display_data"
    }
   ],
   "execution_count": 10
  },
  {
   "metadata": {
    "ExecuteTime": {
     "end_time": "2025-01-26T15:54:32.103260Z",
     "start_time": "2025-01-26T15:54:32.100176Z"
    }
   },
   "cell_type": "code",
   "source": [
    "# compute the distance between points\n",
    "dist_sq = np.sum((X[:, np.newaxis, :] - X[np.newaxis, :, :]) ** 2, axis=-1)"
   ],
   "id": "d969202564123b47",
   "outputs": [],
   "execution_count": 37
  },
  {
   "metadata": {
    "ExecuteTime": {
     "end_time": "2025-01-26T15:23:45.616436Z",
     "start_time": "2025-01-26T15:23:45.612330Z"
    }
   },
   "cell_type": "code",
   "source": [
    "# each pair of points, compute difference in coordinates\n",
    "diff = X[:, np.newaxis, :] - X[np.newaxis, :, :]\n",
    "diff.shape"
   ],
   "id": "39348ba055c2b271",
   "outputs": [
    {
     "data": {
      "text/plain": [
       "(10, 10, 2)"
      ]
     },
     "execution_count": 16,
     "metadata": {},
     "output_type": "execute_result"
    }
   ],
   "execution_count": 16
  },
  {
   "metadata": {},
   "cell_type": "markdown",
   "source": [
    "The three dimensions are these:\n",
    "- (x1 - x1, x1 - x2, ..., x1 - x10) two dimensions\n",
    "- (x2 - x1, x2 - x2, ..., x2 - x10) two dimensions\n",
    "- ...\n",
    "- (x10 - x1, x10 - x2, ... x10 - x10) two dimensions"
   ],
   "id": "d1550d21319150dc"
  },
  {
   "metadata": {
    "ExecuteTime": {
     "end_time": "2025-01-26T15:52:21.657841Z",
     "start_time": "2025-01-26T15:52:21.654328Z"
    }
   },
   "cell_type": "code",
   "source": [
    "print(X[0:2, np.newaxis, :])\n",
    "print(X[np.newaxis, 0:2, :])"
   ],
   "id": "2f51480ea3b6319",
   "outputs": [
    {
     "name": "stdout",
     "output_type": "stream",
     "text": [
      "[[[ 0.49671415 -0.1382643 ]]\n",
      "\n",
      " [[ 0.64768854  1.52302986]]]\n",
      "[[[ 0.49671415 -0.1382643 ]\n",
      "  [ 0.64768854  1.52302986]]]\n"
     ]
    }
   ],
   "execution_count": 35
  },
  {
   "metadata": {
    "ExecuteTime": {
     "end_time": "2025-01-26T15:53:11.442749Z",
     "start_time": "2025-01-26T15:53:11.438038Z"
    }
   },
   "cell_type": "code",
   "source": "X[0:2, np.newaxis, :] - X[np.newaxis, 0:2, :]",
   "id": "df2f7a93d4f2fa13",
   "outputs": [
    {
     "data": {
      "text/plain": [
       "array([[[ 0.        ,  0.        ],\n",
       "        [-0.15097439, -1.66129416]],\n",
       "\n",
       "       [[ 0.15097439,  1.66129416],\n",
       "        [ 0.        ,  0.        ]]])"
      ]
     },
     "execution_count": 36,
     "metadata": {},
     "output_type": "execute_result"
    }
   ],
   "execution_count": 36
  },
  {
   "metadata": {
    "ExecuteTime": {
     "end_time": "2025-01-26T15:24:35.661934Z",
     "start_time": "2025-01-26T15:24:35.656056Z"
    }
   },
   "cell_type": "code",
   "source": [
    "\n",
    "diff[0, 0:2, :]"
   ],
   "id": "bf3c34686093aff7",
   "outputs": [
    {
     "data": {
      "text/plain": [
       "array([[ 0.        ,  0.        ],\n",
       "       [-0.15097439, -1.66129416]])"
      ]
     },
     "execution_count": 19,
     "metadata": {},
     "output_type": "execute_result"
    }
   ],
   "execution_count": 19
  },
  {
   "metadata": {
    "ExecuteTime": {
     "end_time": "2025-01-26T15:25:19.858072Z",
     "start_time": "2025-01-26T15:25:19.853722Z"
    }
   },
   "cell_type": "code",
   "source": "diff[0:2, 0, :]",
   "id": "a3c9d17bbe241755",
   "outputs": [
    {
     "data": {
      "text/plain": [
       "array([[0.        , 0.        ],\n",
       "       [0.15097439, 1.66129416]])"
      ]
     },
     "execution_count": 20,
     "metadata": {},
     "output_type": "execute_result"
    }
   ],
   "execution_count": 20
  },
  {
   "metadata": {
    "ExecuteTime": {
     "end_time": "2025-01-26T15:27:21.610527Z",
     "start_time": "2025-01-26T15:27:21.605587Z"
    }
   },
   "cell_type": "code",
   "source": "X[0,:] - X[1,:] # equiv. X[0]-X[1]",
   "id": "ab2ea78141c4ac5d",
   "outputs": [
    {
     "data": {
      "text/plain": [
       "array([-0.15097439, -1.66129416])"
      ]
     },
     "execution_count": 24,
     "metadata": {},
     "output_type": "execute_result"
    }
   ],
   "execution_count": 24
  },
  {
   "metadata": {
    "ExecuteTime": {
     "end_time": "2025-01-26T15:28:32.379819Z",
     "start_time": "2025-01-26T15:28:32.376821Z"
    }
   },
   "cell_type": "code",
   "source": [
    "sq_diff = diff**2 # squared difference\n",
    "sq_diff.shape"
   ],
   "id": "8215e0eb673f7f4d",
   "outputs": [
    {
     "data": {
      "text/plain": [
       "(10, 10, 2)"
      ]
     },
     "execution_count": 27,
     "metadata": {},
     "output_type": "execute_result"
    }
   ],
   "execution_count": 27
  },
  {
   "metadata": {
    "ExecuteTime": {
     "end_time": "2025-01-26T15:55:37.458413Z",
     "start_time": "2025-01-26T15:55:37.454013Z"
    }
   },
   "cell_type": "code",
   "source": [
    "# sum the coordinate differences\n",
    "# sum(dx^2 + dy^2)\n",
    "dist_sq = sq_diff.sum(-1) # along the last axis\n",
    "print(dist_sq)"
   ],
   "id": "e97a7519bcedf3b5",
   "outputs": [
    {
     "name": "stdout",
     "output_type": "stream",
     "text": [
      "[[ 0.          2.78269154  0.54335891  1.99209409  1.39704208  1.02908678\n",
      "   3.21558012  5.11544438  2.48349371  3.59646588]\n",
      " [ 2.78269154  0.          3.86528037  1.43866148  2.20937405  5.18972184\n",
      "  11.97284091  9.97780959  4.21848073 11.03642483]\n",
      " [ 0.54335891  3.86528037  0.          4.29144278  0.65863421  0.10619735\n",
      "   3.04620829  2.33006147  0.90706436  1.8421786 ]\n",
      " [ 1.99209409  1.43866148  4.29144278  0.          4.24768787  5.69303403\n",
      "   8.97447179 12.68544062  6.92407058 10.93760698]\n",
      " [ 1.39704208  2.20937405  0.65863421  4.24768787  0.          1.016685\n",
      "   6.53729364  2.79682641  0.34736323  4.01381809]\n",
      " [ 1.02908678  5.18972184  0.10619735  5.69303403  1.016685    0.\n",
      "   2.59296332  1.60070601  0.91021937  1.09367707]\n",
      " [ 3.21558012 11.97284091  3.04620829  8.97447179  6.53729364  2.59296332\n",
      "   0.          5.69379866  6.53638556  1.5734461 ]\n",
      " [ 5.11544438  9.97780959  2.33006147 12.68544062  2.79682641  1.60070601\n",
      "   5.69379866  0.          1.27538085  1.3898429 ]\n",
      " [ 2.48349371  4.21848073  0.90706436  6.92407058  0.34736323  0.91021937\n",
      "   6.53638556  1.27538085  0.          2.99196299]\n",
      " [ 3.59646588 11.03642483  1.8421786  10.93760698  4.01381809  1.09367707\n",
      "   1.5734461   1.3898429   2.99196299  0.        ]]\n"
     ]
    }
   ],
   "execution_count": 38
  },
  {
   "metadata": {
    "ExecuteTime": {
     "end_time": "2025-01-26T15:59:56.230952Z",
     "start_time": "2025-01-26T15:59:56.227206Z"
    }
   },
   "cell_type": "code",
   "source": [
    "np.argsort(dist_sq[0]) # distance from point 0\n",
    "print(np.argsort(dist_sq[1]) )# distance from point 1\n",
    "print(dist_sq[1])\n",
    "# 2nd (1) has value 0 - the smallest, hence first place\n",
    "# 4th (3) has value 1.43, hence second place"
   ],
   "id": "d599edfbb2738eea",
   "outputs": [
    {
     "name": "stdout",
     "output_type": "stream",
     "text": [
      "[1 3 4 0 2 8 5 7 9 6]\n",
      "[ 2.78269154  0.          3.86528037  1.43866148  2.20937405  5.18972184\n",
      " 11.97284091  9.97780959  4.21848073 11.03642483]\n"
     ]
    }
   ],
   "execution_count": 43
  },
  {
   "metadata": {
    "ExecuteTime": {
     "end_time": "2025-01-26T15:39:51.487542Z",
     "start_time": "2025-01-26T15:39:51.482081Z"
    }
   },
   "cell_type": "code",
   "source": [
    "# find indices\n",
    "# the first column has elements in order, since 0 distances are on the diagnonal with ascending rows\n",
    "nearest_id = np.argsort(dist_sq, axis = 1) # the index for each row"
   ],
   "id": "58246531f7deba1a",
   "outputs": [
    {
     "data": {
      "text/plain": [
       "array([[0, 2, 5, 4, 3, 8, 1, 6, 9, 7],\n",
       "       [1, 3, 4, 0, 2, 8, 5, 7, 9, 6],\n",
       "       [2, 5, 0, 4, 8, 9, 7, 6, 1, 3],\n",
       "       [3, 1, 0, 4, 2, 5, 8, 6, 9, 7],\n",
       "       [4, 8, 2, 5, 0, 1, 7, 9, 3, 6],\n",
       "       [5, 2, 8, 4, 0, 9, 7, 6, 1, 3],\n",
       "       [6, 9, 5, 2, 0, 7, 8, 4, 3, 1],\n",
       "       [7, 8, 9, 5, 2, 4, 0, 6, 1, 3],\n",
       "       [8, 4, 2, 5, 7, 0, 9, 1, 6, 3],\n",
       "       [9, 5, 7, 6, 2, 8, 0, 4, 3, 1]])"
      ]
     },
     "execution_count": 32,
     "metadata": {},
     "output_type": "execute_result"
    }
   ],
   "execution_count": 32
  },
  {
   "metadata": {
    "ExecuteTime": {
     "end_time": "2025-01-26T16:10:53.369001Z",
     "start_time": "2025-01-26T16:10:53.366510Z"
    }
   },
   "cell_type": "code",
   "source": [
    "K = 2\n",
    "nearest_partition = np.argpartition(dist_sq, K, axis = 1)"
   ],
   "id": "588980ac36a5eec9",
   "outputs": [],
   "execution_count": 51
  },
  {
   "metadata": {
    "ExecuteTime": {
     "end_time": "2025-01-26T16:10:53.835278Z",
     "start_time": "2025-01-26T16:10:53.831950Z"
    }
   },
   "cell_type": "code",
   "source": "nearest_partition",
   "id": "ede353ebe3883075",
   "outputs": [
    {
     "data": {
      "text/plain": [
       "array([[0, 2, 5, 3, 4, 1, 6, 7, 8, 9],\n",
       "       [1, 3, 4, 0, 2, 5, 6, 7, 8, 9],\n",
       "       [2, 5, 0, 3, 4, 1, 6, 7, 8, 9],\n",
       "       [3, 1, 0, 2, 4, 5, 6, 7, 8, 9],\n",
       "       [4, 8, 2, 3, 0, 5, 6, 7, 1, 9],\n",
       "       [5, 2, 8, 3, 4, 0, 6, 7, 1, 9],\n",
       "       [6, 9, 5, 3, 4, 2, 0, 7, 8, 1],\n",
       "       [7, 8, 9, 3, 4, 5, 6, 0, 1, 2],\n",
       "       [8, 4, 2, 3, 1, 5, 6, 7, 0, 9],\n",
       "       [9, 5, 7, 3, 4, 1, 6, 2, 8, 0]])"
      ]
     },
     "execution_count": 52,
     "metadata": {},
     "output_type": "execute_result"
    }
   ],
   "execution_count": 52
  },
  {
   "metadata": {
    "ExecuteTime": {
     "end_time": "2025-01-26T16:15:57.505370Z",
     "start_time": "2025-01-26T16:15:57.396261Z"
    }
   },
   "cell_type": "code",
   "source": [
    "plt.scatter(X[:, 0], X[:, 1], s=100)\n",
    "\n",
    "# draw lines from each point to its two nearest neighbors\n",
    "K = 2\n",
    "\n",
    "for i in range(X.shape[0]):\n",
    "    for j in nearest_partition[i, :K+1]:\n",
    "        # ith row, k+1 because K selecting 0:1 only gives 0\n",
    "        # plot a line from X[i] to X[j]\n",
    "        # use some zip magic to make it happen:\n",
    "        plt.plot(*zip(X[j], X[i]), color='black')"
   ],
   "id": "89e6f8d04bcf867a",
   "outputs": [
    {
     "data": {
      "text/plain": [
       "<Figure size 640x480 with 1 Axes>"
      ],
      "image/png": "[encoded data removed]"
     },
     "metadata": {},
     "output_type": "display_data"
    }
   ],
   "execution_count": 58
  },
  {
   "metadata": {},
   "cell_type": "code",
   "outputs": [],
   "execution_count": null,
   "source": "",
   "id": "e19702879b05cc47"
  }
 ],
 "metadata": {
  "kernelspec": {
   "display_name": "Python 3",
   "language": "python",
   "name": "python3"
  },
  "language_info": {
   "codemirror_mode": {
    "name": "ipython",
    "version": 2
   },
   "file_extension": ".py",
   "mimetype": "text/x-python",
   "name": "python",
   "nbconvert_exporter": "python",
   "pygments_lexer": "ipython2",
   "version": "2.7.6"
  }
 },
 "nbformat": 4,
 "nbformat_minor": 5
}
