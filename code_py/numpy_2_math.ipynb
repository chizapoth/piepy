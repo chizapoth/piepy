{
 "cells": [
  {
   "metadata": {},
   "cell_type": "markdown",
   "source": [
    "# Math operations, aggregation\n",
    "\n"
   ],
   "id": "daa28cbe3f2422ad"
  },
  {
   "metadata": {
    "ExecuteTime": {
     "end_time": "2025-01-23T10:21:15.655423Z",
     "start_time": "2025-01-23T10:21:15.570109Z"
    }
   },
   "cell_type": "code",
   "source": [
    "import numpy as np\n",
    "\n",
    "# vectorized computation, vec / vec\n",
    "np.arange(5)/np.arange(1, 6)"
   ],
   "id": "119d480f293ab8b9",
   "outputs": [
    {
     "data": {
      "text/plain": [
       "array([0.        , 0.5       , 0.66666667, 0.75      , 0.8       ])"
      ]
     },
     "execution_count": 2,
     "metadata": {},
     "output_type": "execute_result"
    }
   ],
   "execution_count": 2
  },
  {
   "metadata": {
    "ExecuteTime": {
     "end_time": "2025-01-23T10:22:46.651811Z",
     "start_time": "2025-01-23T10:22:46.644341Z"
    }
   },
   "cell_type": "code",
   "source": [
    "# arithmetics\n",
    "x = np.arange(5)\n",
    "-x # negation"
   ],
   "id": "56b07c2cbb27b124",
   "outputs": [
    {
     "data": {
      "text/plain": [
       "array([ 0, -1, -2, -3, -4])"
      ]
     },
     "execution_count": 3,
     "metadata": {},
     "output_type": "execute_result"
    }
   ],
   "execution_count": 3
  },
  {
   "metadata": {
    "ExecuteTime": {
     "end_time": "2025-01-23T10:24:20.491555Z",
     "start_time": "2025-01-23T10:24:20.485251Z"
    }
   },
   "cell_type": "code",
   "source": "x **2 # exponentiation",
   "id": "e121b271eba69a21",
   "outputs": [
    {
     "data": {
      "text/plain": [
       "array([ 0,  1,  4,  9, 16])"
      ]
     },
     "execution_count": 6,
     "metadata": {},
     "output_type": "execute_result"
    }
   ],
   "execution_count": 6
  },
  {
   "metadata": {
    "ExecuteTime": {
     "end_time": "2025-01-23T10:24:21.955911Z",
     "start_time": "2025-01-23T10:24:21.950298Z"
    }
   },
   "cell_type": "code",
   "source": [
    "# + operator; add function\n",
    "np.add(x, 2)"
   ],
   "id": "4404f1dd9e9f7119",
   "outputs": [
    {
     "data": {
      "text/plain": [
       "array([2, 3, 4, 5, 6])"
      ]
     },
     "execution_count": 7,
     "metadata": {},
     "output_type": "execute_result"
    }
   ],
   "execution_count": 7
  },
  {
   "metadata": {
    "ExecuteTime": {
     "end_time": "2025-01-23T10:24:42.935126Z",
     "start_time": "2025-01-23T10:24:42.928180Z"
    }
   },
   "cell_type": "code",
   "source": [
    "# modulus (remainder) %\n",
    "x % 3"
   ],
   "id": "7563c957de058d1d",
   "outputs": [
    {
     "data": {
      "text/plain": [
       "array([0, 1, 2, 0, 1])"
      ]
     },
     "execution_count": 9,
     "metadata": {},
     "output_type": "execute_result"
    }
   ],
   "execution_count": 9
  },
  {
   "metadata": {
    "ExecuteTime": {
     "end_time": "2025-01-23T10:25:23.871870Z",
     "start_time": "2025-01-23T10:25:23.865380Z"
    }
   },
   "cell_type": "code",
   "source": [
    "# absolute value\n",
    "abs(np.arange(-3, 3)) # equiv: np.absolute, np.abs"
   ],
   "id": "5e2a30694bda8b87",
   "outputs": [
    {
     "data": {
      "text/plain": [
       "array([3, 2, 1, 0, 1, 2])"
      ]
     },
     "execution_count": 10,
     "metadata": {},
     "output_type": "execute_result"
    }
   ],
   "execution_count": 10
  },
  {
   "metadata": {
    "ExecuteTime": {
     "end_time": "2025-01-23T10:27:01.289492Z",
     "start_time": "2025-01-23T10:27:01.272388Z"
    }
   },
   "cell_type": "code",
   "source": [
    "# exponents and logs\n",
    "x = [1, 2, 3] # this is a list\n",
    "np.exp(x) # e^1, e^2, e^3"
   ],
   "id": "a4aafbcf87d1e030",
   "outputs": [
    {
     "data": {
      "text/plain": [
       "array([ 2.71828183,  7.3890561 , 20.08553692])"
      ]
     },
     "execution_count": 11,
     "metadata": {},
     "output_type": "execute_result"
    }
   ],
   "execution_count": 11
  },
  {
   "metadata": {
    "ExecuteTime": {
     "end_time": "2025-01-23T10:27:20.457896Z",
     "start_time": "2025-01-23T10:27:20.441374Z"
    }
   },
   "cell_type": "code",
   "source": "np.power(3, x) # 3^1, 3^2, 3^3",
   "id": "9b91038f59ddd45d",
   "outputs": [
    {
     "data": {
      "text/plain": [
       "array([ 3,  9, 27])"
      ]
     },
     "execution_count": 13,
     "metadata": {},
     "output_type": "execute_result"
    }
   ],
   "execution_count": 13
  },
  {
   "metadata": {
    "ExecuteTime": {
     "end_time": "2025-01-23T10:28:44.805338Z",
     "start_time": "2025-01-23T10:28:44.792981Z"
    }
   },
   "cell_type": "code",
   "source": [
    "x = [1,2,4,10]\n",
    "np.log(x) # natural log"
   ],
   "id": "932999209dde52b0",
   "outputs": [
    {
     "data": {
      "text/plain": [
       "array([0.        , 1.        , 2.        , 3.32192809])"
      ]
     },
     "execution_count": 14,
     "metadata": {},
     "output_type": "execute_result"
    }
   ],
   "execution_count": 14
  },
  {
   "metadata": {
    "ExecuteTime": {
     "end_time": "2025-01-23T10:28:52.874073Z",
     "start_time": "2025-01-23T10:28:52.871445Z"
    }
   },
   "cell_type": "code",
   "source": "np.log2(x) # base 2",
   "id": "dd4a17734559ba1f",
   "outputs": [
    {
     "data": {
      "text/plain": [
       "array([0.        , 1.        , 2.        , 3.32192809])"
      ]
     },
     "execution_count": 15,
     "metadata": {},
     "output_type": "execute_result"
    }
   ],
   "execution_count": 15
  },
  {
   "metadata": {
    "ExecuteTime": {
     "end_time": "2025-01-23T10:28:57.012151Z",
     "start_time": "2025-01-23T10:28:57.008128Z"
    }
   },
   "cell_type": "code",
   "source": "np.log10(x) # base 10\n",
   "id": "e231b72c6849702e",
   "outputs": [
    {
     "data": {
      "text/plain": [
       "array([0.        , 0.30103   , 0.60205999, 1.        ])"
      ]
     },
     "execution_count": 16,
     "metadata": {},
     "output_type": "execute_result"
    }
   ],
   "execution_count": 16
  },
  {
   "metadata": {},
   "cell_type": "markdown",
   "source": "### Reduce and accumulate",
   "id": "25e6a326915ac137"
  },
  {
   "metadata": {
    "ExecuteTime": {
     "end_time": "2025-01-23T10:31:52.230816Z",
     "start_time": "2025-01-23T10:31:52.222341Z"
    }
   },
   "cell_type": "code",
   "source": "np.arange(1, 6)",
   "id": "3c37aec6acb5071d",
   "outputs": [
    {
     "data": {
      "text/plain": [
       "array([1, 2, 3, 4, 5])"
      ]
     },
     "execution_count": 17,
     "metadata": {},
     "output_type": "execute_result"
    }
   ],
   "execution_count": 17
  },
  {
   "metadata": {
    "ExecuteTime": {
     "end_time": "2025-01-23T10:32:24.965319Z",
     "start_time": "2025-01-23T10:32:24.961860Z"
    }
   },
   "cell_type": "code",
   "source": "np.add.reduce(np.arange(1, 6)) # add 1 to 5",
   "id": "4b58c6958fc2796d",
   "outputs": [
    {
     "data": {
      "text/plain": [
       "np.int64(15)"
      ]
     },
     "execution_count": 18,
     "metadata": {},
     "output_type": "execute_result"
    }
   ],
   "execution_count": 18
  },
  {
   "metadata": {
    "ExecuteTime": {
     "end_time": "2025-01-23T10:32:47.752077Z",
     "start_time": "2025-01-23T10:32:47.746137Z"
    }
   },
   "cell_type": "code",
   "source": "np.multiply.reduce(np.arange(1, 6)) # multiply 1 to 5\n",
   "id": "f942227607667d99",
   "outputs": [
    {
     "data": {
      "text/plain": [
       "np.int64(120)"
      ]
     },
     "execution_count": 19,
     "metadata": {},
     "output_type": "execute_result"
    }
   ],
   "execution_count": 19
  },
  {
   "metadata": {
    "ExecuteTime": {
     "end_time": "2025-01-23T10:34:12.486474Z",
     "start_time": "2025-01-23T10:34:12.476997Z"
    }
   },
   "cell_type": "code",
   "source": [
    "# instead of reduce, use accumulate\n",
    "np.add.accumulate(np.arange(1, 6))"
   ],
   "id": "db4c599611415ed",
   "outputs": [
    {
     "data": {
      "text/plain": [
       "array([ 1,  3,  6, 10, 15])"
      ]
     },
     "execution_count": 20,
     "metadata": {},
     "output_type": "execute_result"
    }
   ],
   "execution_count": 20
  },
  {
   "metadata": {
    "ExecuteTime": {
     "end_time": "2025-01-23T10:34:25.184872Z",
     "start_time": "2025-01-23T10:34:25.179971Z"
    }
   },
   "cell_type": "code",
   "source": "np.multiply.accumulate(np.arange(1, 6)) # add 1 to 5\n",
   "id": "95ad3fea496c7a77",
   "outputs": [
    {
     "data": {
      "text/plain": [
       "array([  1,   2,   6,  24, 120])"
      ]
     },
     "execution_count": 21,
     "metadata": {},
     "output_type": "execute_result"
    }
   ],
   "execution_count": 21
  },
  {
   "metadata": {},
   "cell_type": "markdown",
   "source": [
    "# Aggregates\n",
    "\n",
    "### Sum the values in an array\n",
    "There are two ways to compute aggregates (sum, min, max etc): either with python built in `sum()`, or with numpy `np.sum()`. The latter is much faster."
   ],
   "id": "9f92e3392caf1df8"
  },
  {
   "metadata": {
    "ExecuteTime": {
     "end_time": "2025-01-23T10:40:02.713765Z",
     "start_time": "2025-01-23T10:39:45.059542Z"
    }
   },
   "cell_type": "code",
   "source": [
    "#big_array = np.random.rand(1000000)\n",
    "#%timeit sum(big_array) # 41 ms\n",
    "#%timeit np.sum(big_array) # 176 us # much faster with np.sum"
   ],
   "id": "ddb87c92123eb657",
   "outputs": [
    {
     "name": "stdout",
     "output_type": "stream",
     "text": [
      "41.2 ms ± 1.52 ms per loop (mean ± std. dev. of 7 runs, 10 loops each)\n",
      "176 μs ± 343 ns per loop (mean ± std. dev. of 7 runs, 10,000 loops each)\n"
     ]
    }
   ],
   "execution_count": 22
  },
  {
   "metadata": {},
   "cell_type": "markdown",
   "source": "### Multi dimensional aggregates\n",
   "id": "7f7812d197f72cee"
  },
  {
   "metadata": {
    "ExecuteTime": {
     "end_time": "2025-01-23T10:50:59.823656Z",
     "start_time": "2025-01-23T10:50:59.817010Z"
    }
   },
   "cell_type": "code",
   "source": [
    "np.random.seed(1)\n",
    "mat = np.random.random((3, 4))\n",
    "mat"
   ],
   "id": "e4ef83eb8c2aadf6",
   "outputs": [
    {
     "data": {
      "text/plain": [
       "array([[4.17022005e-01, 7.20324493e-01, 1.14374817e-04, 3.02332573e-01],\n",
       "       [1.46755891e-01, 9.23385948e-02, 1.86260211e-01, 3.45560727e-01],\n",
       "       [3.96767474e-01, 5.38816734e-01, 4.19194514e-01, 6.85219500e-01]])"
      ]
     },
     "execution_count": 31,
     "metadata": {},
     "output_type": "execute_result"
    }
   ],
   "execution_count": 31
  },
  {
   "metadata": {
    "ExecuteTime": {
     "end_time": "2025-01-23T10:51:01.052101Z",
     "start_time": "2025-01-23T10:51:01.047459Z"
    }
   },
   "cell_type": "code",
   "source": "mat.sum() # sum of all values, this is different from sum(mat)!",
   "id": "417958ea4523c9d2",
   "outputs": [
    {
     "data": {
      "text/plain": [
       "np.float64(4.250707092634627)"
      ]
     },
     "execution_count": 32,
     "metadata": {},
     "output_type": "execute_result"
    }
   ],
   "execution_count": 32
  },
  {
   "metadata": {
    "ExecuteTime": {
     "end_time": "2025-01-23T10:51:01.656853Z",
     "start_time": "2025-01-23T10:51:01.650851Z"
    }
   },
   "cell_type": "code",
   "source": "np.sum(mat)",
   "id": "1cadde7b22aae3a7",
   "outputs": [
    {
     "data": {
      "text/plain": [
       "np.float64(4.250707092634627)"
      ]
     },
     "execution_count": 33,
     "metadata": {},
     "output_type": "execute_result"
    }
   ],
   "execution_count": 33
  },
  {
   "metadata": {
    "ExecuteTime": {
     "end_time": "2025-01-23T10:51:02.189555Z",
     "start_time": "2025-01-23T10:51:02.184615Z"
    }
   },
   "cell_type": "code",
   "source": "sum(mat) # equivalent to sum by row",
   "id": "cb38bf8f25fcb3ac",
   "outputs": [
    {
     "data": {
      "text/plain": [
       "array([0.96054537, 1.35147982, 0.6055691 , 1.3331128 ])"
      ]
     },
     "execution_count": 34,
     "metadata": {},
     "output_type": "execute_result"
    }
   ],
   "execution_count": 34
  },
  {
   "metadata": {
    "ExecuteTime": {
     "end_time": "2025-01-23T10:51:03.046956Z",
     "start_time": "2025-01-23T10:51:03.042537Z"
    }
   },
   "cell_type": "code",
   "source": "mat.sum(axis = 0)",
   "id": "e16348ca963d18bc",
   "outputs": [
    {
     "data": {
      "text/plain": [
       "array([0.96054537, 1.35147982, 0.6055691 , 1.3331128 ])"
      ]
     },
     "execution_count": 35,
     "metadata": {},
     "output_type": "execute_result"
    }
   ],
   "execution_count": 35
  },
  {
   "metadata": {
    "ExecuteTime": {
     "end_time": "2025-01-23T10:53:52.365722Z",
     "start_time": "2025-01-23T10:53:52.355079Z"
    }
   },
   "cell_type": "code",
   "source": [
    "mat2 = np.arange(1,7).reshape((2,3))\n",
    "mat2"
   ],
   "id": "38edd2fc2a52d866",
   "outputs": [
    {
     "data": {
      "text/plain": [
       "array([[1, 2, 3],\n",
       "       [4, 5, 6]])"
      ]
     },
     "execution_count": 36,
     "metadata": {},
     "output_type": "execute_result"
    }
   ],
   "execution_count": 36
  },
  {
   "metadata": {
    "ExecuteTime": {
     "end_time": "2025-01-23T10:55:03.796451Z",
     "start_time": "2025-01-23T10:55:03.793583Z"
    }
   },
   "cell_type": "code",
   "source": [
    "# carry out some operations:\n",
    "print('sum of all elements: ', np.sum(mat2))\n",
    "print('sum for each column: ', np.sum(mat2, axis = 0)) # apply(m, 2, sum)\n",
    "print('sum for each row: ', np.sum(mat2, axis = 1)) # apply(m, 1, sum)"
   ],
   "id": "c73d654677202f03",
   "outputs": [
    {
     "name": "stdout",
     "output_type": "stream",
     "text": [
      "sum of all elements:  21\n",
      "sum by row:  [5 7 9]\n",
      "sum by column:  [ 6 15]\n"
     ]
    }
   ],
   "execution_count": 38
  },
  {
   "metadata": {
    "ExecuteTime": {
     "end_time": "2025-01-23T10:56:15.599195Z",
     "start_time": "2025-01-23T10:56:15.596303Z"
    }
   },
   "cell_type": "code",
   "source": [
    "# mean\n",
    "print('mean of all elements: ', np.mean(mat2))\n",
    "print('mean for each col: ', np.mean(mat2, axis = 0))\n",
    "print('mean for each row: ', np.mean(mat2, axis = 1))"
   ],
   "id": "9a348d52e513daff",
   "outputs": [
    {
     "name": "stdout",
     "output_type": "stream",
     "text": [
      "mean of all elements:  3.5\n",
      "mean by row:  [2.5 3.5 4.5]\n",
      "mean by column:  [2. 5.]\n"
     ]
    }
   ],
   "execution_count": 40
  },
  {
   "metadata": {
    "ExecuteTime": {
     "end_time": "2025-01-23T10:57:38.293984Z",
     "start_time": "2025-01-23T10:57:38.290044Z"
    }
   },
   "cell_type": "code",
   "source": [
    "# find index\n",
    "print('index of min, from all elements: ', np.argmin(mat2))  # 0"
   ],
   "id": "f70af64a357c0fce",
   "outputs": [
    {
     "name": "stdout",
     "output_type": "stream",
     "text": [
      "index of min, from all elements:  0\n"
     ]
    }
   ],
   "execution_count": 43
  },
  {
   "metadata": {
    "ExecuteTime": {
     "end_time": "2025-01-23T10:57:52.211930Z",
     "start_time": "2025-01-23T10:57:52.208565Z"
    }
   },
   "cell_type": "code",
   "source": "print('index of min, for each column: ', np.argmin(mat2, axis=0)) # all 0. apply(m, 2, which.min)\n",
   "id": "389340d596e3d892",
   "outputs": [
    {
     "name": "stdout",
     "output_type": "stream",
     "text": [
      "index of min, from all elements:  [0 0 0]\n"
     ]
    }
   ],
   "execution_count": 44
  },
  {
   "metadata": {
    "ExecuteTime": {
     "end_time": "2025-01-23T10:58:39.505582Z",
     "start_time": "2025-01-23T10:58:39.502072Z"
    }
   },
   "cell_type": "code",
   "source": "print('index of min, for each row: ', np.argmin(mat2, axis=1)) # all 0. apply(m, 1, which.min)\n",
   "id": "d620457be373a8",
   "outputs": [
    {
     "name": "stdout",
     "output_type": "stream",
     "text": [
      "index of min, from all elements:  [0 0]\n"
     ]
    }
   ],
   "execution_count": 45
  },
  {
   "metadata": {},
   "cell_type": "markdown",
   "source": "# Broadcasting",
   "id": "601d3b58cfb30b70"
  },
  {
   "metadata": {
    "ExecuteTime": {
     "end_time": "2025-01-23T15:22:31.327114Z",
     "start_time": "2025-01-23T15:22:31.306415Z"
    }
   },
   "cell_type": "code",
   "source": "np.arange(3) + 5 # 5 is added on all the elements",
   "id": "8704ebaa0431a7f4",
   "outputs": [
    {
     "data": {
      "text/plain": [
       "array([5, 6, 7])"
      ]
     },
     "execution_count": 46,
     "metadata": {},
     "output_type": "execute_result"
    }
   ],
   "execution_count": 46
  },
  {
   "metadata": {
    "ExecuteTime": {
     "end_time": "2025-01-23T15:23:50.513871Z",
     "start_time": "2025-01-23T15:23:50.509474Z"
    }
   },
   "cell_type": "code",
   "source": "np.ones((3, 3)) + np.arange(3)",
   "id": "a91dc0d8b9beaba4",
   "outputs": [
    {
     "data": {
      "text/plain": [
       "array([[1., 2., 3.],\n",
       "       [1., 2., 3.],\n",
       "       [1., 2., 3.]])"
      ]
     },
     "execution_count": 48,
     "metadata": {},
     "output_type": "execute_result"
    }
   ],
   "execution_count": 48
  },
  {
   "metadata": {
    "ExecuteTime": {
     "end_time": "2025-01-23T15:24:20.439406Z",
     "start_time": "2025-01-23T15:24:20.435107Z"
    }
   },
   "cell_type": "code",
   "source": "np.arange(3).reshape((3,1)) + np.arange(3) # expand in both ways",
   "id": "8a97b67e9cce81a1",
   "outputs": [
    {
     "data": {
      "text/plain": [
       "array([[0, 1, 2],\n",
       "       [1, 2, 3],\n",
       "       [2, 3, 4]])"
      ]
     },
     "execution_count": 49,
     "metadata": {},
     "output_type": "execute_result"
    }
   ],
   "execution_count": 49
  },
  {
   "metadata": {
    "ExecuteTime": {
     "end_time": "2025-01-23T15:26:37.252312Z",
     "start_time": "2025-01-23T15:26:37.249531Z"
    }
   },
   "cell_type": "code",
   "source": [
    "X = np.random.random((10, 3))\n",
    "X # 3 col, 10 elements each"
   ],
   "id": "eb78b204d5eda9d2",
   "outputs": [
    {
     "data": {
      "text/plain": [
       "array([[0.28044399, 0.78927933, 0.10322601],\n",
       "       [0.44789353, 0.9085955 , 0.29361415],\n",
       "       [0.28777534, 0.13002857, 0.01936696],\n",
       "       [0.67883553, 0.21162812, 0.26554666],\n",
       "       [0.49157316, 0.05336255, 0.57411761],\n",
       "       [0.14672857, 0.58930554, 0.69975836],\n",
       "       [0.10233443, 0.41405599, 0.69440016],\n",
       "       [0.41417927, 0.04995346, 0.53589641],\n",
       "       [0.66379465, 0.51488911, 0.94459476],\n",
       "       [0.58655504, 0.90340192, 0.1374747 ]])"
      ]
     },
     "execution_count": 52,
     "metadata": {},
     "output_type": "execute_result"
    }
   ],
   "execution_count": 52
  },
  {
   "metadata": {
    "ExecuteTime": {
     "end_time": "2025-01-23T15:27:06.485858Z",
     "start_time": "2025-01-23T15:27:06.480952Z"
    }
   },
   "cell_type": "code",
   "source": [
    "# compute the mean for each column\n",
    "Xmean = X.mean(axis=0)\n",
    "Xmean"
   ],
   "id": "5838c7e85fca2948",
   "outputs": [
    {
     "data": {
      "text/plain": [
       "array([0.41001135, 0.45645001, 0.42679958])"
      ]
     },
     "execution_count": 53,
     "metadata": {},
     "output_type": "execute_result"
    }
   ],
   "execution_count": 53
  },
  {
   "metadata": {
    "ExecuteTime": {
     "end_time": "2025-01-23T15:30:08.690989Z",
     "start_time": "2025-01-23T15:30:08.688014Z"
    }
   },
   "cell_type": "code",
   "source": "X_centered = X - Xmean",
   "id": "6abe60810b420553",
   "outputs": [],
   "execution_count": 54
  },
  {
   "metadata": {
    "ExecuteTime": {
     "end_time": "2025-01-23T15:30:40.560118Z",
     "start_time": "2025-01-23T15:30:40.556949Z"
    }
   },
   "cell_type": "code",
   "source": [
    "# double check the centered values\n",
    "X_centered.mean(axis=0) # should be 0"
   ],
   "id": "c0530bb41ff62a30",
   "outputs": [
    {
     "data": {
      "text/plain": [
       "array([3.33066907e-17, 3.33066907e-17, 0.00000000e+00])"
      ]
     },
     "execution_count": 55,
     "metadata": {},
     "output_type": "execute_result"
    }
   ],
   "execution_count": 55
  },
  {
   "metadata": {
    "ExecuteTime": {
     "end_time": "2025-01-23T15:39:38.472359Z",
     "start_time": "2025-01-23T15:39:38.462676Z"
    }
   },
   "cell_type": "code",
   "source": [
    "# plot two dim\n",
    "x = np.linspace(0, 5, 50)\n",
    "y = np.linspace(0, 5, 50)[:, np.newaxis] # this creates a column vector, check with y.shape\n",
    "# create a broadcasted matrix z\n",
    "z = np.sin(x) ** 10  + np.cos(10 + y*x) * np.cos(x)"
   ],
   "id": "84054bf6d2318f2d",
   "outputs": [],
   "execution_count": 56
  },
  {
   "metadata": {
    "ExecuteTime": {
     "end_time": "2025-01-23T15:39:58.718735Z",
     "start_time": "2025-01-23T15:39:58.267887Z"
    }
   },
   "cell_type": "code",
   "source": [
    "%matplotlib inline\n",
    "import matplotlib.pyplot as plt\n",
    "plt.imshow(z, origin='lower', extent=[0, 5, 0, 5],\n",
    "           cmap='viridis')\n",
    "plt.colorbar();"
   ],
   "id": "ee0d6591dc2a7ba6",
   "outputs": [
    {
     "data": {
      "text/plain": [
       "<Figure size 640x480 with 2 Axes>"
      ],
      "image/png": "[encoded data removed]"
     },
     "metadata": {},
     "output_type": "display_data"
    }
   ],
   "execution_count": 57
  },
  {
   "metadata": {},
   "cell_type": "markdown",
   "source": "# Comparisons, masks, Boolean logic",
   "id": "3b86a2eb6f55f513"
  },
  {
   "metadata": {
    "ExecuteTime": {
     "end_time": "2025-01-23T15:42:02.287855Z",
     "start_time": "2025-01-23T15:42:02.264597Z"
    }
   },
   "cell_type": "code",
   "source": "from vega_datasets import data",
   "id": "d675f7f9bd85dd2b",
   "outputs": [],
   "execution_count": 58
  },
  {
   "metadata": {
    "ExecuteTime": {
     "end_time": "2025-01-23T15:56:35.279838Z",
     "start_time": "2025-01-23T15:56:35.271647Z"
    }
   },
   "cell_type": "code",
   "source": [
    "# Use DataFrame operations to extract rainfall as a NumPy array\n",
    "rainfall_mm = np.array(\n",
    "    data.seattle_weather().set_index('date')['precipitation']['2015'])\n",
    "len(rainfall_mm)\n",
    "rainfall_mm.max()"
   ],
   "id": "1a89c3d39d896c79",
   "outputs": [
    {
     "data": {
      "text/plain": [
       "np.float64(55.9)"
      ]
     },
     "execution_count": 83,
     "metadata": {},
     "output_type": "execute_result"
    }
   ],
   "execution_count": 83
  },
  {
   "metadata": {
    "ExecuteTime": {
     "end_time": "2025-01-23T15:57:00.022384Z",
     "start_time": "2025-01-23T15:57:00.018415Z"
    }
   },
   "cell_type": "code",
   "source": [
    "# convert into inches by dividing 254\n",
    "inches = rainfall_mm/25.4\n",
    "inches.shape"
   ],
   "id": "635fc7d49b14e630",
   "outputs": [
    {
     "data": {
      "text/plain": [
       "(365,)"
      ]
     },
     "execution_count": 86,
     "metadata": {},
     "output_type": "execute_result"
    }
   ],
   "execution_count": 86
  },
  {
   "metadata": {
    "ExecuteTime": {
     "end_time": "2025-01-23T15:57:04.403710Z",
     "start_time": "2025-01-23T15:57:04.321099Z"
    }
   },
   "cell_type": "code",
   "source": [
    "%matplotlib inline\n",
    "import matplotlib.pyplot as plt\n",
    "import seaborn; seaborn.set()  # set plot styles\n",
    "# plot histogram\n",
    "plt.hist(inches, 40)"
   ],
   "id": "e13d02ae93821721",
   "outputs": [
    {
     "data": {
      "text/plain": [
       "(array([262.,  22.,  14.,   9.,  10.,   6.,   6.,   5.,   2.,   3.,   1.,\n",
       "          2.,   2.,   3.,   0.,   2.,   2.,   0.,   3.,   2.,   1.,   2.,\n",
       "          0.,   3.,   0.,   0.,   0.,   0.,   0.,   0.,   0.,   0.,   0.,\n",
       "          1.,   0.,   0.,   0.,   0.,   1.,   1.]),\n",
       " array([0.        , 0.05501969, 0.11003937, 0.16505906, 0.22007874,\n",
       "        0.27509843, 0.33011811, 0.3851378 , 0.44015748, 0.49517717,\n",
       "        0.55019685, 0.60521654, 0.66023622, 0.71525591, 0.77027559,\n",
       "        0.82529528, 0.88031496, 0.93533465, 0.99035433, 1.04537402,\n",
       "        1.1003937 , 1.15541339, 1.21043307, 1.26545276, 1.32047244,\n",
       "        1.37549213, 1.43051181, 1.4855315 , 1.54055118, 1.59557087,\n",
       "        1.65059055, 1.70561024, 1.76062992, 1.81564961, 1.87066929,\n",
       "        1.92568898, 1.98070866, 2.03572835, 2.09074803, 2.14576772,\n",
       "        2.2007874 ]),\n",
       " <BarContainer object of 40 artists>)"
      ]
     },
     "execution_count": 87,
     "metadata": {},
     "output_type": "execute_result"
    },
    {
     "data": {
      "text/plain": [
       "<Figure size 640x480 with 1 Axes>"
      ],
      "image/png": "[encoded data removed]"
     },
     "metadata": {},
     "output_type": "display_data"
    }
   ],
   "execution_count": 87
  },
  {
   "metadata": {},
   "cell_type": "markdown",
   "source": "## Comparison operators",
   "id": "d5dab22361722b9"
  },
  {
   "metadata": {
    "ExecuteTime": {
     "end_time": "2025-01-23T15:45:49.453562Z",
     "start_time": "2025-01-23T15:45:49.449964Z"
    }
   },
   "cell_type": "code",
   "source": [
    "x = np.array([1,2,3,4,5])\n",
    "x<3"
   ],
   "id": "a9438697d573fc37",
   "outputs": [
    {
     "data": {
      "text/plain": [
       "array([ True,  True, False, False, False])"
      ]
     },
     "execution_count": 63,
     "metadata": {},
     "output_type": "execute_result"
    }
   ],
   "execution_count": 63
  },
  {
   "metadata": {
    "ExecuteTime": {
     "end_time": "2025-01-23T15:47:13.339077Z",
     "start_time": "2025-01-23T15:47:13.333866Z"
    }
   },
   "cell_type": "code",
   "source": [
    "# for a two dimensional array\n",
    "x = np.random.randint(0, 10, (2, 5))\n",
    "x"
   ],
   "id": "2b894af3aefdc41a",
   "outputs": [],
   "execution_count": 64
  },
  {
   "metadata": {
    "ExecuteTime": {
     "end_time": "2025-01-23T15:47:32.972174Z",
     "start_time": "2025-01-23T15:47:32.969938Z"
    }
   },
   "cell_type": "code",
   "source": "x < 6",
   "id": "5fc1394915c39e4f",
   "outputs": [
    {
     "data": {
      "text/plain": [
       "array([[ True,  True, False, False,  True],\n",
       "       [False,  True,  True,  True, False]])"
      ]
     },
     "execution_count": 66,
     "metadata": {},
     "output_type": "execute_result"
    }
   ],
   "execution_count": 66
  },
  {
   "metadata": {
    "ExecuteTime": {
     "end_time": "2025-01-23T15:48:25.116065Z",
     "start_time": "2025-01-23T15:48:25.112071Z"
    }
   },
   "cell_type": "code",
   "source": [
    "## counting\n",
    "np.count_nonzero(x<6) # this counts the boolean matrix values that are not 1"
   ],
   "id": "b61ad1557e8f031",
   "outputs": [
    {
     "data": {
      "text/plain": [
       "6"
      ]
     },
     "execution_count": 67,
     "metadata": {},
     "output_type": "execute_result"
    }
   ],
   "execution_count": 67
  },
  {
   "metadata": {
    "ExecuteTime": {
     "end_time": "2025-01-23T15:49:21.789780Z",
     "start_time": "2025-01-23T15:49:21.786849Z"
    }
   },
   "cell_type": "code",
   "source": [
    "# can also use np.sum\n",
    "np.sum(x<6)"
   ],
   "id": "2d29095e9c2fe3e3",
   "outputs": [
    {
     "data": {
      "text/plain": [
       "np.int64(6)"
      ]
     },
     "execution_count": 68,
     "metadata": {},
     "output_type": "execute_result"
    }
   ],
   "execution_count": 68
  },
  {
   "metadata": {
    "ExecuteTime": {
     "end_time": "2025-01-23T15:49:53.012870Z",
     "start_time": "2025-01-23T15:49:53.008028Z"
    }
   },
   "cell_type": "code",
   "source": "np.sum(x<6, axis=0) # each col",
   "id": "78586c4d9d16fe56",
   "outputs": [
    {
     "data": {
      "text/plain": [
       "array([1, 2, 1, 1, 1])"
      ]
     },
     "execution_count": 69,
     "metadata": {},
     "output_type": "execute_result"
    }
   ],
   "execution_count": 69
  },
  {
   "metadata": {
    "ExecuteTime": {
     "end_time": "2025-01-23T15:51:00.157115Z",
     "start_time": "2025-01-23T15:51:00.155007Z"
    }
   },
   "cell_type": "code",
   "source": [
    "# any, all\n",
    "print(np.any(x>8), np.any(x<0), np.all(x==6))"
   ],
   "id": "fb9405baf7eb55cf",
   "outputs": [
    {
     "name": "stdout",
     "output_type": "stream",
     "text": [
      "True False False\n"
     ]
    }
   ],
   "execution_count": 71
  },
  {
   "metadata": {
    "ExecuteTime": {
     "end_time": "2025-01-23T15:51:29.847550Z",
     "start_time": "2025-01-23T15:51:29.844320Z"
    }
   },
   "cell_type": "code",
   "source": "np.all(x<6, axis=1) # each row",
   "id": "8be12a8af3a3c82a",
   "outputs": [
    {
     "data": {
      "text/plain": [
       "array([False, False])"
      ]
     },
     "execution_count": 73,
     "metadata": {},
     "output_type": "execute_result"
    }
   ],
   "execution_count": 73
  },
  {
   "metadata": {},
   "cell_type": "markdown",
   "source": [
    "## back to the rainfall example\n",
    "\n",
    "How many days have rainfall between 0.5 and 1 inches?"
   ],
   "id": "efd7d4b93d7bbca8"
  },
  {
   "metadata": {
    "ExecuteTime": {
     "end_time": "2025-01-23T15:57:10.836312Z",
     "start_time": "2025-01-23T15:57:10.831791Z"
    }
   },
   "cell_type": "code",
   "source": "inches[0:5]",
   "id": "69d8a5376e8be452",
   "outputs": [
    {
     "data": {
      "text/plain": [
       "array([0.        , 0.05905512, 0.        , 0.4015748 , 0.31889764])"
      ]
     },
     "execution_count": 89,
     "metadata": {},
     "output_type": "execute_result"
    }
   ],
   "execution_count": 89
  },
  {
   "metadata": {
    "ExecuteTime": {
     "end_time": "2025-01-23T15:57:21.459186Z",
     "start_time": "2025-01-23T15:57:21.456679Z"
    }
   },
   "cell_type": "code",
   "source": [
    "# two conditions: x<1 and x>0.5\n",
    "np.sum((inches < 1) & (inches > 0.5))"
   ],
   "id": "c113698e22713686",
   "outputs": [
    {
     "data": {
      "text/plain": [
       "np.int64(15)"
      ]
     },
     "execution_count": 90,
     "metadata": {},
     "output_type": "execute_result"
    }
   ],
   "execution_count": 90
  },
  {
   "metadata": {
    "ExecuteTime": {
     "end_time": "2025-01-23T15:58:15.255515Z",
     "start_time": "2025-01-23T15:58:15.251702Z"
    }
   },
   "cell_type": "code",
   "source": [
    "print(\"Number days without rain:      \", np.sum(inches == 0))\n",
    "print(\"Number days with rain:         \", np.sum(inches != 0))\n",
    "print(\"Days with more than 0.5 inches:\", np.sum(inches > 0.5))\n",
    "print(\"Rainy days with < 0.2 inches  :\", np.sum((inches > 0) &\n",
    "                                                (inches < 0.2)))"
   ],
   "id": "4ca4a0b4abfbc548",
   "outputs": [
    {
     "name": "stdout",
     "output_type": "stream",
     "text": [
      "Number days without rain:       221\n",
      "Number days with rain:          144\n",
      "Days with more than 0.5 inches: 27\n",
      "Rainy days with < 0.2 inches  : 83\n"
     ]
    }
   ],
   "execution_count": 91
  },
  {
   "metadata": {
    "ExecuteTime": {
     "end_time": "2025-01-23T15:59:20.559117Z",
     "start_time": "2025-01-23T15:59:20.556350Z"
    }
   },
   "cell_type": "code",
   "source": [
    "# Masks for selection\n",
    "x"
   ],
   "id": "18a1113266f7eead",
   "outputs": [
    {
     "data": {
      "text/plain": [
       "array([[4, 4, 7, 7, 4],\n",
       "       [9, 0, 2, 0, 7]])"
      ]
     },
     "execution_count": 92,
     "metadata": {},
     "output_type": "execute_result"
    }
   ],
   "execution_count": 92
  },
  {
   "metadata": {
    "ExecuteTime": {
     "end_time": "2025-01-23T15:59:37.284533Z",
     "start_time": "2025-01-23T15:59:37.280137Z"
    }
   },
   "cell_type": "code",
   "source": "x<5",
   "id": "5128b5b9304e9be9",
   "outputs": [
    {
     "data": {
      "text/plain": [
       "array([[ True,  True, False, False,  True],\n",
       "       [False,  True,  True,  True, False]])"
      ]
     },
     "execution_count": 93,
     "metadata": {},
     "output_type": "execute_result"
    }
   ],
   "execution_count": 93
  },
  {
   "metadata": {
    "ExecuteTime": {
     "end_time": "2025-01-23T15:59:41.290341Z",
     "start_time": "2025-01-23T15:59:41.286501Z"
    }
   },
   "cell_type": "code",
   "source": "x[x<5] # this returns a one-dim array, instead of keeping the original",
   "id": "5a58a3d649e97b58",
   "outputs": [
    {
     "data": {
      "text/plain": [
       "array([4, 4, 4, 0, 2, 0])"
      ]
     },
     "execution_count": 94,
     "metadata": {},
     "output_type": "execute_result"
    }
   ],
   "execution_count": 94
  },
  {
   "metadata": {},
   "cell_type": "code",
   "outputs": [],
   "execution_count": null,
   "source": "",
   "id": "784c45794c327c58"
  }
 ],
 "metadata": {
  "kernelspec": {
   "display_name": "Python 3",
   "language": "python",
   "name": "python3"
  },
  "language_info": {
   "codemirror_mode": {
    "name": "ipython",
    "version": 2
   },
   "file_extension": ".py",
   "mimetype": "text/x-python",
   "name": "python",
   "nbconvert_exporter": "python",
   "pygments_lexer": "ipython2",
   "version": "2.7.6"
  }
 },
 "nbformat": 4,
 "nbformat_minor": 5
}
