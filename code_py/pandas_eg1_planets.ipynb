{
 "cells": [
  {
   "metadata": {},
   "cell_type": "markdown",
   "source": "# Planets example",
   "id": "e40b96dbcade88b9"
  },
  {
   "metadata": {
    "ExecuteTime": {
     "end_time": "2025-02-12T20:29:15.100002Z",
     "start_time": "2025-02-12T20:29:15.096305Z"
    }
   },
   "cell_type": "code",
   "source": [
    "import pandas as pd\n",
    "import numpy as np"
   ],
   "id": "281cbd27f19b5845",
   "outputs": [],
   "execution_count": 15
  },
  {
   "metadata": {
    "ExecuteTime": {
     "end_time": "2025-02-12T20:26:13.302910Z",
     "start_time": "2025-02-12T20:26:13.293899Z"
    }
   },
   "cell_type": "code",
   "source": [
    "import seaborn as sns\n",
    "planets = sns.load_dataset(\"planets\")\n",
    "# planets.shape\n",
    "planets.head()\n"
   ],
   "id": "588b827ae0f28af5",
   "outputs": [
    {
     "data": {
      "text/plain": [
       "            method  number  orbital_period   mass  distance  year\n",
       "0  Radial Velocity       1         269.300   7.10     77.40  2006\n",
       "1  Radial Velocity       1         874.774   2.21     56.95  2008\n",
       "2  Radial Velocity       1         763.000   2.60     19.84  2011\n",
       "3  Radial Velocity       1         326.030  19.40    110.62  2007\n",
       "4  Radial Velocity       1         516.220  10.50    119.47  2009"
      ],
      "text/html": [
       "<div>\n",
       "<style scoped>\n",
       "    .dataframe tbody tr th:only-of-type {\n",
       "        vertical-align: middle;\n",
       "    }\n",
       "\n",
       "    .dataframe tbody tr th {\n",
       "        vertical-align: top;\n",
       "    }\n",
       "\n",
       "    .dataframe thead th {\n",
       "        text-align: right;\n",
       "    }\n",
       "</style>\n",
       "<table border=\"1\" class=\"dataframe\">\n",
       "  <thead>\n",
       "    <tr style=\"text-align: right;\">\n",
       "      <th></th>\n",
       "      <th>method</th>\n",
       "      <th>number</th>\n",
       "      <th>orbital_period</th>\n",
       "      <th>mass</th>\n",
       "      <th>distance</th>\n",
       "      <th>year</th>\n",
       "    </tr>\n",
       "  </thead>\n",
       "  <tbody>\n",
       "    <tr>\n",
       "      <th>0</th>\n",
       "      <td>Radial Velocity</td>\n",
       "      <td>1</td>\n",
       "      <td>269.300</td>\n",
       "      <td>7.10</td>\n",
       "      <td>77.40</td>\n",
       "      <td>2006</td>\n",
       "    </tr>\n",
       "    <tr>\n",
       "      <th>1</th>\n",
       "      <td>Radial Velocity</td>\n",
       "      <td>1</td>\n",
       "      <td>874.774</td>\n",
       "      <td>2.21</td>\n",
       "      <td>56.95</td>\n",
       "      <td>2008</td>\n",
       "    </tr>\n",
       "    <tr>\n",
       "      <th>2</th>\n",
       "      <td>Radial Velocity</td>\n",
       "      <td>1</td>\n",
       "      <td>763.000</td>\n",
       "      <td>2.60</td>\n",
       "      <td>19.84</td>\n",
       "      <td>2011</td>\n",
       "    </tr>\n",
       "    <tr>\n",
       "      <th>3</th>\n",
       "      <td>Radial Velocity</td>\n",
       "      <td>1</td>\n",
       "      <td>326.030</td>\n",
       "      <td>19.40</td>\n",
       "      <td>110.62</td>\n",
       "      <td>2007</td>\n",
       "    </tr>\n",
       "    <tr>\n",
       "      <th>4</th>\n",
       "      <td>Radial Velocity</td>\n",
       "      <td>1</td>\n",
       "      <td>516.220</td>\n",
       "      <td>10.50</td>\n",
       "      <td>119.47</td>\n",
       "      <td>2009</td>\n",
       "    </tr>\n",
       "  </tbody>\n",
       "</table>\n",
       "</div>"
      ]
     },
     "execution_count": 1,
     "metadata": {},
     "output_type": "execute_result"
    }
   ],
   "execution_count": 1
  },
  {
   "metadata": {
    "ExecuteTime": {
     "end_time": "2025-02-12T20:26:20.238941Z",
     "start_time": "2025-02-12T20:26:20.234338Z"
    }
   },
   "cell_type": "code",
   "source": [
    "# eda\n",
    "planets.columns"
   ],
   "id": "f5cbbcab65760f4b",
   "outputs": [
    {
     "data": {
      "text/plain": [
       "Index(['method', 'number', 'orbital_period', 'mass', 'distance', 'year'], dtype='object')"
      ]
     },
     "execution_count": 2,
     "metadata": {},
     "output_type": "execute_result"
    }
   ],
   "execution_count": 2
  },
  {
   "metadata": {
    "ExecuteTime": {
     "end_time": "2025-02-12T20:26:26.692068Z",
     "start_time": "2025-02-12T20:26:26.687971Z"
    }
   },
   "cell_type": "code",
   "source": "planets.shape",
   "id": "73fababa39420b8d",
   "outputs": [
    {
     "data": {
      "text/plain": [
       "(1035, 6)"
      ]
     },
     "execution_count": 3,
     "metadata": {},
     "output_type": "execute_result"
    }
   ],
   "execution_count": 3
  },
  {
   "metadata": {
    "ExecuteTime": {
     "end_time": "2025-02-12T20:26:32.322073Z",
     "start_time": "2025-02-12T20:26:32.306272Z"
    }
   },
   "cell_type": "code",
   "source": "planets.describe() # automatically drops strings!\n",
   "id": "14d7eaf00fcd9590",
   "outputs": [
    {
     "data": {
      "text/plain": [
       "            number  orbital_period        mass     distance         year\n",
       "count  1035.000000      992.000000  513.000000   808.000000  1035.000000\n",
       "mean      1.785507     2002.917596    2.638161   264.069282  2009.070531\n",
       "std       1.240976    26014.728304    3.818617   733.116493     3.972567\n",
       "min       1.000000        0.090706    0.003600     1.350000  1989.000000\n",
       "25%       1.000000        5.442540    0.229000    32.560000  2007.000000\n",
       "50%       1.000000       39.979500    1.260000    55.250000  2010.000000\n",
       "75%       2.000000      526.005000    3.040000   178.500000  2012.000000\n",
       "max       7.000000   730000.000000   25.000000  8500.000000  2014.000000"
      ],
      "text/html": [
       "<div>\n",
       "<style scoped>\n",
       "    .dataframe tbody tr th:only-of-type {\n",
       "        vertical-align: middle;\n",
       "    }\n",
       "\n",
       "    .dataframe tbody tr th {\n",
       "        vertical-align: top;\n",
       "    }\n",
       "\n",
       "    .dataframe thead th {\n",
       "        text-align: right;\n",
       "    }\n",
       "</style>\n",
       "<table border=\"1\" class=\"dataframe\">\n",
       "  <thead>\n",
       "    <tr style=\"text-align: right;\">\n",
       "      <th></th>\n",
       "      <th>number</th>\n",
       "      <th>orbital_period</th>\n",
       "      <th>mass</th>\n",
       "      <th>distance</th>\n",
       "      <th>year</th>\n",
       "    </tr>\n",
       "  </thead>\n",
       "  <tbody>\n",
       "    <tr>\n",
       "      <th>count</th>\n",
       "      <td>1035.000000</td>\n",
       "      <td>992.000000</td>\n",
       "      <td>513.000000</td>\n",
       "      <td>808.000000</td>\n",
       "      <td>1035.000000</td>\n",
       "    </tr>\n",
       "    <tr>\n",
       "      <th>mean</th>\n",
       "      <td>1.785507</td>\n",
       "      <td>2002.917596</td>\n",
       "      <td>2.638161</td>\n",
       "      <td>264.069282</td>\n",
       "      <td>2009.070531</td>\n",
       "    </tr>\n",
       "    <tr>\n",
       "      <th>std</th>\n",
       "      <td>1.240976</td>\n",
       "      <td>26014.728304</td>\n",
       "      <td>3.818617</td>\n",
       "      <td>733.116493</td>\n",
       "      <td>3.972567</td>\n",
       "    </tr>\n",
       "    <tr>\n",
       "      <th>min</th>\n",
       "      <td>1.000000</td>\n",
       "      <td>0.090706</td>\n",
       "      <td>0.003600</td>\n",
       "      <td>1.350000</td>\n",
       "      <td>1989.000000</td>\n",
       "    </tr>\n",
       "    <tr>\n",
       "      <th>25%</th>\n",
       "      <td>1.000000</td>\n",
       "      <td>5.442540</td>\n",
       "      <td>0.229000</td>\n",
       "      <td>32.560000</td>\n",
       "      <td>2007.000000</td>\n",
       "    </tr>\n",
       "    <tr>\n",
       "      <th>50%</th>\n",
       "      <td>1.000000</td>\n",
       "      <td>39.979500</td>\n",
       "      <td>1.260000</td>\n",
       "      <td>55.250000</td>\n",
       "      <td>2010.000000</td>\n",
       "    </tr>\n",
       "    <tr>\n",
       "      <th>75%</th>\n",
       "      <td>2.000000</td>\n",
       "      <td>526.005000</td>\n",
       "      <td>3.040000</td>\n",
       "      <td>178.500000</td>\n",
       "      <td>2012.000000</td>\n",
       "    </tr>\n",
       "    <tr>\n",
       "      <th>max</th>\n",
       "      <td>7.000000</td>\n",
       "      <td>730000.000000</td>\n",
       "      <td>25.000000</td>\n",
       "      <td>8500.000000</td>\n",
       "      <td>2014.000000</td>\n",
       "    </tr>\n",
       "  </tbody>\n",
       "</table>\n",
       "</div>"
      ]
     },
     "execution_count": 4,
     "metadata": {},
     "output_type": "execute_result"
    }
   ],
   "execution_count": 4
  },
  {
   "metadata": {
    "ExecuteTime": {
     "end_time": "2025-02-12T20:26:38.025068Z",
     "start_time": "2025-02-12T20:26:38.021252Z"
    }
   },
   "cell_type": "code",
   "source": "planets.isnull().sum()\n",
   "id": "94982361f8aa49af",
   "outputs": [
    {
     "data": {
      "text/plain": [
       "method              0\n",
       "number              0\n",
       "orbital_period     43\n",
       "mass              522\n",
       "distance          227\n",
       "year                0\n",
       "dtype: int64"
      ]
     },
     "execution_count": 5,
     "metadata": {},
     "output_type": "execute_result"
    }
   ],
   "execution_count": 5
  },
  {
   "metadata": {
    "ExecuteTime": {
     "end_time": "2025-02-12T20:26:44.625910Z",
     "start_time": "2025-02-12T20:26:44.620672Z"
    }
   },
   "cell_type": "code",
   "source": [
    "# try to rename a column\n",
    "planets = planets.rename(columns = {'mass': 'Mass'})"
   ],
   "id": "5ec258a458a1cafc",
   "outputs": [],
   "execution_count": 6
  },
  {
   "metadata": {
    "ExecuteTime": {
     "end_time": "2025-02-12T20:27:02.047799Z",
     "start_time": "2025-02-12T20:27:02.040942Z"
    }
   },
   "cell_type": "code",
   "source": [
    "# planets.head()\n",
    "planets['Mass'].round(1)"
   ],
   "id": "ec42c0c1ec3c704e",
   "outputs": [
    {
     "data": {
      "text/plain": [
       "0        7.1\n",
       "1        2.2\n",
       "2        2.6\n",
       "3       19.4\n",
       "4       10.5\n",
       "        ... \n",
       "1030     NaN\n",
       "1031     NaN\n",
       "1032     NaN\n",
       "1033     NaN\n",
       "1034     NaN\n",
       "Name: Mass, Length: 1035, dtype: float64"
      ]
     },
     "execution_count": 7,
     "metadata": {},
     "output_type": "execute_result"
    }
   ],
   "execution_count": 7
  },
  {
   "metadata": {
    "ExecuteTime": {
     "end_time": "2025-02-12T20:27:22.720906Z",
     "start_time": "2025-02-12T20:27:22.715438Z"
    }
   },
   "cell_type": "code",
   "source": "planets['Mass'].astype(str).head(3) # only show the first 3\n",
   "id": "6f865ce5a062e333",
   "outputs": [
    {
     "data": {
      "text/plain": [
       "0     7.1\n",
       "1    2.21\n",
       "2     2.6\n",
       "Name: Mass, dtype: object"
      ]
     },
     "execution_count": 8,
     "metadata": {},
     "output_type": "execute_result"
    }
   ],
   "execution_count": 8
  },
  {
   "metadata": {
    "ExecuteTime": {
     "end_time": "2025-02-12T20:27:24.766078Z",
     "start_time": "2025-02-12T20:27:24.760626Z"
    }
   },
   "cell_type": "code",
   "source": "planets['method'].unique()\n",
   "id": "34b6959d2f58c9a7",
   "outputs": [
    {
     "data": {
      "text/plain": [
       "array(['Radial Velocity', 'Imaging', 'Eclipse Timing Variations',\n",
       "       'Transit', 'Astrometry', 'Transit Timing Variations',\n",
       "       'Orbital Brightness Modulation', 'Microlensing', 'Pulsar Timing',\n",
       "       'Pulsation Timing Variations'], dtype=object)"
      ]
     },
     "execution_count": 9,
     "metadata": {},
     "output_type": "execute_result"
    }
   ],
   "execution_count": 9
  },
  {
   "metadata": {
    "ExecuteTime": {
     "end_time": "2025-02-12T20:27:30.468575Z",
     "start_time": "2025-02-12T20:27:30.462602Z"
    }
   },
   "cell_type": "code",
   "source": "planets['method'].value_counts()\n",
   "id": "3a5eda61844f63ba",
   "outputs": [
    {
     "data": {
      "text/plain": [
       "method\n",
       "Radial Velocity                  553\n",
       "Transit                          397\n",
       "Imaging                           38\n",
       "Microlensing                      23\n",
       "Eclipse Timing Variations          9\n",
       "Pulsar Timing                      5\n",
       "Transit Timing Variations          4\n",
       "Orbital Brightness Modulation      3\n",
       "Astrometry                         2\n",
       "Pulsation Timing Variations        1\n",
       "Name: count, dtype: int64"
      ]
     },
     "execution_count": 10,
     "metadata": {},
     "output_type": "execute_result"
    }
   ],
   "execution_count": 10
  },
  {
   "metadata": {
    "ExecuteTime": {
     "end_time": "2025-02-12T20:27:38.386857Z",
     "start_time": "2025-02-12T20:27:38.379086Z"
    }
   },
   "cell_type": "code",
   "source": [
    "# subsetting\n",
    "planets[['method', 'Mass']]"
   ],
   "id": "b52e4b5b6d6ddcaf",
   "outputs": [
    {
     "data": {
      "text/plain": [
       "               method   Mass\n",
       "0     Radial Velocity   7.10\n",
       "1     Radial Velocity   2.21\n",
       "2     Radial Velocity   2.60\n",
       "3     Radial Velocity  19.40\n",
       "4     Radial Velocity  10.50\n",
       "...               ...    ...\n",
       "1030          Transit    NaN\n",
       "1031          Transit    NaN\n",
       "1032          Transit    NaN\n",
       "1033          Transit    NaN\n",
       "1034          Transit    NaN\n",
       "\n",
       "[1035 rows x 2 columns]"
      ],
      "text/html": [
       "<div>\n",
       "<style scoped>\n",
       "    .dataframe tbody tr th:only-of-type {\n",
       "        vertical-align: middle;\n",
       "    }\n",
       "\n",
       "    .dataframe tbody tr th {\n",
       "        vertical-align: top;\n",
       "    }\n",
       "\n",
       "    .dataframe thead th {\n",
       "        text-align: right;\n",
       "    }\n",
       "</style>\n",
       "<table border=\"1\" class=\"dataframe\">\n",
       "  <thead>\n",
       "    <tr style=\"text-align: right;\">\n",
       "      <th></th>\n",
       "      <th>method</th>\n",
       "      <th>Mass</th>\n",
       "    </tr>\n",
       "  </thead>\n",
       "  <tbody>\n",
       "    <tr>\n",
       "      <th>0</th>\n",
       "      <td>Radial Velocity</td>\n",
       "      <td>7.10</td>\n",
       "    </tr>\n",
       "    <tr>\n",
       "      <th>1</th>\n",
       "      <td>Radial Velocity</td>\n",
       "      <td>2.21</td>\n",
       "    </tr>\n",
       "    <tr>\n",
       "      <th>2</th>\n",
       "      <td>Radial Velocity</td>\n",
       "      <td>2.60</td>\n",
       "    </tr>\n",
       "    <tr>\n",
       "      <th>3</th>\n",
       "      <td>Radial Velocity</td>\n",
       "      <td>19.40</td>\n",
       "    </tr>\n",
       "    <tr>\n",
       "      <th>4</th>\n",
       "      <td>Radial Velocity</td>\n",
       "      <td>10.50</td>\n",
       "    </tr>\n",
       "    <tr>\n",
       "      <th>...</th>\n",
       "      <td>...</td>\n",
       "      <td>...</td>\n",
       "    </tr>\n",
       "    <tr>\n",
       "      <th>1030</th>\n",
       "      <td>Transit</td>\n",
       "      <td>NaN</td>\n",
       "    </tr>\n",
       "    <tr>\n",
       "      <th>1031</th>\n",
       "      <td>Transit</td>\n",
       "      <td>NaN</td>\n",
       "    </tr>\n",
       "    <tr>\n",
       "      <th>1032</th>\n",
       "      <td>Transit</td>\n",
       "      <td>NaN</td>\n",
       "    </tr>\n",
       "    <tr>\n",
       "      <th>1033</th>\n",
       "      <td>Transit</td>\n",
       "      <td>NaN</td>\n",
       "    </tr>\n",
       "    <tr>\n",
       "      <th>1034</th>\n",
       "      <td>Transit</td>\n",
       "      <td>NaN</td>\n",
       "    </tr>\n",
       "  </tbody>\n",
       "</table>\n",
       "<p>1035 rows × 2 columns</p>\n",
       "</div>"
      ]
     },
     "execution_count": 11,
     "metadata": {},
     "output_type": "execute_result"
    }
   ],
   "execution_count": 11
  },
  {
   "metadata": {
    "ExecuteTime": {
     "end_time": "2025-02-12T20:27:44.119870Z",
     "start_time": "2025-02-12T20:27:44.113514Z"
    }
   },
   "cell_type": "code",
   "source": [
    "# filtering\n",
    "planets[planets['Mass']>19]"
   ],
   "id": "75627947a4fd18ea",
   "outputs": [
    {
     "data": {
      "text/plain": [
       "              method  number  orbital_period   Mass  distance  year\n",
       "3    Radial Velocity       1          326.03  19.40    110.62  2007\n",
       "63   Radial Velocity       1          305.50  20.60     92.51  2013\n",
       "85   Radial Velocity       2          379.63  21.42       NaN  2009\n",
       "321  Radial Velocity       1         2371.00  25.00     37.05  2008\n",
       "913  Radial Velocity       1          677.80  19.80       NaN  2007"
      ],
      "text/html": [
       "<div>\n",
       "<style scoped>\n",
       "    .dataframe tbody tr th:only-of-type {\n",
       "        vertical-align: middle;\n",
       "    }\n",
       "\n",
       "    .dataframe tbody tr th {\n",
       "        vertical-align: top;\n",
       "    }\n",
       "\n",
       "    .dataframe thead th {\n",
       "        text-align: right;\n",
       "    }\n",
       "</style>\n",
       "<table border=\"1\" class=\"dataframe\">\n",
       "  <thead>\n",
       "    <tr style=\"text-align: right;\">\n",
       "      <th></th>\n",
       "      <th>method</th>\n",
       "      <th>number</th>\n",
       "      <th>orbital_period</th>\n",
       "      <th>Mass</th>\n",
       "      <th>distance</th>\n",
       "      <th>year</th>\n",
       "    </tr>\n",
       "  </thead>\n",
       "  <tbody>\n",
       "    <tr>\n",
       "      <th>3</th>\n",
       "      <td>Radial Velocity</td>\n",
       "      <td>1</td>\n",
       "      <td>326.03</td>\n",
       "      <td>19.40</td>\n",
       "      <td>110.62</td>\n",
       "      <td>2007</td>\n",
       "    </tr>\n",
       "    <tr>\n",
       "      <th>63</th>\n",
       "      <td>Radial Velocity</td>\n",
       "      <td>1</td>\n",
       "      <td>305.50</td>\n",
       "      <td>20.60</td>\n",
       "      <td>92.51</td>\n",
       "      <td>2013</td>\n",
       "    </tr>\n",
       "    <tr>\n",
       "      <th>85</th>\n",
       "      <td>Radial Velocity</td>\n",
       "      <td>2</td>\n",
       "      <td>379.63</td>\n",
       "      <td>21.42</td>\n",
       "      <td>NaN</td>\n",
       "      <td>2009</td>\n",
       "    </tr>\n",
       "    <tr>\n",
       "      <th>321</th>\n",
       "      <td>Radial Velocity</td>\n",
       "      <td>1</td>\n",
       "      <td>2371.00</td>\n",
       "      <td>25.00</td>\n",
       "      <td>37.05</td>\n",
       "      <td>2008</td>\n",
       "    </tr>\n",
       "    <tr>\n",
       "      <th>913</th>\n",
       "      <td>Radial Velocity</td>\n",
       "      <td>1</td>\n",
       "      <td>677.80</td>\n",
       "      <td>19.80</td>\n",
       "      <td>NaN</td>\n",
       "      <td>2007</td>\n",
       "    </tr>\n",
       "  </tbody>\n",
       "</table>\n",
       "</div>"
      ]
     },
     "execution_count": 12,
     "metadata": {},
     "output_type": "execute_result"
    }
   ],
   "execution_count": 12
  },
  {
   "metadata": {
    "ExecuteTime": {
     "end_time": "2025-02-12T20:28:41.761670Z",
     "start_time": "2025-02-12T20:28:41.742220Z"
    }
   },
   "cell_type": "code",
   "source": [
    "planet_sub = planets.copy()[planets['Mass']>15]\n",
    "planet_sub"
   ],
   "id": "76bb4b37d6a6f850",
   "outputs": [
    {
     "data": {
      "text/plain": [
       "              method  number  orbital_period   Mass  distance  year\n",
       "3    Radial Velocity       1        326.0300  19.40    110.62  2007\n",
       "63   Radial Velocity       1        305.5000  20.60     92.51  2013\n",
       "85   Radial Velocity       2        379.6300  21.42       NaN  2009\n",
       "161  Radial Velocity       2        428.5000  15.20    214.00  2009\n",
       "317  Radial Velocity       1          1.3283  18.37     43.03  2003\n",
       "321  Radial Velocity       1       2371.0000  25.00     37.05  2008\n",
       "462  Radial Velocity       1       1951.0000  18.15     57.21  2008\n",
       "492  Radial Velocity       1          2.3910  15.50     76.51  2009\n",
       "527  Radial Velocity       2       1749.5000  18.10     37.88  2000\n",
       "575  Radial Velocity       2        255.8700  17.40     46.34  2002\n",
       "913  Radial Velocity       1        677.8000  19.80       NaN  2007"
      ],
      "text/html": [
       "<div>\n",
       "<style scoped>\n",
       "    .dataframe tbody tr th:only-of-type {\n",
       "        vertical-align: middle;\n",
       "    }\n",
       "\n",
       "    .dataframe tbody tr th {\n",
       "        vertical-align: top;\n",
       "    }\n",
       "\n",
       "    .dataframe thead th {\n",
       "        text-align: right;\n",
       "    }\n",
       "</style>\n",
       "<table border=\"1\" class=\"dataframe\">\n",
       "  <thead>\n",
       "    <tr style=\"text-align: right;\">\n",
       "      <th></th>\n",
       "      <th>method</th>\n",
       "      <th>number</th>\n",
       "      <th>orbital_period</th>\n",
       "      <th>Mass</th>\n",
       "      <th>distance</th>\n",
       "      <th>year</th>\n",
       "    </tr>\n",
       "  </thead>\n",
       "  <tbody>\n",
       "    <tr>\n",
       "      <th>3</th>\n",
       "      <td>Radial Velocity</td>\n",
       "      <td>1</td>\n",
       "      <td>326.0300</td>\n",
       "      <td>19.40</td>\n",
       "      <td>110.62</td>\n",
       "      <td>2007</td>\n",
       "    </tr>\n",
       "    <tr>\n",
       "      <th>63</th>\n",
       "      <td>Radial Velocity</td>\n",
       "      <td>1</td>\n",
       "      <td>305.5000</td>\n",
       "      <td>20.60</td>\n",
       "      <td>92.51</td>\n",
       "      <td>2013</td>\n",
       "    </tr>\n",
       "    <tr>\n",
       "      <th>85</th>\n",
       "      <td>Radial Velocity</td>\n",
       "      <td>2</td>\n",
       "      <td>379.6300</td>\n",
       "      <td>21.42</td>\n",
       "      <td>NaN</td>\n",
       "      <td>2009</td>\n",
       "    </tr>\n",
       "    <tr>\n",
       "      <th>161</th>\n",
       "      <td>Radial Velocity</td>\n",
       "      <td>2</td>\n",
       "      <td>428.5000</td>\n",
       "      <td>15.20</td>\n",
       "      <td>214.00</td>\n",
       "      <td>2009</td>\n",
       "    </tr>\n",
       "    <tr>\n",
       "      <th>317</th>\n",
       "      <td>Radial Velocity</td>\n",
       "      <td>1</td>\n",
       "      <td>1.3283</td>\n",
       "      <td>18.37</td>\n",
       "      <td>43.03</td>\n",
       "      <td>2003</td>\n",
       "    </tr>\n",
       "    <tr>\n",
       "      <th>321</th>\n",
       "      <td>Radial Velocity</td>\n",
       "      <td>1</td>\n",
       "      <td>2371.0000</td>\n",
       "      <td>25.00</td>\n",
       "      <td>37.05</td>\n",
       "      <td>2008</td>\n",
       "    </tr>\n",
       "    <tr>\n",
       "      <th>462</th>\n",
       "      <td>Radial Velocity</td>\n",
       "      <td>1</td>\n",
       "      <td>1951.0000</td>\n",
       "      <td>18.15</td>\n",
       "      <td>57.21</td>\n",
       "      <td>2008</td>\n",
       "    </tr>\n",
       "    <tr>\n",
       "      <th>492</th>\n",
       "      <td>Radial Velocity</td>\n",
       "      <td>1</td>\n",
       "      <td>2.3910</td>\n",
       "      <td>15.50</td>\n",
       "      <td>76.51</td>\n",
       "      <td>2009</td>\n",
       "    </tr>\n",
       "    <tr>\n",
       "      <th>527</th>\n",
       "      <td>Radial Velocity</td>\n",
       "      <td>2</td>\n",
       "      <td>1749.5000</td>\n",
       "      <td>18.10</td>\n",
       "      <td>37.88</td>\n",
       "      <td>2000</td>\n",
       "    </tr>\n",
       "    <tr>\n",
       "      <th>575</th>\n",
       "      <td>Radial Velocity</td>\n",
       "      <td>2</td>\n",
       "      <td>255.8700</td>\n",
       "      <td>17.40</td>\n",
       "      <td>46.34</td>\n",
       "      <td>2002</td>\n",
       "    </tr>\n",
       "    <tr>\n",
       "      <th>913</th>\n",
       "      <td>Radial Velocity</td>\n",
       "      <td>1</td>\n",
       "      <td>677.8000</td>\n",
       "      <td>19.80</td>\n",
       "      <td>NaN</td>\n",
       "      <td>2007</td>\n",
       "    </tr>\n",
       "  </tbody>\n",
       "</table>\n",
       "</div>"
      ]
     },
     "execution_count": 13,
     "metadata": {},
     "output_type": "execute_result"
    }
   ],
   "execution_count": 13
  },
  {
   "metadata": {
    "ExecuteTime": {
     "end_time": "2025-02-12T20:29:39.710613Z",
     "start_time": "2025-02-12T20:29:39.701818Z"
    }
   },
   "cell_type": "code",
   "source": [
    "planet_sub['pre2005'] = np.where(planet_sub['year']<2005, 'yes', 'no')\n",
    "planet_sub"
   ],
   "id": "35d706eae62e8093",
   "outputs": [
    {
     "data": {
      "text/plain": [
       "              method  number  orbital_period   Mass  distance  year pre2005\n",
       "3    Radial Velocity       1        326.0300  19.40    110.62  2007      no\n",
       "63   Radial Velocity       1        305.5000  20.60     92.51  2013      no\n",
       "85   Radial Velocity       2        379.6300  21.42       NaN  2009      no\n",
       "161  Radial Velocity       2        428.5000  15.20    214.00  2009      no\n",
       "317  Radial Velocity       1          1.3283  18.37     43.03  2003     yes\n",
       "321  Radial Velocity       1       2371.0000  25.00     37.05  2008      no\n",
       "462  Radial Velocity       1       1951.0000  18.15     57.21  2008      no\n",
       "492  Radial Velocity       1          2.3910  15.50     76.51  2009      no\n",
       "527  Radial Velocity       2       1749.5000  18.10     37.88  2000     yes\n",
       "575  Radial Velocity       2        255.8700  17.40     46.34  2002     yes\n",
       "913  Radial Velocity       1        677.8000  19.80       NaN  2007      no"
      ],
      "text/html": [
       "<div>\n",
       "<style scoped>\n",
       "    .dataframe tbody tr th:only-of-type {\n",
       "        vertical-align: middle;\n",
       "    }\n",
       "\n",
       "    .dataframe tbody tr th {\n",
       "        vertical-align: top;\n",
       "    }\n",
       "\n",
       "    .dataframe thead th {\n",
       "        text-align: right;\n",
       "    }\n",
       "</style>\n",
       "<table border=\"1\" class=\"dataframe\">\n",
       "  <thead>\n",
       "    <tr style=\"text-align: right;\">\n",
       "      <th></th>\n",
       "      <th>method</th>\n",
       "      <th>number</th>\n",
       "      <th>orbital_period</th>\n",
       "      <th>Mass</th>\n",
       "      <th>distance</th>\n",
       "      <th>year</th>\n",
       "      <th>pre2005</th>\n",
       "    </tr>\n",
       "  </thead>\n",
       "  <tbody>\n",
       "    <tr>\n",
       "      <th>3</th>\n",
       "      <td>Radial Velocity</td>\n",
       "      <td>1</td>\n",
       "      <td>326.0300</td>\n",
       "      <td>19.40</td>\n",
       "      <td>110.62</td>\n",
       "      <td>2007</td>\n",
       "      <td>no</td>\n",
       "    </tr>\n",
       "    <tr>\n",
       "      <th>63</th>\n",
       "      <td>Radial Velocity</td>\n",
       "      <td>1</td>\n",
       "      <td>305.5000</td>\n",
       "      <td>20.60</td>\n",
       "      <td>92.51</td>\n",
       "      <td>2013</td>\n",
       "      <td>no</td>\n",
       "    </tr>\n",
       "    <tr>\n",
       "      <th>85</th>\n",
       "      <td>Radial Velocity</td>\n",
       "      <td>2</td>\n",
       "      <td>379.6300</td>\n",
       "      <td>21.42</td>\n",
       "      <td>NaN</td>\n",
       "      <td>2009</td>\n",
       "      <td>no</td>\n",
       "    </tr>\n",
       "    <tr>\n",
       "      <th>161</th>\n",
       "      <td>Radial Velocity</td>\n",
       "      <td>2</td>\n",
       "      <td>428.5000</td>\n",
       "      <td>15.20</td>\n",
       "      <td>214.00</td>\n",
       "      <td>2009</td>\n",
       "      <td>no</td>\n",
       "    </tr>\n",
       "    <tr>\n",
       "      <th>317</th>\n",
       "      <td>Radial Velocity</td>\n",
       "      <td>1</td>\n",
       "      <td>1.3283</td>\n",
       "      <td>18.37</td>\n",
       "      <td>43.03</td>\n",
       "      <td>2003</td>\n",
       "      <td>yes</td>\n",
       "    </tr>\n",
       "    <tr>\n",
       "      <th>321</th>\n",
       "      <td>Radial Velocity</td>\n",
       "      <td>1</td>\n",
       "      <td>2371.0000</td>\n",
       "      <td>25.00</td>\n",
       "      <td>37.05</td>\n",
       "      <td>2008</td>\n",
       "      <td>no</td>\n",
       "    </tr>\n",
       "    <tr>\n",
       "      <th>462</th>\n",
       "      <td>Radial Velocity</td>\n",
       "      <td>1</td>\n",
       "      <td>1951.0000</td>\n",
       "      <td>18.15</td>\n",
       "      <td>57.21</td>\n",
       "      <td>2008</td>\n",
       "      <td>no</td>\n",
       "    </tr>\n",
       "    <tr>\n",
       "      <th>492</th>\n",
       "      <td>Radial Velocity</td>\n",
       "      <td>1</td>\n",
       "      <td>2.3910</td>\n",
       "      <td>15.50</td>\n",
       "      <td>76.51</td>\n",
       "      <td>2009</td>\n",
       "      <td>no</td>\n",
       "    </tr>\n",
       "    <tr>\n",
       "      <th>527</th>\n",
       "      <td>Radial Velocity</td>\n",
       "      <td>2</td>\n",
       "      <td>1749.5000</td>\n",
       "      <td>18.10</td>\n",
       "      <td>37.88</td>\n",
       "      <td>2000</td>\n",
       "      <td>yes</td>\n",
       "    </tr>\n",
       "    <tr>\n",
       "      <th>575</th>\n",
       "      <td>Radial Velocity</td>\n",
       "      <td>2</td>\n",
       "      <td>255.8700</td>\n",
       "      <td>17.40</td>\n",
       "      <td>46.34</td>\n",
       "      <td>2002</td>\n",
       "      <td>yes</td>\n",
       "    </tr>\n",
       "    <tr>\n",
       "      <th>913</th>\n",
       "      <td>Radial Velocity</td>\n",
       "      <td>1</td>\n",
       "      <td>677.8000</td>\n",
       "      <td>19.80</td>\n",
       "      <td>NaN</td>\n",
       "      <td>2007</td>\n",
       "      <td>no</td>\n",
       "    </tr>\n",
       "  </tbody>\n",
       "</table>\n",
       "</div>"
      ]
     },
     "execution_count": 17,
     "metadata": {},
     "output_type": "execute_result"
    }
   ],
   "execution_count": 17
  },
  {
   "metadata": {
    "ExecuteTime": {
     "end_time": "2025-02-12T20:29:52.174650Z",
     "start_time": "2025-02-12T20:29:52.161545Z"
    }
   },
   "cell_type": "code",
   "source": "planet_sub.reset_index()\n",
   "id": "9e6be361be0ed3f1",
   "outputs": [
    {
     "data": {
      "text/plain": [
       "    index           method  number  orbital_period   Mass  distance  year  \\\n",
       "0       3  Radial Velocity       1        326.0300  19.40    110.62  2007   \n",
       "1      63  Radial Velocity       1        305.5000  20.60     92.51  2013   \n",
       "2      85  Radial Velocity       2        379.6300  21.42       NaN  2009   \n",
       "3     161  Radial Velocity       2        428.5000  15.20    214.00  2009   \n",
       "4     317  Radial Velocity       1          1.3283  18.37     43.03  2003   \n",
       "5     321  Radial Velocity       1       2371.0000  25.00     37.05  2008   \n",
       "6     462  Radial Velocity       1       1951.0000  18.15     57.21  2008   \n",
       "7     492  Radial Velocity       1          2.3910  15.50     76.51  2009   \n",
       "8     527  Radial Velocity       2       1749.5000  18.10     37.88  2000   \n",
       "9     575  Radial Velocity       2        255.8700  17.40     46.34  2002   \n",
       "10    913  Radial Velocity       1        677.8000  19.80       NaN  2007   \n",
       "\n",
       "   pre2005  \n",
       "0       no  \n",
       "1       no  \n",
       "2       no  \n",
       "3       no  \n",
       "4      yes  \n",
       "5       no  \n",
       "6       no  \n",
       "7       no  \n",
       "8      yes  \n",
       "9      yes  \n",
       "10      no  "
      ],
      "text/html": [
       "<div>\n",
       "<style scoped>\n",
       "    .dataframe tbody tr th:only-of-type {\n",
       "        vertical-align: middle;\n",
       "    }\n",
       "\n",
       "    .dataframe tbody tr th {\n",
       "        vertical-align: top;\n",
       "    }\n",
       "\n",
       "    .dataframe thead th {\n",
       "        text-align: right;\n",
       "    }\n",
       "</style>\n",
       "<table border=\"1\" class=\"dataframe\">\n",
       "  <thead>\n",
       "    <tr style=\"text-align: right;\">\n",
       "      <th></th>\n",
       "      <th>index</th>\n",
       "      <th>method</th>\n",
       "      <th>number</th>\n",
       "      <th>orbital_period</th>\n",
       "      <th>Mass</th>\n",
       "      <th>distance</th>\n",
       "      <th>year</th>\n",
       "      <th>pre2005</th>\n",
       "    </tr>\n",
       "  </thead>\n",
       "  <tbody>\n",
       "    <tr>\n",
       "      <th>0</th>\n",
       "      <td>3</td>\n",
       "      <td>Radial Velocity</td>\n",
       "      <td>1</td>\n",
       "      <td>326.0300</td>\n",
       "      <td>19.40</td>\n",
       "      <td>110.62</td>\n",
       "      <td>2007</td>\n",
       "      <td>no</td>\n",
       "    </tr>\n",
       "    <tr>\n",
       "      <th>1</th>\n",
       "      <td>63</td>\n",
       "      <td>Radial Velocity</td>\n",
       "      <td>1</td>\n",
       "      <td>305.5000</td>\n",
       "      <td>20.60</td>\n",
       "      <td>92.51</td>\n",
       "      <td>2013</td>\n",
       "      <td>no</td>\n",
       "    </tr>\n",
       "    <tr>\n",
       "      <th>2</th>\n",
       "      <td>85</td>\n",
       "      <td>Radial Velocity</td>\n",
       "      <td>2</td>\n",
       "      <td>379.6300</td>\n",
       "      <td>21.42</td>\n",
       "      <td>NaN</td>\n",
       "      <td>2009</td>\n",
       "      <td>no</td>\n",
       "    </tr>\n",
       "    <tr>\n",
       "      <th>3</th>\n",
       "      <td>161</td>\n",
       "      <td>Radial Velocity</td>\n",
       "      <td>2</td>\n",
       "      <td>428.5000</td>\n",
       "      <td>15.20</td>\n",
       "      <td>214.00</td>\n",
       "      <td>2009</td>\n",
       "      <td>no</td>\n",
       "    </tr>\n",
       "    <tr>\n",
       "      <th>4</th>\n",
       "      <td>317</td>\n",
       "      <td>Radial Velocity</td>\n",
       "      <td>1</td>\n",
       "      <td>1.3283</td>\n",
       "      <td>18.37</td>\n",
       "      <td>43.03</td>\n",
       "      <td>2003</td>\n",
       "      <td>yes</td>\n",
       "    </tr>\n",
       "    <tr>\n",
       "      <th>5</th>\n",
       "      <td>321</td>\n",
       "      <td>Radial Velocity</td>\n",
       "      <td>1</td>\n",
       "      <td>2371.0000</td>\n",
       "      <td>25.00</td>\n",
       "      <td>37.05</td>\n",
       "      <td>2008</td>\n",
       "      <td>no</td>\n",
       "    </tr>\n",
       "    <tr>\n",
       "      <th>6</th>\n",
       "      <td>462</td>\n",
       "      <td>Radial Velocity</td>\n",
       "      <td>1</td>\n",
       "      <td>1951.0000</td>\n",
       "      <td>18.15</td>\n",
       "      <td>57.21</td>\n",
       "      <td>2008</td>\n",
       "      <td>no</td>\n",
       "    </tr>\n",
       "    <tr>\n",
       "      <th>7</th>\n",
       "      <td>492</td>\n",
       "      <td>Radial Velocity</td>\n",
       "      <td>1</td>\n",
       "      <td>2.3910</td>\n",
       "      <td>15.50</td>\n",
       "      <td>76.51</td>\n",
       "      <td>2009</td>\n",
       "      <td>no</td>\n",
       "    </tr>\n",
       "    <tr>\n",
       "      <th>8</th>\n",
       "      <td>527</td>\n",
       "      <td>Radial Velocity</td>\n",
       "      <td>2</td>\n",
       "      <td>1749.5000</td>\n",
       "      <td>18.10</td>\n",
       "      <td>37.88</td>\n",
       "      <td>2000</td>\n",
       "      <td>yes</td>\n",
       "    </tr>\n",
       "    <tr>\n",
       "      <th>9</th>\n",
       "      <td>575</td>\n",
       "      <td>Radial Velocity</td>\n",
       "      <td>2</td>\n",
       "      <td>255.8700</td>\n",
       "      <td>17.40</td>\n",
       "      <td>46.34</td>\n",
       "      <td>2002</td>\n",
       "      <td>yes</td>\n",
       "    </tr>\n",
       "    <tr>\n",
       "      <th>10</th>\n",
       "      <td>913</td>\n",
       "      <td>Radial Velocity</td>\n",
       "      <td>1</td>\n",
       "      <td>677.8000</td>\n",
       "      <td>19.80</td>\n",
       "      <td>NaN</td>\n",
       "      <td>2007</td>\n",
       "      <td>no</td>\n",
       "    </tr>\n",
       "  </tbody>\n",
       "</table>\n",
       "</div>"
      ]
     },
     "execution_count": 18,
     "metadata": {},
     "output_type": "execute_result"
    }
   ],
   "execution_count": 18
  },
  {
   "metadata": {
    "ExecuteTime": {
     "end_time": "2025-02-12T20:30:04.532452Z",
     "start_time": "2025-02-12T20:30:04.522842Z"
    }
   },
   "cell_type": "code",
   "source": [
    "# sort based on one value\n",
    "planet_sub.sort_values('Mass', ascending=False)"
   ],
   "id": "e941cf85e86d2830",
   "outputs": [
    {
     "data": {
      "text/plain": [
       "              method  number  orbital_period   Mass  distance  year pre2005\n",
       "321  Radial Velocity       1       2371.0000  25.00     37.05  2008      no\n",
       "85   Radial Velocity       2        379.6300  21.42       NaN  2009      no\n",
       "63   Radial Velocity       1        305.5000  20.60     92.51  2013      no\n",
       "913  Radial Velocity       1        677.8000  19.80       NaN  2007      no\n",
       "3    Radial Velocity       1        326.0300  19.40    110.62  2007      no\n",
       "317  Radial Velocity       1          1.3283  18.37     43.03  2003     yes\n",
       "462  Radial Velocity       1       1951.0000  18.15     57.21  2008      no\n",
       "527  Radial Velocity       2       1749.5000  18.10     37.88  2000     yes\n",
       "575  Radial Velocity       2        255.8700  17.40     46.34  2002     yes\n",
       "492  Radial Velocity       1          2.3910  15.50     76.51  2009      no\n",
       "161  Radial Velocity       2        428.5000  15.20    214.00  2009      no"
      ],
      "text/html": [
       "<div>\n",
       "<style scoped>\n",
       "    .dataframe tbody tr th:only-of-type {\n",
       "        vertical-align: middle;\n",
       "    }\n",
       "\n",
       "    .dataframe tbody tr th {\n",
       "        vertical-align: top;\n",
       "    }\n",
       "\n",
       "    .dataframe thead th {\n",
       "        text-align: right;\n",
       "    }\n",
       "</style>\n",
       "<table border=\"1\" class=\"dataframe\">\n",
       "  <thead>\n",
       "    <tr style=\"text-align: right;\">\n",
       "      <th></th>\n",
       "      <th>method</th>\n",
       "      <th>number</th>\n",
       "      <th>orbital_period</th>\n",
       "      <th>Mass</th>\n",
       "      <th>distance</th>\n",
       "      <th>year</th>\n",
       "      <th>pre2005</th>\n",
       "    </tr>\n",
       "  </thead>\n",
       "  <tbody>\n",
       "    <tr>\n",
       "      <th>321</th>\n",
       "      <td>Radial Velocity</td>\n",
       "      <td>1</td>\n",
       "      <td>2371.0000</td>\n",
       "      <td>25.00</td>\n",
       "      <td>37.05</td>\n",
       "      <td>2008</td>\n",
       "      <td>no</td>\n",
       "    </tr>\n",
       "    <tr>\n",
       "      <th>85</th>\n",
       "      <td>Radial Velocity</td>\n",
       "      <td>2</td>\n",
       "      <td>379.6300</td>\n",
       "      <td>21.42</td>\n",
       "      <td>NaN</td>\n",
       "      <td>2009</td>\n",
       "      <td>no</td>\n",
       "    </tr>\n",
       "    <tr>\n",
       "      <th>63</th>\n",
       "      <td>Radial Velocity</td>\n",
       "      <td>1</td>\n",
       "      <td>305.5000</td>\n",
       "      <td>20.60</td>\n",
       "      <td>92.51</td>\n",
       "      <td>2013</td>\n",
       "      <td>no</td>\n",
       "    </tr>\n",
       "    <tr>\n",
       "      <th>913</th>\n",
       "      <td>Radial Velocity</td>\n",
       "      <td>1</td>\n",
       "      <td>677.8000</td>\n",
       "      <td>19.80</td>\n",
       "      <td>NaN</td>\n",
       "      <td>2007</td>\n",
       "      <td>no</td>\n",
       "    </tr>\n",
       "    <tr>\n",
       "      <th>3</th>\n",
       "      <td>Radial Velocity</td>\n",
       "      <td>1</td>\n",
       "      <td>326.0300</td>\n",
       "      <td>19.40</td>\n",
       "      <td>110.62</td>\n",
       "      <td>2007</td>\n",
       "      <td>no</td>\n",
       "    </tr>\n",
       "    <tr>\n",
       "      <th>317</th>\n",
       "      <td>Radial Velocity</td>\n",
       "      <td>1</td>\n",
       "      <td>1.3283</td>\n",
       "      <td>18.37</td>\n",
       "      <td>43.03</td>\n",
       "      <td>2003</td>\n",
       "      <td>yes</td>\n",
       "    </tr>\n",
       "    <tr>\n",
       "      <th>462</th>\n",
       "      <td>Radial Velocity</td>\n",
       "      <td>1</td>\n",
       "      <td>1951.0000</td>\n",
       "      <td>18.15</td>\n",
       "      <td>57.21</td>\n",
       "      <td>2008</td>\n",
       "      <td>no</td>\n",
       "    </tr>\n",
       "    <tr>\n",
       "      <th>527</th>\n",
       "      <td>Radial Velocity</td>\n",
       "      <td>2</td>\n",
       "      <td>1749.5000</td>\n",
       "      <td>18.10</td>\n",
       "      <td>37.88</td>\n",
       "      <td>2000</td>\n",
       "      <td>yes</td>\n",
       "    </tr>\n",
       "    <tr>\n",
       "      <th>575</th>\n",
       "      <td>Radial Velocity</td>\n",
       "      <td>2</td>\n",
       "      <td>255.8700</td>\n",
       "      <td>17.40</td>\n",
       "      <td>46.34</td>\n",
       "      <td>2002</td>\n",
       "      <td>yes</td>\n",
       "    </tr>\n",
       "    <tr>\n",
       "      <th>492</th>\n",
       "      <td>Radial Velocity</td>\n",
       "      <td>1</td>\n",
       "      <td>2.3910</td>\n",
       "      <td>15.50</td>\n",
       "      <td>76.51</td>\n",
       "      <td>2009</td>\n",
       "      <td>no</td>\n",
       "    </tr>\n",
       "    <tr>\n",
       "      <th>161</th>\n",
       "      <td>Radial Velocity</td>\n",
       "      <td>2</td>\n",
       "      <td>428.5000</td>\n",
       "      <td>15.20</td>\n",
       "      <td>214.00</td>\n",
       "      <td>2009</td>\n",
       "      <td>no</td>\n",
       "    </tr>\n",
       "  </tbody>\n",
       "</table>\n",
       "</div>"
      ]
     },
     "execution_count": 19,
     "metadata": {},
     "output_type": "execute_result"
    }
   ],
   "execution_count": 19
  },
  {
   "metadata": {
    "ExecuteTime": {
     "end_time": "2025-02-12T20:30:12.590261Z",
     "start_time": "2025-02-12T20:30:12.581542Z"
    }
   },
   "cell_type": "code",
   "source": "planet_sub.sort_values(by = ['orbital_period', 'Mass'], ascending=False)\n",
   "id": "6071476e2bce40a7",
   "outputs": [
    {
     "data": {
      "text/plain": [
       "              method  number  orbital_period   Mass  distance  year pre2005\n",
       "321  Radial Velocity       1       2371.0000  25.00     37.05  2008      no\n",
       "462  Radial Velocity       1       1951.0000  18.15     57.21  2008      no\n",
       "527  Radial Velocity       2       1749.5000  18.10     37.88  2000     yes\n",
       "913  Radial Velocity       1        677.8000  19.80       NaN  2007      no\n",
       "161  Radial Velocity       2        428.5000  15.20    214.00  2009      no\n",
       "85   Radial Velocity       2        379.6300  21.42       NaN  2009      no\n",
       "3    Radial Velocity       1        326.0300  19.40    110.62  2007      no\n",
       "63   Radial Velocity       1        305.5000  20.60     92.51  2013      no\n",
       "575  Radial Velocity       2        255.8700  17.40     46.34  2002     yes\n",
       "492  Radial Velocity       1          2.3910  15.50     76.51  2009      no\n",
       "317  Radial Velocity       1          1.3283  18.37     43.03  2003     yes"
      ],
      "text/html": [
       "<div>\n",
       "<style scoped>\n",
       "    .dataframe tbody tr th:only-of-type {\n",
       "        vertical-align: middle;\n",
       "    }\n",
       "\n",
       "    .dataframe tbody tr th {\n",
       "        vertical-align: top;\n",
       "    }\n",
       "\n",
       "    .dataframe thead th {\n",
       "        text-align: right;\n",
       "    }\n",
       "</style>\n",
       "<table border=\"1\" class=\"dataframe\">\n",
       "  <thead>\n",
       "    <tr style=\"text-align: right;\">\n",
       "      <th></th>\n",
       "      <th>method</th>\n",
       "      <th>number</th>\n",
       "      <th>orbital_period</th>\n",
       "      <th>Mass</th>\n",
       "      <th>distance</th>\n",
       "      <th>year</th>\n",
       "      <th>pre2005</th>\n",
       "    </tr>\n",
       "  </thead>\n",
       "  <tbody>\n",
       "    <tr>\n",
       "      <th>321</th>\n",
       "      <td>Radial Velocity</td>\n",
       "      <td>1</td>\n",
       "      <td>2371.0000</td>\n",
       "      <td>25.00</td>\n",
       "      <td>37.05</td>\n",
       "      <td>2008</td>\n",
       "      <td>no</td>\n",
       "    </tr>\n",
       "    <tr>\n",
       "      <th>462</th>\n",
       "      <td>Radial Velocity</td>\n",
       "      <td>1</td>\n",
       "      <td>1951.0000</td>\n",
       "      <td>18.15</td>\n",
       "      <td>57.21</td>\n",
       "      <td>2008</td>\n",
       "      <td>no</td>\n",
       "    </tr>\n",
       "    <tr>\n",
       "      <th>527</th>\n",
       "      <td>Radial Velocity</td>\n",
       "      <td>2</td>\n",
       "      <td>1749.5000</td>\n",
       "      <td>18.10</td>\n",
       "      <td>37.88</td>\n",
       "      <td>2000</td>\n",
       "      <td>yes</td>\n",
       "    </tr>\n",
       "    <tr>\n",
       "      <th>913</th>\n",
       "      <td>Radial Velocity</td>\n",
       "      <td>1</td>\n",
       "      <td>677.8000</td>\n",
       "      <td>19.80</td>\n",
       "      <td>NaN</td>\n",
       "      <td>2007</td>\n",
       "      <td>no</td>\n",
       "    </tr>\n",
       "    <tr>\n",
       "      <th>161</th>\n",
       "      <td>Radial Velocity</td>\n",
       "      <td>2</td>\n",
       "      <td>428.5000</td>\n",
       "      <td>15.20</td>\n",
       "      <td>214.00</td>\n",
       "      <td>2009</td>\n",
       "      <td>no</td>\n",
       "    </tr>\n",
       "    <tr>\n",
       "      <th>85</th>\n",
       "      <td>Radial Velocity</td>\n",
       "      <td>2</td>\n",
       "      <td>379.6300</td>\n",
       "      <td>21.42</td>\n",
       "      <td>NaN</td>\n",
       "      <td>2009</td>\n",
       "      <td>no</td>\n",
       "    </tr>\n",
       "    <tr>\n",
       "      <th>3</th>\n",
       "      <td>Radial Velocity</td>\n",
       "      <td>1</td>\n",
       "      <td>326.0300</td>\n",
       "      <td>19.40</td>\n",
       "      <td>110.62</td>\n",
       "      <td>2007</td>\n",
       "      <td>no</td>\n",
       "    </tr>\n",
       "    <tr>\n",
       "      <th>63</th>\n",
       "      <td>Radial Velocity</td>\n",
       "      <td>1</td>\n",
       "      <td>305.5000</td>\n",
       "      <td>20.60</td>\n",
       "      <td>92.51</td>\n",
       "      <td>2013</td>\n",
       "      <td>no</td>\n",
       "    </tr>\n",
       "    <tr>\n",
       "      <th>575</th>\n",
       "      <td>Radial Velocity</td>\n",
       "      <td>2</td>\n",
       "      <td>255.8700</td>\n",
       "      <td>17.40</td>\n",
       "      <td>46.34</td>\n",
       "      <td>2002</td>\n",
       "      <td>yes</td>\n",
       "    </tr>\n",
       "    <tr>\n",
       "      <th>492</th>\n",
       "      <td>Radial Velocity</td>\n",
       "      <td>1</td>\n",
       "      <td>2.3910</td>\n",
       "      <td>15.50</td>\n",
       "      <td>76.51</td>\n",
       "      <td>2009</td>\n",
       "      <td>no</td>\n",
       "    </tr>\n",
       "    <tr>\n",
       "      <th>317</th>\n",
       "      <td>Radial Velocity</td>\n",
       "      <td>1</td>\n",
       "      <td>1.3283</td>\n",
       "      <td>18.37</td>\n",
       "      <td>43.03</td>\n",
       "      <td>2003</td>\n",
       "      <td>yes</td>\n",
       "    </tr>\n",
       "  </tbody>\n",
       "</table>\n",
       "</div>"
      ]
     },
     "execution_count": 20,
     "metadata": {},
     "output_type": "execute_result"
    }
   ],
   "execution_count": 20
  },
  {
   "metadata": {
    "ExecuteTime": {
     "end_time": "2025-02-12T20:30:21.142850Z",
     "start_time": "2025-02-12T20:30:21.130354Z"
    }
   },
   "cell_type": "code",
   "source": [
    "planet_sub['mass_c'] = planet_sub['Mass'].transform(lambda x: x - x.mean())\n",
    "planet_sub"
   ],
   "id": "fc9dcfd20d21de53",
   "outputs": [
    {
     "data": {
      "text/plain": [
       "              method  number  orbital_period   Mass  distance  year pre2005  \\\n",
       "3    Radial Velocity       1        326.0300  19.40    110.62  2007      no   \n",
       "63   Radial Velocity       1        305.5000  20.60     92.51  2013      no   \n",
       "85   Radial Velocity       2        379.6300  21.42       NaN  2009      no   \n",
       "161  Radial Velocity       2        428.5000  15.20    214.00  2009      no   \n",
       "317  Radial Velocity       1          1.3283  18.37     43.03  2003     yes   \n",
       "321  Radial Velocity       1       2371.0000  25.00     37.05  2008      no   \n",
       "462  Radial Velocity       1       1951.0000  18.15     57.21  2008      no   \n",
       "492  Radial Velocity       1          2.3910  15.50     76.51  2009      no   \n",
       "527  Radial Velocity       2       1749.5000  18.10     37.88  2000     yes   \n",
       "575  Radial Velocity       2        255.8700  17.40     46.34  2002     yes   \n",
       "913  Radial Velocity       1        677.8000  19.80       NaN  2007      no   \n",
       "\n",
       "       mass_c  \n",
       "3    0.405455  \n",
       "63   1.605455  \n",
       "85   2.425455  \n",
       "161 -3.794545  \n",
       "317 -0.624545  \n",
       "321  6.005455  \n",
       "462 -0.844545  \n",
       "492 -3.494545  \n",
       "527 -0.894545  \n",
       "575 -1.594545  \n",
       "913  0.805455  "
      ],
      "text/html": [
       "<div>\n",
       "<style scoped>\n",
       "    .dataframe tbody tr th:only-of-type {\n",
       "        vertical-align: middle;\n",
       "    }\n",
       "\n",
       "    .dataframe tbody tr th {\n",
       "        vertical-align: top;\n",
       "    }\n",
       "\n",
       "    .dataframe thead th {\n",
       "        text-align: right;\n",
       "    }\n",
       "</style>\n",
       "<table border=\"1\" class=\"dataframe\">\n",
       "  <thead>\n",
       "    <tr style=\"text-align: right;\">\n",
       "      <th></th>\n",
       "      <th>method</th>\n",
       "      <th>number</th>\n",
       "      <th>orbital_period</th>\n",
       "      <th>Mass</th>\n",
       "      <th>distance</th>\n",
       "      <th>year</th>\n",
       "      <th>pre2005</th>\n",
       "      <th>mass_c</th>\n",
       "    </tr>\n",
       "  </thead>\n",
       "  <tbody>\n",
       "    <tr>\n",
       "      <th>3</th>\n",
       "      <td>Radial Velocity</td>\n",
       "      <td>1</td>\n",
       "      <td>326.0300</td>\n",
       "      <td>19.40</td>\n",
       "      <td>110.62</td>\n",
       "      <td>2007</td>\n",
       "      <td>no</td>\n",
       "      <td>0.405455</td>\n",
       "    </tr>\n",
       "    <tr>\n",
       "      <th>63</th>\n",
       "      <td>Radial Velocity</td>\n",
       "      <td>1</td>\n",
       "      <td>305.5000</td>\n",
       "      <td>20.60</td>\n",
       "      <td>92.51</td>\n",
       "      <td>2013</td>\n",
       "      <td>no</td>\n",
       "      <td>1.605455</td>\n",
       "    </tr>\n",
       "    <tr>\n",
       "      <th>85</th>\n",
       "      <td>Radial Velocity</td>\n",
       "      <td>2</td>\n",
       "      <td>379.6300</td>\n",
       "      <td>21.42</td>\n",
       "      <td>NaN</td>\n",
       "      <td>2009</td>\n",
       "      <td>no</td>\n",
       "      <td>2.425455</td>\n",
       "    </tr>\n",
       "    <tr>\n",
       "      <th>161</th>\n",
       "      <td>Radial Velocity</td>\n",
       "      <td>2</td>\n",
       "      <td>428.5000</td>\n",
       "      <td>15.20</td>\n",
       "      <td>214.00</td>\n",
       "      <td>2009</td>\n",
       "      <td>no</td>\n",
       "      <td>-3.794545</td>\n",
       "    </tr>\n",
       "    <tr>\n",
       "      <th>317</th>\n",
       "      <td>Radial Velocity</td>\n",
       "      <td>1</td>\n",
       "      <td>1.3283</td>\n",
       "      <td>18.37</td>\n",
       "      <td>43.03</td>\n",
       "      <td>2003</td>\n",
       "      <td>yes</td>\n",
       "      <td>-0.624545</td>\n",
       "    </tr>\n",
       "    <tr>\n",
       "      <th>321</th>\n",
       "      <td>Radial Velocity</td>\n",
       "      <td>1</td>\n",
       "      <td>2371.0000</td>\n",
       "      <td>25.00</td>\n",
       "      <td>37.05</td>\n",
       "      <td>2008</td>\n",
       "      <td>no</td>\n",
       "      <td>6.005455</td>\n",
       "    </tr>\n",
       "    <tr>\n",
       "      <th>462</th>\n",
       "      <td>Radial Velocity</td>\n",
       "      <td>1</td>\n",
       "      <td>1951.0000</td>\n",
       "      <td>18.15</td>\n",
       "      <td>57.21</td>\n",
       "      <td>2008</td>\n",
       "      <td>no</td>\n",
       "      <td>-0.844545</td>\n",
       "    </tr>\n",
       "    <tr>\n",
       "      <th>492</th>\n",
       "      <td>Radial Velocity</td>\n",
       "      <td>1</td>\n",
       "      <td>2.3910</td>\n",
       "      <td>15.50</td>\n",
       "      <td>76.51</td>\n",
       "      <td>2009</td>\n",
       "      <td>no</td>\n",
       "      <td>-3.494545</td>\n",
       "    </tr>\n",
       "    <tr>\n",
       "      <th>527</th>\n",
       "      <td>Radial Velocity</td>\n",
       "      <td>2</td>\n",
       "      <td>1749.5000</td>\n",
       "      <td>18.10</td>\n",
       "      <td>37.88</td>\n",
       "      <td>2000</td>\n",
       "      <td>yes</td>\n",
       "      <td>-0.894545</td>\n",
       "    </tr>\n",
       "    <tr>\n",
       "      <th>575</th>\n",
       "      <td>Radial Velocity</td>\n",
       "      <td>2</td>\n",
       "      <td>255.8700</td>\n",
       "      <td>17.40</td>\n",
       "      <td>46.34</td>\n",
       "      <td>2002</td>\n",
       "      <td>yes</td>\n",
       "      <td>-1.594545</td>\n",
       "    </tr>\n",
       "    <tr>\n",
       "      <th>913</th>\n",
       "      <td>Radial Velocity</td>\n",
       "      <td>1</td>\n",
       "      <td>677.8000</td>\n",
       "      <td>19.80</td>\n",
       "      <td>NaN</td>\n",
       "      <td>2007</td>\n",
       "      <td>no</td>\n",
       "      <td>0.805455</td>\n",
       "    </tr>\n",
       "  </tbody>\n",
       "</table>\n",
       "</div>"
      ]
     },
     "execution_count": 21,
     "metadata": {},
     "output_type": "execute_result"
    }
   ],
   "execution_count": 21
  },
  {
   "metadata": {
    "ExecuteTime": {
     "end_time": "2025-02-12T20:30:28.580181Z",
     "start_time": "2025-02-12T20:30:28.441065Z"
    }
   },
   "cell_type": "code",
   "source": [
    "import seaborn as sns\n",
    "import matplotlib.pyplot as plt\n",
    "sns.histplot(planets['Mass'])\n",
    "plt.show()"
   ],
   "id": "25d1f00cfc1bbcf1",
   "outputs": [
    {
     "data": {
      "text/plain": [
       "<Figure size 640x480 with 1 Axes>"
      ],
      "image/png": "[encoded data removed]"
     },
     "metadata": {},
     "output_type": "display_data"
    }
   ],
   "execution_count": 22
  },
  {
   "metadata": {
    "ExecuteTime": {
     "end_time": "2025-02-12T20:30:34.090151Z",
     "start_time": "2025-02-12T20:30:34.035304Z"
    }
   },
   "cell_type": "code",
   "source": [
    "sns.boxplot(planets['Mass'])\n",
    "plt.show()"
   ],
   "id": "991893ec04d48d68",
   "outputs": [
    {
     "data": {
      "text/plain": [
       "<Figure size 640x480 with 1 Axes>"
      ],
      "image/png": "[encoded data removed]"
     },
     "metadata": {},
     "output_type": "display_data"
    }
   ],
   "execution_count": 23
  },
  {
   "metadata": {
    "ExecuteTime": {
     "end_time": "2025-02-12T20:30:40.424578Z",
     "start_time": "2025-02-12T20:30:40.321686Z"
    }
   },
   "cell_type": "code",
   "source": [
    "sns.countplot(planets['method'])\n",
    "plt.show()"
   ],
   "id": "8cb93eecbbf87fc0",
   "outputs": [
    {
     "data": {
      "text/plain": [
       "<Axes: xlabel='count', ylabel='method'>"
      ]
     },
     "execution_count": 24,
     "metadata": {},
     "output_type": "execute_result"
    },
    {
     "data": {
      "text/plain": [
       "<Figure size 640x480 with 1 Axes>"
      ],
      "image/png": "[encoded data removed]"
     },
     "metadata": {},
     "output_type": "display_data"
    }
   ],
   "execution_count": 24
  },
  {
   "metadata": {
    "ExecuteTime": {
     "end_time": "2025-02-12T20:30:47.440791Z",
     "start_time": "2025-02-12T20:30:47.329497Z"
    }
   },
   "cell_type": "code",
   "source": [
    "sns.scatterplot(x = 'Mass', y = 'orbital_period', hue = 'method', data = planets)\n",
    "plt.show()"
   ],
   "id": "53bb7f6f5dee5a23",
   "outputs": [
    {
     "data": {
      "text/plain": [
       "<Figure size 640x480 with 1 Axes>"
      ],
      "image/png": "[encoded data removed]"
     },
     "metadata": {},
     "output_type": "display_data"
    }
   ],
   "execution_count": 25
  },
  {
   "metadata": {
    "ExecuteTime": {
     "end_time": "2025-02-13T14:34:43.152926Z",
     "start_time": "2025-02-13T14:34:43.038562Z"
    }
   },
   "cell_type": "code",
   "source": [
    "planets['method_code'] = pd.Categorical(planets['method']).codes\n",
    "\n",
    "plt.scatter(planets['Mass'],\n",
    "            planets['orbital_period'],\n",
    "            alpha=0.5,\n",
    "            s=planets['distance'],\n",
    "            c=planets['method_code'],\n",
    "            cmap = 'viridis')\n",
    "# plt.xlabel(iris.feature_names[0])\n",
    "# plt.ylabel(iris.feature_names[1]);"
   ],
   "id": "4116c36afe519e1",
   "outputs": [
    {
     "data": {
      "text/plain": [
       "<matplotlib.collections.PathCollection at 0x126f2b7a0>"
      ]
     },
     "execution_count": 33,
     "metadata": {},
     "output_type": "execute_result"
    },
    {
     "data": {
      "text/plain": [
       "<Figure size 640x480 with 1 Axes>"
      ],
      "image/png": "[encoded data removed]"
     },
     "metadata": {},
     "output_type": "display_data"
    }
   ],
   "execution_count": 33
  },
  {
   "metadata": {
    "ExecuteTime": {
     "end_time": "2025-02-13T14:32:15.013772Z",
     "start_time": "2025-02-13T14:32:15.007400Z"
    }
   },
   "cell_type": "code",
   "source": "planets['method_code'].unique()",
   "id": "9b4a3529ec2f3d02",
   "outputs": [
    {
     "data": {
      "text/plain": [
       "array([7, 2, 1, 8, 0, 9, 4, 3, 5, 6], dtype=int8)"
      ]
     },
     "execution_count": 29,
     "metadata": {},
     "output_type": "execute_result"
    }
   ],
   "execution_count": 29
  },
  {
   "metadata": {},
   "cell_type": "code",
   "outputs": [],
   "execution_count": null,
   "source": "",
   "id": "ed47896f41df26e5"
  }
 ],
 "metadata": {
  "kernelspec": {
   "display_name": "Python 3",
   "language": "python",
   "name": "python3"
  },
  "language_info": {
   "codemirror_mode": {
    "name": "ipython",
    "version": 2
   },
   "file_extension": ".py",
   "mimetype": "text/x-python",
   "name": "python",
   "nbconvert_exporter": "python",
   "pygments_lexer": "ipython2",
   "version": "2.7.6"
  }
 },
 "nbformat": 4,
 "nbformat_minor": 5
}
