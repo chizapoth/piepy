{
 "cells": [
  {
   "metadata": {},
   "cell_type": "markdown",
   "source": [
    "# Pandas: Series\n",
    "Series is for 1D data. For 2D, it is DataFrame.\n"
   ],
   "id": "a289b9a6fa7cc9ce"
  },
  {
   "metadata": {
    "ExecuteTime": {
     "end_time": "2025-01-29T14:34:44.943983Z",
     "start_time": "2025-01-29T14:34:44.613041Z"
    }
   },
   "cell_type": "code",
   "source": [
    "import numpy as np\n",
    "import pandas as pd\n",
    "\n",
    "# pandas series object\n",
    "# gives a column variable\n",
    "data = pd.Series([0.25, 0.5, 0.75, 1.0])\n",
    "data"
   ],
   "id": "2b9ba16f933b8eaf",
   "outputs": [
    {
     "data": {
      "text/plain": [
       "0    0.25\n",
       "1    0.50\n",
       "2    0.75\n",
       "3    1.00\n",
       "dtype: float64"
      ]
     },
     "execution_count": 1,
     "metadata": {},
     "output_type": "execute_result"
    }
   ],
   "execution_count": 1
  },
  {
   "metadata": {
    "ExecuteTime": {
     "end_time": "2025-01-29T14:39:14.144034Z",
     "start_time": "2025-01-29T14:39:14.132781Z"
    }
   },
   "cell_type": "code",
   "source": [
    "# access the values in the data object, use .values\n",
    "data.values"
   ],
   "id": "f75123d4c630c4e5",
   "outputs": [
    {
     "data": {
      "text/plain": [
       "array([0.25, 0.5 , 0.75, 1.  ])"
      ]
     },
     "execution_count": 2,
     "metadata": {},
     "output_type": "execute_result"
    }
   ],
   "execution_count": 2
  },
  {
   "metadata": {},
   "cell_type": "markdown",
   "source": "## Indices for pandas series",
   "id": "530cb9b2fd43bf70"
  },
  {
   "metadata": {
    "ExecuteTime": {
     "end_time": "2025-01-29T14:39:35.241433Z",
     "start_time": "2025-01-29T14:39:35.236734Z"
    }
   },
   "cell_type": "code",
   "source": [
    "# data index\n",
    "data.index"
   ],
   "id": "8adc1a90ea19a788",
   "outputs": [
    {
     "data": {
      "text/plain": [
       "RangeIndex(start=0, stop=4, step=1)"
      ]
     },
     "execution_count": 3,
     "metadata": {},
     "output_type": "execute_result"
    }
   ],
   "execution_count": 3
  },
  {
   "metadata": {
    "ExecuteTime": {
     "end_time": "2025-01-29T14:39:42.986539Z",
     "start_time": "2025-01-29T14:39:42.981746Z"
    }
   },
   "cell_type": "code",
   "source": "data[1] # gives the 2nd",
   "id": "12379bf625c32347",
   "outputs": [
    {
     "data": {
      "text/plain": [
       "np.float64(0.5)"
      ]
     },
     "execution_count": 4,
     "metadata": {},
     "output_type": "execute_result"
    }
   ],
   "execution_count": 4
  },
  {
   "metadata": {
    "ExecuteTime": {
     "end_time": "2025-01-29T14:39:53.848943Z",
     "start_time": "2025-01-29T14:39:53.844112Z"
    }
   },
   "cell_type": "code",
   "source": "data[1:3] # gives the 2nd to 3rd",
   "id": "5d0d9344b2c6733e",
   "outputs": [
    {
     "data": {
      "text/plain": [
       "1    0.50\n",
       "2    0.75\n",
       "dtype: float64"
      ]
     },
     "execution_count": 5,
     "metadata": {},
     "output_type": "execute_result"
    }
   ],
   "execution_count": 5
  },
  {
   "metadata": {
    "ExecuteTime": {
     "end_time": "2025-01-29T14:41:49.997301Z",
     "start_time": "2025-01-29T14:41:49.986954Z"
    }
   },
   "cell_type": "code",
   "source": [
    "# with Series, can use 'explicitly' defined index names\n",
    "data2 = pd.Series([0.25, 0.5, 0.75, 1.0],\n",
    "                  index = ['a', 'b', 'c', 'd'])\n",
    "data2"
   ],
   "id": "e2107da10eda425b",
   "outputs": [
    {
     "data": {
      "text/plain": [
       "a    0.25\n",
       "b    0.50\n",
       "c    0.75\n",
       "d    1.00\n",
       "dtype: float64"
      ]
     },
     "execution_count": 6,
     "metadata": {},
     "output_type": "execute_result"
    }
   ],
   "execution_count": 6
  },
  {
   "metadata": {
    "ExecuteTime": {
     "end_time": "2025-01-29T14:42:01.256169Z",
     "start_time": "2025-01-29T14:42:01.251349Z"
    }
   },
   "cell_type": "code",
   "source": [
    "# access items\n",
    "data2['b']"
   ],
   "id": "fa47f29302ae1ea9",
   "outputs": [
    {
     "data": {
      "text/plain": [
       "np.float64(0.5)"
      ]
     },
     "execution_count": 7,
     "metadata": {},
     "output_type": "execute_result"
    }
   ],
   "execution_count": 7
  },
  {
   "metadata": {
    "ExecuteTime": {
     "end_time": "2025-01-29T14:42:45.496420Z",
     "start_time": "2025-01-29T14:42:45.488980Z"
    }
   },
   "cell_type": "code",
   "source": [
    "# possible even to use non-sequential indices\n",
    "# but this is less intuitive so probably not going to be useful\n",
    "data3 = pd.Series([0.25, 0.5, 0.75, 1.0],\n",
    "                  index=[2,4,5,1])\n",
    "data3[2]"
   ],
   "id": "719505a83d441bf8",
   "outputs": [
    {
     "data": {
      "text/plain": [
       "np.float64(0.25)"
      ]
     },
     "execution_count": 8,
     "metadata": {},
     "output_type": "execute_result"
    }
   ],
   "execution_count": 8
  },
  {
   "metadata": {},
   "cell_type": "markdown",
   "source": [
    "### Series as dictionary\n",
    "\n",
    "Dictionary is a structure that maps **keys** to a set of **values**."
   ],
   "id": "355c6d8a97085d1a"
  },
  {
   "metadata": {
    "ExecuteTime": {
     "end_time": "2025-01-29T14:45:47.531420Z",
     "start_time": "2025-01-29T14:45:47.519218Z"
    }
   },
   "cell_type": "code",
   "source": [
    "my_dict = {'a': 100,\n",
    "           'b': 200,\n",
    "           'c': 300}\n",
    "my_dict = pd.Series(my_dict)\n",
    "my_dict"
   ],
   "id": "5b51a57e4429492a",
   "outputs": [
    {
     "data": {
      "text/plain": [
       "a    100\n",
       "b    200\n",
       "c    300\n",
       "dtype: int64"
      ]
     },
     "execution_count": 9,
     "metadata": {},
     "output_type": "execute_result"
    }
   ],
   "execution_count": 9
  },
  {
   "metadata": {
    "ExecuteTime": {
     "end_time": "2025-01-29T14:46:04.770249Z",
     "start_time": "2025-01-29T14:46:04.765043Z"
    }
   },
   "cell_type": "code",
   "source": "my_dict['c']",
   "id": "b356ebb8293ad35b",
   "outputs": [
    {
     "data": {
      "text/plain": [
       "np.int64(300)"
      ]
     },
     "execution_count": 10,
     "metadata": {},
     "output_type": "execute_result"
    }
   ],
   "execution_count": 10
  },
  {
   "metadata": {},
   "cell_type": "markdown",
   "source": [
    "# Pandas DataFrame\n",
    "\n",
    "DataFrame is a generalized Numpy array, basically a sequence of aligned Series - sharing the same indices."
   ],
   "id": "3f29bc4f30089025"
  },
  {
   "metadata": {
    "ExecuteTime": {
     "end_time": "2025-01-29T14:49:54.742974Z",
     "start_time": "2025-01-29T14:49:54.733700Z"
    }
   },
   "cell_type": "code",
   "source": [
    "# define population\n",
    "population_dict = {'California': 38332521,\n",
    "                   'Texas': 26448193,\n",
    "                   'New York': 19651127,\n",
    "                   'Florida': 19552860,\n",
    "                   'Illinois': 12882135}\n",
    "population = pd.Series(population_dict)\n",
    "\n",
    "# define area\n",
    "area_dict = {'California': 423967,\n",
    "             'Texas': 695662,\n",
    "             'New York': 141297,\n",
    "             'Florida': 170312,\n",
    "             'Illinois': 149995}\n",
    "area = pd.Series(area_dict)\n",
    "\n",
    "# now combine these two\n",
    "states = pd.DataFrame({\n",
    "    'population': population,\n",
    "    'area': area\n",
    "})\n",
    "states"
   ],
   "id": "c8dda418180d6489",
   "outputs": [
    {
     "data": {
      "text/plain": [
       "            population    area\n",
       "California    38332521  423967\n",
       "Texas         26448193  695662\n",
       "New York      19651127  141297\n",
       "Florida       19552860  170312\n",
       "Illinois      12882135  149995"
      ],
      "text/html": [
       "<div>\n",
       "<style scoped>\n",
       "    .dataframe tbody tr th:only-of-type {\n",
       "        vertical-align: middle;\n",
       "    }\n",
       "\n",
       "    .dataframe tbody tr th {\n",
       "        vertical-align: top;\n",
       "    }\n",
       "\n",
       "    .dataframe thead th {\n",
       "        text-align: right;\n",
       "    }\n",
       "</style>\n",
       "<table border=\"1\" class=\"dataframe\">\n",
       "  <thead>\n",
       "    <tr style=\"text-align: right;\">\n",
       "      <th></th>\n",
       "      <th>population</th>\n",
       "      <th>area</th>\n",
       "    </tr>\n",
       "  </thead>\n",
       "  <tbody>\n",
       "    <tr>\n",
       "      <th>California</th>\n",
       "      <td>38332521</td>\n",
       "      <td>423967</td>\n",
       "    </tr>\n",
       "    <tr>\n",
       "      <th>Texas</th>\n",
       "      <td>26448193</td>\n",
       "      <td>695662</td>\n",
       "    </tr>\n",
       "    <tr>\n",
       "      <th>New York</th>\n",
       "      <td>19651127</td>\n",
       "      <td>141297</td>\n",
       "    </tr>\n",
       "    <tr>\n",
       "      <th>Florida</th>\n",
       "      <td>19552860</td>\n",
       "      <td>170312</td>\n",
       "    </tr>\n",
       "    <tr>\n",
       "      <th>Illinois</th>\n",
       "      <td>12882135</td>\n",
       "      <td>149995</td>\n",
       "    </tr>\n",
       "  </tbody>\n",
       "</table>\n",
       "</div>"
      ]
     },
     "execution_count": 13,
     "metadata": {},
     "output_type": "execute_result"
    }
   ],
   "execution_count": 13
  },
  {
   "metadata": {
    "ExecuteTime": {
     "end_time": "2025-01-29T14:50:29.239747Z",
     "start_time": "2025-01-29T14:50:29.236321Z"
    }
   },
   "cell_type": "code",
   "source": [
    "# check index (row names)\n",
    "states.index"
   ],
   "id": "16a0f140a882a2a8",
   "outputs": [
    {
     "data": {
      "text/plain": [
       "Index(['California', 'Texas', 'New York', 'Florida', 'Illinois'], dtype='object')"
      ]
     },
     "execution_count": 14,
     "metadata": {},
     "output_type": "execute_result"
    }
   ],
   "execution_count": 14
  },
  {
   "metadata": {
    "ExecuteTime": {
     "end_time": "2025-01-29T15:00:45.102725Z",
     "start_time": "2025-01-29T15:00:45.090860Z"
    }
   },
   "cell_type": "code",
   "source": [
    "# column names\n",
    "states.columns"
   ],
   "id": "539c6d50ddd22799",
   "outputs": [
    {
     "data": {
      "text/plain": [
       "Index(['population', 'area'], dtype='object')"
      ]
     },
     "execution_count": 15,
     "metadata": {},
     "output_type": "execute_result"
    }
   ],
   "execution_count": 15
  },
  {
   "metadata": {
    "ExecuteTime": {
     "end_time": "2025-01-29T15:00:51.812192Z",
     "start_time": "2025-01-29T15:00:51.806303Z"
    }
   },
   "cell_type": "code",
   "source": "states['area'] # select one column",
   "id": "820d7b098b8fb5fd",
   "outputs": [
    {
     "data": {
      "text/plain": [
       "California    423967\n",
       "Texas         695662\n",
       "New York      141297\n",
       "Florida       170312\n",
       "Illinois      149995\n",
       "Name: area, dtype: int64"
      ]
     },
     "execution_count": 16,
     "metadata": {},
     "output_type": "execute_result"
    }
   ],
   "execution_count": 16
  },
  {
   "metadata": {
    "ExecuteTime": {
     "end_time": "2025-01-29T15:04:52.804282Z",
     "start_time": "2025-01-29T15:04:52.791313Z"
    }
   },
   "cell_type": "code",
   "source": [
    "# create DataFrame from dictionary\n",
    "# if some values are missing, it'll create a union of all keys\n",
    "pd.DataFrame([{'a': 1, 'b': 2}, {'b': 3, 'c': 4}])"
   ],
   "id": "d82acd14ee0d0088",
   "outputs": [
    {
     "data": {
      "text/plain": [
       "     a  b    c\n",
       "0  1.0  2  NaN\n",
       "1  NaN  3  4.0"
      ],
      "text/html": [
       "<div>\n",
       "<style scoped>\n",
       "    .dataframe tbody tr th:only-of-type {\n",
       "        vertical-align: middle;\n",
       "    }\n",
       "\n",
       "    .dataframe tbody tr th {\n",
       "        vertical-align: top;\n",
       "    }\n",
       "\n",
       "    .dataframe thead th {\n",
       "        text-align: right;\n",
       "    }\n",
       "</style>\n",
       "<table border=\"1\" class=\"dataframe\">\n",
       "  <thead>\n",
       "    <tr style=\"text-align: right;\">\n",
       "      <th></th>\n",
       "      <th>a</th>\n",
       "      <th>b</th>\n",
       "      <th>c</th>\n",
       "    </tr>\n",
       "  </thead>\n",
       "  <tbody>\n",
       "    <tr>\n",
       "      <th>0</th>\n",
       "      <td>1.0</td>\n",
       "      <td>2</td>\n",
       "      <td>NaN</td>\n",
       "    </tr>\n",
       "    <tr>\n",
       "      <th>1</th>\n",
       "      <td>NaN</td>\n",
       "      <td>3</td>\n",
       "      <td>4.0</td>\n",
       "    </tr>\n",
       "  </tbody>\n",
       "</table>\n",
       "</div>"
      ]
     },
     "execution_count": 20,
     "metadata": {},
     "output_type": "execute_result"
    }
   ],
   "execution_count": 20
  },
  {
   "metadata": {
    "ExecuteTime": {
     "end_time": "2025-01-29T15:05:41.267386Z",
     "start_time": "2025-01-29T15:05:41.256245Z"
    }
   },
   "cell_type": "code",
   "source": [
    "# create DF from a two-dimensional array\n",
    "pd.DataFrame(np.random.rand(3, 2),\n",
    "             columns=['foo', 'bar'],\n",
    "             index=['a', 'b', 'c'])"
   ],
   "id": "9edf7aa67f19156c",
   "outputs": [
    {
     "data": {
      "text/plain": [
       "        foo       bar\n",
       "a  0.548139  0.370785\n",
       "b  0.776101  0.087069\n",
       "c  0.319419  0.366685"
      ],
      "text/html": [
       "<div>\n",
       "<style scoped>\n",
       "    .dataframe tbody tr th:only-of-type {\n",
       "        vertical-align: middle;\n",
       "    }\n",
       "\n",
       "    .dataframe tbody tr th {\n",
       "        vertical-align: top;\n",
       "    }\n",
       "\n",
       "    .dataframe thead th {\n",
       "        text-align: right;\n",
       "    }\n",
       "</style>\n",
       "<table border=\"1\" class=\"dataframe\">\n",
       "  <thead>\n",
       "    <tr style=\"text-align: right;\">\n",
       "      <th></th>\n",
       "      <th>foo</th>\n",
       "      <th>bar</th>\n",
       "    </tr>\n",
       "  </thead>\n",
       "  <tbody>\n",
       "    <tr>\n",
       "      <th>a</th>\n",
       "      <td>0.548139</td>\n",
       "      <td>0.370785</td>\n",
       "    </tr>\n",
       "    <tr>\n",
       "      <th>b</th>\n",
       "      <td>0.776101</td>\n",
       "      <td>0.087069</td>\n",
       "    </tr>\n",
       "    <tr>\n",
       "      <th>c</th>\n",
       "      <td>0.319419</td>\n",
       "      <td>0.366685</td>\n",
       "    </tr>\n",
       "  </tbody>\n",
       "</table>\n",
       "</div>"
      ]
     },
     "execution_count": 21,
     "metadata": {},
     "output_type": "execute_result"
    }
   ],
   "execution_count": 21
  },
  {
   "metadata": {},
   "cell_type": "markdown",
   "source": [
    "# Pandas indexing and selection\n",
    "\n",
    "## Selection in pandas series\n",
    "\n"
   ],
   "id": "2ecdd552dfe76785"
  },
  {
   "metadata": {
    "ExecuteTime": {
     "end_time": "2025-01-29T15:11:42.897305Z",
     "start_time": "2025-01-29T15:11:42.883325Z"
    }
   },
   "cell_type": "code",
   "source": [
    "data = pd.Series([0.25, 0.5, 0.75, 1.0],\n",
    "                  index = ['a', 'b', 'c', 'd'])\n",
    "data"
   ],
   "id": "99d12c8d2baa46f1",
   "outputs": [
    {
     "data": {
      "text/plain": [
       "a    0.25\n",
       "b    0.50\n",
       "c    0.75\n",
       "d    1.00\n",
       "dtype: float64"
      ]
     },
     "execution_count": 22,
     "metadata": {},
     "output_type": "execute_result"
    }
   ],
   "execution_count": 22
  },
  {
   "metadata": {
    "ExecuteTime": {
     "end_time": "2025-01-29T15:11:45.735551Z",
     "start_time": "2025-01-29T15:11:45.730720Z"
    }
   },
   "cell_type": "code",
   "source": "data['b']",
   "id": "964a209d2cae3444",
   "outputs": [
    {
     "data": {
      "text/plain": [
       "np.float64(0.5)"
      ]
     },
     "execution_count": 23,
     "metadata": {},
     "output_type": "execute_result"
    }
   ],
   "execution_count": 23
  },
  {
   "metadata": {
    "ExecuteTime": {
     "end_time": "2025-01-29T15:11:53.085205Z",
     "start_time": "2025-01-29T15:11:53.081963Z"
    }
   },
   "cell_type": "code",
   "source": [
    "# treat it as a dictionary to examine keys/indices and values\n",
    "'a' in data"
   ],
   "id": "4cca3e929343f4ef",
   "outputs": [
    {
     "data": {
      "text/plain": [
       "True"
      ]
     },
     "execution_count": 24,
     "metadata": {},
     "output_type": "execute_result"
    }
   ],
   "execution_count": 24
  },
  {
   "metadata": {
    "ExecuteTime": {
     "end_time": "2025-01-29T15:12:26.052471Z",
     "start_time": "2025-01-29T15:12:26.048148Z"
    }
   },
   "cell_type": "code",
   "source": "data.keys()",
   "id": "f45f637fb63c178",
   "outputs": [
    {
     "data": {
      "text/plain": [
       "Index(['a', 'b', 'c', 'd'], dtype='object')"
      ]
     },
     "execution_count": 25,
     "metadata": {},
     "output_type": "execute_result"
    }
   ],
   "execution_count": 25
  },
  {
   "metadata": {
    "ExecuteTime": {
     "end_time": "2025-01-29T15:12:32.048450Z",
     "start_time": "2025-01-29T15:12:32.042517Z"
    }
   },
   "cell_type": "code",
   "source": "list(data.items())",
   "id": "9fbbd3b1cbb75e15",
   "outputs": [
    {
     "data": {
      "text/plain": [
       "[('a', 0.25), ('b', 0.5), ('c', 0.75), ('d', 1.0)]"
      ]
     },
     "execution_count": 26,
     "metadata": {},
     "output_type": "execute_result"
    }
   ],
   "execution_count": 26
  },
  {
   "metadata": {
    "ExecuteTime": {
     "end_time": "2025-01-29T15:13:03.730881Z",
     "start_time": "2025-01-29T15:13:03.722230Z"
    }
   },
   "cell_type": "code",
   "source": [
    "# add new key-value pair\n",
    "data['e'] = 1.25\n",
    "data"
   ],
   "id": "7cc3968a66556732",
   "outputs": [
    {
     "data": {
      "text/plain": [
       "a    0.25\n",
       "b    0.50\n",
       "c    0.75\n",
       "d    1.00\n",
       "e    1.25\n",
       "dtype: float64"
      ]
     },
     "execution_count": 27,
     "metadata": {},
     "output_type": "execute_result"
    }
   ],
   "execution_count": 27
  },
  {
   "metadata": {
    "ExecuteTime": {
     "end_time": "2025-01-29T15:14:10.677855Z",
     "start_time": "2025-01-29T15:14:10.670030Z"
    }
   },
   "cell_type": "code",
   "source": [
    "# slicing by explicit index\n",
    "data['a':'c']"
   ],
   "id": "43b1cd4d3949d37b",
   "outputs": [
    {
     "data": {
      "text/plain": [
       "a    0.25\n",
       "b    0.50\n",
       "c    0.75\n",
       "dtype: float64"
      ]
     },
     "execution_count": 28,
     "metadata": {},
     "output_type": "execute_result"
    }
   ],
   "execution_count": 28
  },
  {
   "metadata": {
    "ExecuteTime": {
     "end_time": "2025-01-29T15:14:26.364481Z",
     "start_time": "2025-01-29T15:14:26.356724Z"
    }
   },
   "cell_type": "code",
   "source": [
    "# slicing by implicit integer index\n",
    "data[0:2]"
   ],
   "id": "35954dbf162bfdb9",
   "outputs": [
    {
     "data": {
      "text/plain": [
       "a    0.25\n",
       "b    0.50\n",
       "dtype: float64"
      ]
     },
     "execution_count": 29,
     "metadata": {},
     "output_type": "execute_result"
    }
   ],
   "execution_count": 29
  },
  {
   "metadata": {
    "ExecuteTime": {
     "end_time": "2025-01-29T15:14:54.185813Z",
     "start_time": "2025-01-29T15:14:54.180577Z"
    }
   },
   "cell_type": "code",
   "source": [
    "# masking (filter with boolean)\n",
    "data[(data>0.3)&(data <0.8)]"
   ],
   "id": "ea62a3399f01f96d",
   "outputs": [
    {
     "data": {
      "text/plain": [
       "b    0.50\n",
       "c    0.75\n",
       "dtype: float64"
      ]
     },
     "execution_count": 30,
     "metadata": {},
     "output_type": "execute_result"
    }
   ],
   "execution_count": 30
  },
  {
   "metadata": {
    "ExecuteTime": {
     "end_time": "2025-01-29T15:15:12.117913Z",
     "start_time": "2025-01-29T15:15:12.109422Z"
    }
   },
   "cell_type": "code",
   "source": [
    "# fancy indexing (basically list within a list)\n",
    "data[['a', 'e']]"
   ],
   "id": "f10f8cf18f7d4d62",
   "outputs": [
    {
     "data": {
      "text/plain": [
       "a    0.25\n",
       "e    1.25\n",
       "dtype: float64"
      ]
     },
     "execution_count": 31,
     "metadata": {},
     "output_type": "execute_result"
    }
   ],
   "execution_count": 31
  },
  {
   "metadata": {},
   "cell_type": "markdown",
   "source": [
    "# indexers: loc, iloc\n",
    "\n",
    "* loc attribute is for explicit indexing (user defined)\n",
    "* iloc is for implicit indexing (python style, starts from 0)\n"
   ],
   "id": "e4fa89e7b7236281"
  },
  {
   "metadata": {
    "ExecuteTime": {
     "end_time": "2025-01-31T16:30:50.693178Z",
     "start_time": "2025-01-31T16:30:50.681121Z"
    }
   },
   "cell_type": "code",
   "source": [
    "data = pd.Series(['a', 'b', 'c'], index = [1,3,5])\n",
    "# explicit index\n",
    "print(data[1])\n",
    "# implicit index when slicing, using the python style index\n",
    "print(data[1:3])"
   ],
   "id": "a10a732374c3c989",
   "outputs": [
    {
     "name": "stdout",
     "output_type": "stream",
     "text": [
      "a\n",
      "3    b\n",
      "5    c\n",
      "dtype: object\n"
     ]
    }
   ],
   "execution_count": 33
  },
  {
   "metadata": {
    "ExecuteTime": {
     "end_time": "2025-01-31T16:33:27.764962Z",
     "start_time": "2025-01-31T16:33:27.759321Z"
    }
   },
   "cell_type": "code",
   "source": [
    "# loc: forces the explict index - user defined\n",
    "print(data.loc[1])\n",
    "print(data.loc[1:3])"
   ],
   "id": "bde36d80db22b6af",
   "outputs": [
    {
     "name": "stdout",
     "output_type": "stream",
     "text": [
      "a\n",
      "1    a\n",
      "3    b\n",
      "dtype: object\n"
     ]
    }
   ],
   "execution_count": 35
  },
  {
   "metadata": {
    "ExecuteTime": {
     "end_time": "2025-01-31T16:33:29.946670Z",
     "start_time": "2025-01-31T16:33:29.941461Z"
    }
   },
   "cell_type": "code",
   "source": [
    "# iloc: implicit python style index\n",
    "print(data.iloc[1]) # 2nd\n",
    "print(data.iloc[1:3]) # 2,3rd"
   ],
   "id": "b7949744c1d2bbfe",
   "outputs": [
    {
     "name": "stdout",
     "output_type": "stream",
     "text": [
      "b\n",
      "3    b\n",
      "5    c\n",
      "dtype: object\n"
     ]
    }
   ],
   "execution_count": 36
  },
  {
   "metadata": {},
   "cell_type": "markdown",
   "source": "# data selection in DF\n",
   "id": "8b9d361dd55f0e25"
  },
  {
   "metadata": {},
   "cell_type": "markdown",
   "source": "# Index alignment",
   "id": "90cc3c3e6d6fd59d"
  },
  {
   "metadata": {
    "ExecuteTime": {
     "end_time": "2025-01-31T16:45:25.998138Z",
     "start_time": "2025-01-31T16:45:25.989467Z"
    }
   },
   "cell_type": "code",
   "source": [
    "# series\n",
    "# create two series\n",
    "area = pd.Series({'Alaska': 1723337, # unavailable population\n",
    "                  'Texas': 695662,\n",
    "                  'California': 423967},\n",
    "                 name='area')\n",
    "population = pd.Series({'California': 38332521,\n",
    "                        'Texas': 26448193,\n",
    "                        'New York': 19651127}, # unavailable area\n",
    "                       name='population')\n",
    "# divide to compute the population density, those with mismatches NaN\n",
    "population/area"
   ],
   "id": "1b98361e398f80fa",
   "outputs": [
    {
     "data": {
      "text/plain": [
       "Alaska              NaN\n",
       "California    90.413926\n",
       "New York            NaN\n",
       "Texas         38.018740\n",
       "dtype: float64"
      ]
     },
     "execution_count": 38,
     "metadata": {},
     "output_type": "execute_result"
    }
   ],
   "execution_count": 38
  },
  {
   "metadata": {
    "ExecuteTime": {
     "end_time": "2025-01-31T16:51:26.369678Z",
     "start_time": "2025-01-31T16:51:26.361515Z"
    }
   },
   "cell_type": "code",
   "source": [
    "# in dataframe\n",
    "rng = np.random.RandomState(42)\n",
    "A = pd.DataFrame(rng.randint(0, 20, (2, 2)),\n",
    "                 columns=list('AB'))\n",
    "A"
   ],
   "id": "b0101b48e1a5628f",
   "outputs": [
    {
     "data": {
      "text/plain": [
       "    A   B\n",
       "0   6  19\n",
       "1  14  10"
      ],
      "text/html": [
       "<div>\n",
       "<style scoped>\n",
       "    .dataframe tbody tr th:only-of-type {\n",
       "        vertical-align: middle;\n",
       "    }\n",
       "\n",
       "    .dataframe tbody tr th {\n",
       "        vertical-align: top;\n",
       "    }\n",
       "\n",
       "    .dataframe thead th {\n",
       "        text-align: right;\n",
       "    }\n",
       "</style>\n",
       "<table border=\"1\" class=\"dataframe\">\n",
       "  <thead>\n",
       "    <tr style=\"text-align: right;\">\n",
       "      <th></th>\n",
       "      <th>A</th>\n",
       "      <th>B</th>\n",
       "    </tr>\n",
       "  </thead>\n",
       "  <tbody>\n",
       "    <tr>\n",
       "      <th>0</th>\n",
       "      <td>6</td>\n",
       "      <td>19</td>\n",
       "    </tr>\n",
       "    <tr>\n",
       "      <th>1</th>\n",
       "      <td>14</td>\n",
       "      <td>10</td>\n",
       "    </tr>\n",
       "  </tbody>\n",
       "</table>\n",
       "</div>"
      ]
     },
     "execution_count": 49,
     "metadata": {},
     "output_type": "execute_result"
    }
   ],
   "execution_count": 49
  },
  {
   "metadata": {
    "ExecuteTime": {
     "end_time": "2025-01-31T16:46:06.930889Z",
     "start_time": "2025-01-31T16:46:06.926301Z"
    }
   },
   "cell_type": "code",
   "source": [
    "B = pd.DataFrame(rng.randint(0, 10, (3, 3)),\n",
    "                 columns=list('BAC'))\n",
    "B"
   ],
   "id": "c194b8e2b845bc7a",
   "outputs": [
    {
     "data": {
      "text/plain": [
       "   B  A  C\n",
       "0  7  4  6\n",
       "1  9  2  6\n",
       "2  7  4  3"
      ],
      "text/html": [
       "<div>\n",
       "<style scoped>\n",
       "    .dataframe tbody tr th:only-of-type {\n",
       "        vertical-align: middle;\n",
       "    }\n",
       "\n",
       "    .dataframe tbody tr th {\n",
       "        vertical-align: top;\n",
       "    }\n",
       "\n",
       "    .dataframe thead th {\n",
       "        text-align: right;\n",
       "    }\n",
       "</style>\n",
       "<table border=\"1\" class=\"dataframe\">\n",
       "  <thead>\n",
       "    <tr style=\"text-align: right;\">\n",
       "      <th></th>\n",
       "      <th>B</th>\n",
       "      <th>A</th>\n",
       "      <th>C</th>\n",
       "    </tr>\n",
       "  </thead>\n",
       "  <tbody>\n",
       "    <tr>\n",
       "      <th>0</th>\n",
       "      <td>7</td>\n",
       "      <td>4</td>\n",
       "      <td>6</td>\n",
       "    </tr>\n",
       "    <tr>\n",
       "      <th>1</th>\n",
       "      <td>9</td>\n",
       "      <td>2</td>\n",
       "      <td>6</td>\n",
       "    </tr>\n",
       "    <tr>\n",
       "      <th>2</th>\n",
       "      <td>7</td>\n",
       "      <td>4</td>\n",
       "      <td>3</td>\n",
       "    </tr>\n",
       "  </tbody>\n",
       "</table>\n",
       "</div>"
      ]
     },
     "execution_count": 41,
     "metadata": {},
     "output_type": "execute_result"
    }
   ],
   "execution_count": 41
  },
  {
   "metadata": {
    "ExecuteTime": {
     "end_time": "2025-01-31T16:46:33.904065Z",
     "start_time": "2025-01-31T16:46:33.887970Z"
    }
   },
   "cell_type": "code",
   "source": [
    "# this will match the rownames and colnames\n",
    "A+B"
   ],
   "id": "5242da27f8a29a04",
   "outputs": [
    {
     "data": {
      "text/plain": [
       "      A     B   C\n",
       "0  10.0  26.0 NaN\n",
       "1  16.0  19.0 NaN\n",
       "2   NaN   NaN NaN"
      ],
      "text/html": [
       "<div>\n",
       "<style scoped>\n",
       "    .dataframe tbody tr th:only-of-type {\n",
       "        vertical-align: middle;\n",
       "    }\n",
       "\n",
       "    .dataframe tbody tr th {\n",
       "        vertical-align: top;\n",
       "    }\n",
       "\n",
       "    .dataframe thead th {\n",
       "        text-align: right;\n",
       "    }\n",
       "</style>\n",
       "<table border=\"1\" class=\"dataframe\">\n",
       "  <thead>\n",
       "    <tr style=\"text-align: right;\">\n",
       "      <th></th>\n",
       "      <th>A</th>\n",
       "      <th>B</th>\n",
       "      <th>C</th>\n",
       "    </tr>\n",
       "  </thead>\n",
       "  <tbody>\n",
       "    <tr>\n",
       "      <th>0</th>\n",
       "      <td>10.0</td>\n",
       "      <td>26.0</td>\n",
       "      <td>NaN</td>\n",
       "    </tr>\n",
       "    <tr>\n",
       "      <th>1</th>\n",
       "      <td>16.0</td>\n",
       "      <td>19.0</td>\n",
       "      <td>NaN</td>\n",
       "    </tr>\n",
       "    <tr>\n",
       "      <th>2</th>\n",
       "      <td>NaN</td>\n",
       "      <td>NaN</td>\n",
       "      <td>NaN</td>\n",
       "    </tr>\n",
       "  </tbody>\n",
       "</table>\n",
       "</div>"
      ]
     },
     "execution_count": 42,
     "metadata": {},
     "output_type": "execute_result"
    }
   ],
   "execution_count": 42
  },
  {
   "metadata": {
    "ExecuteTime": {
     "end_time": "2025-01-31T16:50:35.729064Z",
     "start_time": "2025-01-31T16:50:35.724313Z"
    }
   },
   "cell_type": "code",
   "source": [
    "# can fill in the missing values with pre-defined fills\n",
    "fill = A.stack().mean() # this makes A a vector\n",
    "fill"
   ],
   "id": "de6a87b0741456c2",
   "outputs": [
    {
     "data": {
      "text/plain": [
       "np.float64(12.25)"
      ]
     },
     "execution_count": 47,
     "metadata": {},
     "output_type": "execute_result"
    }
   ],
   "execution_count": 47
  },
  {
   "metadata": {
    "ExecuteTime": {
     "end_time": "2025-01-31T16:50:37.623822Z",
     "start_time": "2025-01-31T16:50:37.616732Z"
    }
   },
   "cell_type": "code",
   "source": [
    "# it is A that is missing in the corresponding entries\n",
    "A.add(B, fill_value=0)\n",
    "A.add(B, fill_value=fill)"
   ],
   "id": "5633a0c43508303f",
   "outputs": [
    {
     "data": {
      "text/plain": [
       "       A      B      C\n",
       "0  10.00  26.00  18.25\n",
       "1  16.00  19.00  18.25\n",
       "2  16.25  19.25  15.25"
      ],
      "text/html": [
       "<div>\n",
       "<style scoped>\n",
       "    .dataframe tbody tr th:only-of-type {\n",
       "        vertical-align: middle;\n",
       "    }\n",
       "\n",
       "    .dataframe tbody tr th {\n",
       "        vertical-align: top;\n",
       "    }\n",
       "\n",
       "    .dataframe thead th {\n",
       "        text-align: right;\n",
       "    }\n",
       "</style>\n",
       "<table border=\"1\" class=\"dataframe\">\n",
       "  <thead>\n",
       "    <tr style=\"text-align: right;\">\n",
       "      <th></th>\n",
       "      <th>A</th>\n",
       "      <th>B</th>\n",
       "      <th>C</th>\n",
       "    </tr>\n",
       "  </thead>\n",
       "  <tbody>\n",
       "    <tr>\n",
       "      <th>0</th>\n",
       "      <td>10.00</td>\n",
       "      <td>26.00</td>\n",
       "      <td>18.25</td>\n",
       "    </tr>\n",
       "    <tr>\n",
       "      <th>1</th>\n",
       "      <td>16.00</td>\n",
       "      <td>19.00</td>\n",
       "      <td>18.25</td>\n",
       "    </tr>\n",
       "    <tr>\n",
       "      <th>2</th>\n",
       "      <td>16.25</td>\n",
       "      <td>19.25</td>\n",
       "      <td>15.25</td>\n",
       "    </tr>\n",
       "  </tbody>\n",
       "</table>\n",
       "</div>"
      ]
     },
     "execution_count": 48,
     "metadata": {},
     "output_type": "execute_result"
    }
   ],
   "execution_count": 48
  },
  {
   "metadata": {
    "ExecuteTime": {
     "end_time": "2025-01-31T16:52:53.321334Z",
     "start_time": "2025-01-31T16:52:53.315869Z"
    }
   },
   "cell_type": "code",
   "source": "",
   "id": "4f1aa098c62b11ea",
   "outputs": [
    {
     "data": {
      "text/plain": [
       "      A     B    C\n",
       "0  10.0  26.0  6.0\n",
       "1  16.0  19.0  6.0\n",
       "2   4.0   7.0  3.0"
      ],
      "text/html": [
       "<div>\n",
       "<style scoped>\n",
       "    .dataframe tbody tr th:only-of-type {\n",
       "        vertical-align: middle;\n",
       "    }\n",
       "\n",
       "    .dataframe tbody tr th {\n",
       "        vertical-align: top;\n",
       "    }\n",
       "\n",
       "    .dataframe thead th {\n",
       "        text-align: right;\n",
       "    }\n",
       "</style>\n",
       "<table border=\"1\" class=\"dataframe\">\n",
       "  <thead>\n",
       "    <tr style=\"text-align: right;\">\n",
       "      <th></th>\n",
       "      <th>A</th>\n",
       "      <th>B</th>\n",
       "      <th>C</th>\n",
       "    </tr>\n",
       "  </thead>\n",
       "  <tbody>\n",
       "    <tr>\n",
       "      <th>0</th>\n",
       "      <td>10.0</td>\n",
       "      <td>26.0</td>\n",
       "      <td>6.0</td>\n",
       "    </tr>\n",
       "    <tr>\n",
       "      <th>1</th>\n",
       "      <td>16.0</td>\n",
       "      <td>19.0</td>\n",
       "      <td>6.0</td>\n",
       "    </tr>\n",
       "    <tr>\n",
       "      <th>2</th>\n",
       "      <td>4.0</td>\n",
       "      <td>7.0</td>\n",
       "      <td>3.0</td>\n",
       "    </tr>\n",
       "  </tbody>\n",
       "</table>\n",
       "</div>"
      ]
     },
     "execution_count": 52,
     "metadata": {},
     "output_type": "execute_result"
    }
   ],
   "execution_count": 52
  },
  {
   "metadata": {},
   "cell_type": "code",
   "outputs": [],
   "execution_count": null,
   "source": "",
   "id": "5f508b938cb292ae"
  }
 ],
 "metadata": {
  "kernelspec": {
   "display_name": "Python 3",
   "language": "python",
   "name": "python3"
  },
  "language_info": {
   "codemirror_mode": {
    "name": "ipython",
    "version": 2
   },
   "file_extension": ".py",
   "mimetype": "text/x-python",
   "name": "python",
   "nbconvert_exporter": "python",
   "pygments_lexer": "ipython2",
   "version": "2.7.6"
  }
 },
 "nbformat": 4,
 "nbformat_minor": 5
}
